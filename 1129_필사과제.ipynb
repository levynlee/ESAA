{
  "nbformat": 4,
  "nbformat_minor": 0,
  "metadata": {
    "colab": {
      "provenance": [],
      "authorship_tag": "ABX9TyPBzXX6ip7e9037FtZpFdzR",
      "include_colab_link": true
    },
    "kernelspec": {
      "name": "python3",
      "display_name": "Python 3"
    },
    "language_info": {
      "name": "python"
    }
  },
  "cells": [
    {
      "cell_type": "markdown",
      "metadata": {
        "id": "view-in-github",
        "colab_type": "text"
      },
      "source": [
        "<a href=\"https://colab.research.google.com/github/levynlee/ESAA/blob/main/1129_%ED%95%84%EC%82%AC%EA%B3%BC%EC%A0%9C.ipynb\" target=\"_parent\"><img src=\"https://colab.research.google.com/assets/colab-badge.svg\" alt=\"Open In Colab\"/></a>"
      ]
    },
    {
      "cell_type": "markdown",
      "source": [
        "https://wikidocs.net/52460"
      ],
      "metadata": {
        "id": "txZQSPvAnwSy"
      }
    },
    {
      "cell_type": "markdown",
      "source": [
        "## **02. [기초] - 파이토치 기초(PyTorch Basic)**"
      ],
      "metadata": {
        "id": "TOGZcW1gjKdI"
      }
    },
    {
      "cell_type": "markdown",
      "source": [
        "##**02-01. 파이토치 패키지의 기본 구성**"
      ],
      "metadata": {
        "id": "FfBne8L0jKbC"
      }
    },
    {
      "cell_type": "markdown",
      "source": [
        "###**1. torch**\n",
        "---\n",
        "메인 네임스페이스이다. 텐서 등의 다양한 수학 함수가 포함되어 있으며 Numpy와 유사한 구조를 가진다.  \n",
        "\n",
        "###**2. torch.autograd**\n",
        "---\n",
        "\n",
        "자동 미분을 위한 함수들이 포함되어 있다. 자동 미분의 on/off를 제어하는 콘텍스트 매니저(enable_grad/no_grad)나 자체 미분 가능 함수를 정의할 때 사용하는 기반 클래스인 Function 등이 포함된다.  \n",
        "\n",
        "###**3. torch.nn**\n",
        "---\n",
        "신경망을 구축하기 위한 다양한 데이터 구조나 레이어 등이 정의되어 있다. 예를 들어 RNN, LSTM과 같은 레이어, ReLU와 같은 활성화 함수, MSELoss와 같은 손실 함수들이 있다.  \n",
        "\n",
        "###**4. torch.optim**\n",
        "___\n",
        "확률적 경사 하강법(SGD)를 중심으로 한 파라미터 최적화 알고리즘이 구현되어 있다.  \n",
        "\n",
        "###**5. torch.utils.data**\n",
        "___\n",
        "SGD의 반복 연산을 실행할 때 사용하는 미니 배치용 유틸리티 함수가 포함되어 있다.  \n",
        "\n",
        "###**6. torch.onnx**  \n",
        "___\n",
        "ONNX(Open Neural Network Exchange)의 포맷으로 모델을 익스포트(export)할 때 사용한다. ONNX는 서로 다른 딥 러닝 프레임워크 간에 모델을 공유할 때 사용하는 포맷이다.\n"
      ],
      "metadata": {
        "id": "9XYZvdf0kNkv"
      }
    },
    {
      "cell_type": "markdown",
      "source": [
        "##**02-02. 텐서 조작하기(Tensor Manipulation)**"
      ],
      "metadata": {
        "id": "eS9ZmMEIjKYn"
      }
    },
    {
      "cell_type": "markdown",
      "source": [
        "차원이 없는 값을 스칼라, 1차원으로 구성된 값을 벡터 (1차원 텐서) 라고 한다. 2차원으로 구성된 값을 행렬 (2차원 텐서) 이라고 하며, 3차원 이상이 되면 일반적으로 텐서 (n차원 텐서) 라고 부른다.  \n",
        "\n",
        "- 2D Tensor (Typical Simple Setting): |t| = (Batch size, dim)  \n",
        "- 3D Tensor (Typical Computer Vision): |t| = (batch size, width, height)\n",
        "- 3D Tensor (Typical Natural Language Processing): |t| = (batch size, length, dim)"
      ],
      "metadata": {
        "id": "5hZA9fGhlkFP"
      }
    },
    {
      "cell_type": "markdown",
      "source": [
        "넘파이로 텐서 만들기"
      ],
      "metadata": {
        "id": "l_wjQbEEnJN3"
      }
    },
    {
      "cell_type": "code",
      "source": [
        "import numpy as np"
      ],
      "metadata": {
        "id": "oqexPN7unQrf"
      },
      "execution_count": null,
      "outputs": []
    },
    {
      "cell_type": "code",
      "source": [
        "# 1D with numpy\n",
        "t = np.array([0.,1.,2.,3.,4.,5.,6.])\n",
        "print(t)"
      ],
      "metadata": {
        "colab": {
          "base_uri": "https://localhost:8080/"
        },
        "id": "ntaBTYhwnWJw",
        "outputId": "54b8c7e6-ef9a-49d9-fca0-b5ecf008eada"
      },
      "execution_count": null,
      "outputs": [
        {
          "output_type": "stream",
          "name": "stdout",
          "text": [
            "[0. 1. 2. 3. 4. 5. 6.]\n"
          ]
        }
      ]
    },
    {
      "cell_type": "code",
      "source": [
        "# 1차원 텐서인 벡터의 차원과 크기 출력\n",
        "print('Rank of t: ', t.ndim)\n",
        "print('Shape of t: ', t.shape)"
      ],
      "metadata": {
        "colab": {
          "base_uri": "https://localhost:8080/"
        },
        "id": "m0kOp3vbngL_",
        "outputId": "0404980c-b736-4447-8359-3b8c613302bc"
      },
      "execution_count": null,
      "outputs": [
        {
          "output_type": "stream",
          "name": "stdout",
          "text": [
            "Rank of t:  1\n",
            "Shape of t:  (7,)\n"
          ]
        }
      ]
    },
    {
      "cell_type": "code",
      "source": [
        "print('t[0] t[1], t[-1] = ', t[0], t[1], t[-1]) # 인덱스를 통한 각 벡터의 원소 접근"
      ],
      "metadata": {
        "colab": {
          "base_uri": "https://localhost:8080/"
        },
        "id": "Pt-fH8p1n2JY",
        "outputId": "36c4d6b4-ab57-41aa-edfb-00de2dadc1ff"
      },
      "execution_count": null,
      "outputs": [
        {
          "output_type": "stream",
          "name": "stdout",
          "text": [
            "t[0] t[1], t[-1] =  0.0 1.0 6.0\n"
          ]
        }
      ]
    },
    {
      "cell_type": "code",
      "source": [
        "print('t[2:5] t[4:-1] = ', t[2:5], t[4:-1]) # [시작 번호 : 끝 번호]로 범위 지정을 통해 원소 불러오기 (슬라이싱)"
      ],
      "metadata": {
        "colab": {
          "base_uri": "https://localhost:8080/"
        },
        "id": "4Dw78e7UoHpY",
        "outputId": "1a66ca10-14bb-4622-f771-fd4a74b554dc"
      },
      "execution_count": null,
      "outputs": [
        {
          "output_type": "stream",
          "name": "stdout",
          "text": [
            "t[2:5] t[4:-1] =  [2. 3. 4.] [4. 5.]\n"
          ]
        }
      ]
    },
    {
      "cell_type": "code",
      "source": [
        "print('t[:2] t[3:] =', t[:2], t[3:]) # 시작 번호를 생략한 경우와 끝 번호를 생략한 경우"
      ],
      "metadata": {
        "colab": {
          "base_uri": "https://localhost:8080/"
        },
        "id": "R6ACSzkAobB4",
        "outputId": "b97bdc37-a822-43dd-95ae-1542c65c7db9"
      },
      "execution_count": null,
      "outputs": [
        {
          "output_type": "stream",
          "name": "stdout",
          "text": [
            "t[:2] t[3:] = [0. 1.] [3. 4. 5. 6.]\n"
          ]
        }
      ]
    },
    {
      "cell_type": "code",
      "source": [
        "# numpy로 2차원 행렬 만들기\n",
        "t = np.array([[1.,2.,3.], [4.,5.,6.], [7.,8.,9.], [10.,11.,12.]])\n",
        "print(t)"
      ],
      "metadata": {
        "colab": {
          "base_uri": "https://localhost:8080/"
        },
        "id": "7RZwDhV9opTS",
        "outputId": "ca2eb5f2-d3f8-4f16-920d-d03ad5bacfa0"
      },
      "execution_count": null,
      "outputs": [
        {
          "output_type": "stream",
          "name": "stdout",
          "text": [
            "[[ 1.  2.  3.]\n",
            " [ 4.  5.  6.]\n",
            " [ 7.  8.  9.]\n",
            " [10. 11. 12.]]\n"
          ]
        }
      ]
    },
    {
      "cell_type": "code",
      "source": [
        "print('Rank of t:', t.ndim)\n",
        "print('Shape of t:', t.shape)"
      ],
      "metadata": {
        "colab": {
          "base_uri": "https://localhost:8080/"
        },
        "id": "P8Ud60-_o0DQ",
        "outputId": "b4901c25-3df7-4bfb-b5f3-49072046c29b"
      },
      "execution_count": null,
      "outputs": [
        {
          "output_type": "stream",
          "name": "stdout",
          "text": [
            "Rank of t: 2\n",
            "Shape of t: (4, 3)\n"
          ]
        }
      ]
    },
    {
      "cell_type": "markdown",
      "source": [
        "파이토치 텐서 선언하기"
      ],
      "metadata": {
        "id": "oEEfh3VRo9Df"
      }
    },
    {
      "cell_type": "code",
      "source": [
        "import torch"
      ],
      "metadata": {
        "id": "Typ0qjFto8mQ"
      },
      "execution_count": null,
      "outputs": []
    },
    {
      "cell_type": "code",
      "source": [
        "# 파이토치로 1차원 텐서인 벡터 만들기\n",
        "t = torch.FloatTensor([0.,1.,2.,3.,4.,5.,6.])\n",
        "print(t)"
      ],
      "metadata": {
        "colab": {
          "base_uri": "https://localhost:8080/"
        },
        "id": "XOk5hybBpC6w",
        "outputId": "d6c786c1-fae2-439d-a196-401ffc090dba"
      },
      "execution_count": null,
      "outputs": [
        {
          "output_type": "stream",
          "name": "stdout",
          "text": [
            "tensor([0., 1., 2., 3., 4., 5., 6.])\n"
          ]
        }
      ]
    },
    {
      "cell_type": "code",
      "source": [
        "print(t.dim()) # rank. 즉, 차원\n",
        "print(t.shape) # shape\n",
        "print(t.size()) # shape"
      ],
      "metadata": {
        "colab": {
          "base_uri": "https://localhost:8080/"
        },
        "id": "uVpIOYAnpLB_",
        "outputId": "f5b0b7b0-28b0-4d25-f1d5-3489e7da657b"
      },
      "execution_count": null,
      "outputs": [
        {
          "output_type": "stream",
          "name": "stdout",
          "text": [
            "1\n",
            "torch.Size([7])\n",
            "torch.Size([7])\n"
          ]
        }
      ]
    },
    {
      "cell_type": "code",
      "source": [
        "print(t[0], t[1], t[-1]) # 인덱스로 접근\n",
        "print(t[2:5], t[4:-1]) # 슬라이싱\n",
        "print(t[:2], t[3:]) # 슬라이싱"
      ],
      "metadata": {
        "colab": {
          "base_uri": "https://localhost:8080/"
        },
        "id": "sTxFwnwEpZBv",
        "outputId": "f0fbc1c0-ef5a-4846-acb1-d20b00bd5e6d"
      },
      "execution_count": null,
      "outputs": [
        {
          "output_type": "stream",
          "name": "stdout",
          "text": [
            "tensor(0.) tensor(1.) tensor(6.)\n",
            "tensor([2., 3., 4.]) tensor([4., 5.])\n",
            "tensor([0., 1.]) tensor([3., 4., 5., 6.])\n"
          ]
        }
      ]
    },
    {
      "cell_type": "code",
      "source": [
        "# 파이토치로 2차원 텐서인 행렬 만들기\n",
        "t = torch.FloatTensor([[1.,2.,3.],\n",
        "                       [4.,5.,6.],\n",
        "                       [7.,8.,9.],\n",
        "                       [10.,11.,12.]])\n",
        "print(t)"
      ],
      "metadata": {
        "colab": {
          "base_uri": "https://localhost:8080/"
        },
        "id": "MyzSTUbPpqP_",
        "outputId": "ed83c187-4d46-43fe-e582-3beae0c42dfc"
      },
      "execution_count": null,
      "outputs": [
        {
          "output_type": "stream",
          "name": "stdout",
          "text": [
            "tensor([[ 1.,  2.,  3.],\n",
            "        [ 4.,  5.,  6.],\n",
            "        [ 7.,  8.,  9.],\n",
            "        [10., 11., 12.]])\n"
          ]
        }
      ]
    },
    {
      "cell_type": "code",
      "source": [
        "print(t.dim()) # rank. 즉, 차원\n",
        "print(t.size()) # shape"
      ],
      "metadata": {
        "colab": {
          "base_uri": "https://localhost:8080/"
        },
        "id": "8AhZpfVzp60Q",
        "outputId": "6b63522a-2d96-4aa6-b909-1de45f391830"
      },
      "execution_count": null,
      "outputs": [
        {
          "output_type": "stream",
          "name": "stdout",
          "text": [
            "2\n",
            "torch.Size([4, 3])\n"
          ]
        }
      ]
    },
    {
      "cell_type": "code",
      "source": [
        "print(t[:, 1]) # 첫번째 차원을 전체 선택한 상황에서 두번째 차원의 첫번째 것만 가져온다.\n",
        "print(t[:, 1].size()) # 위의 경우의 크기"
      ],
      "metadata": {
        "colab": {
          "base_uri": "https://localhost:8080/"
        },
        "id": "2qSNfP4uqBiI",
        "outputId": "05434aae-1dc0-4b2c-f82b-9a6abff67910"
      },
      "execution_count": null,
      "outputs": [
        {
          "output_type": "stream",
          "name": "stdout",
          "text": [
            "tensor([ 2.,  5.,  8., 11.])\n",
            "torch.Size([4])\n"
          ]
        }
      ]
    },
    {
      "cell_type": "code",
      "source": [
        "print(t[:, :-1]) # 첫번째 차원을 전체 선택한 상황에서 두번째 차원에서는 맨 마지막에서 첫번째를 제외하고 다 가져온다."
      ],
      "metadata": {
        "colab": {
          "base_uri": "https://localhost:8080/"
        },
        "id": "4GRgbLNPqOL4",
        "outputId": "7edeb2f4-f1a6-4a78-f908-99ae0570433c"
      },
      "execution_count": null,
      "outputs": [
        {
          "output_type": "stream",
          "name": "stdout",
          "text": [
            "tensor([[ 1.,  2.],\n",
            "        [ 4.,  5.],\n",
            "        [ 7.,  8.],\n",
            "        [10., 11.]])\n"
          ]
        }
      ]
    },
    {
      "cell_type": "markdown",
      "source": [
        "브로드캐스팅  \n",
        "- 딥 러닝을 하는 과정에서 불가피하게 크기가 다른 행렬 또는 텐서에 대해서 사칙 연산을 수행하는 경우가 생긴다. 이를 위해 파이토치에서는 자동으로 크기를 맞춰서 연산을 수행하게 만드는 브로드캐스팅이라는 기능을 제공한다."
      ],
      "metadata": {
        "id": "s37JulwZqYAf"
      }
    },
    {
      "cell_type": "code",
      "source": [
        "# 같은 크기일 때\n",
        "m1 = torch.FloatTensor([[3,3]])\n",
        "m2 = torch.FloatTensor([[2,2]])\n",
        "print(m1+m2)"
      ],
      "metadata": {
        "colab": {
          "base_uri": "https://localhost:8080/"
        },
        "id": "-cfftpQoqWSI",
        "outputId": "8b53a359-ebd7-4f10-d9e3-4dabec6f8f5b"
      },
      "execution_count": null,
      "outputs": [
        {
          "output_type": "stream",
          "name": "stdout",
          "text": [
            "tensor([[5., 5.]])\n"
          ]
        }
      ]
    },
    {
      "cell_type": "code",
      "source": [
        "# 크기가 다른 경우\n",
        "# Vector + scalar\n",
        "m1 = torch.FloatTensor([[1,2]])\n",
        "m2 = torch.FloatTensor([3]) # [3] -> [3,3]\n",
        "print(m1+m2)"
      ],
      "metadata": {
        "colab": {
          "base_uri": "https://localhost:8080/"
        },
        "id": "MXvXb-16q23w",
        "outputId": "7c965429-c5fa-4d9f-9bbc-9a2f366329e3"
      },
      "execution_count": null,
      "outputs": [
        {
          "output_type": "stream",
          "name": "stdout",
          "text": [
            "tensor([[4., 5.]])\n"
          ]
        }
      ]
    },
    {
      "cell_type": "code",
      "source": [
        "# 크기가 다른 경우\n",
        "# 2x1 Vector + 1x2 Vector\n",
        "m1 = torch.FloatTensor([[1,2]])\n",
        "m2 = torch.FloatTensor([[3],[4]])\n",
        "print(m1+m2)"
      ],
      "metadata": {
        "colab": {
          "base_uri": "https://localhost:8080/"
        },
        "id": "GJgpDm-mrHTI",
        "outputId": "28e09d70-c5d1-4cfb-e5eb-c85352d37dee"
      },
      "execution_count": null,
      "outputs": [
        {
          "output_type": "stream",
          "name": "stdout",
          "text": [
            "tensor([[4., 5.],\n",
            "        [5., 6.]])\n"
          ]
        }
      ]
    },
    {
      "cell_type": "markdown",
      "source": [
        "자주 사용되는 기능들"
      ],
      "metadata": {
        "id": "FuVhOww3rhdo"
      }
    },
    {
      "cell_type": "markdown",
      "source": [
        "(1) 행렬 곱셈(.matmul)과 원소 별 곱셈(.mul)\n"
      ],
      "metadata": {
        "id": "2xYkydHVr6Tw"
      }
    },
    {
      "cell_type": "code",
      "source": [
        "# 파이토치의 행렬 곱셈\n",
        "m1 = torch.FloatTensor([[1,2],[3,4]])\n",
        "m2 = torch.FloatTensor([[1],[2]])\n",
        "print('Shape of Matrix 1: ', m1.shape) # 2x2\n",
        "print('Shape of Matrix 2: ', m2.shape) # 2x1\n",
        "print(m1.matmul(m2)) # 2x1"
      ],
      "metadata": {
        "colab": {
          "base_uri": "https://localhost:8080/"
        },
        "id": "abLptMVCrqcA",
        "outputId": "803035c6-79ed-423e-ba4e-bf4462443b53"
      },
      "execution_count": null,
      "outputs": [
        {
          "output_type": "stream",
          "name": "stdout",
          "text": [
            "Shape of Matrix 1:  torch.Size([2, 2])\n",
            "Shape of Matrix 2:  torch.Size([2, 1])\n",
            "tensor([[ 5.],\n",
            "        [11.]])\n"
          ]
        }
      ]
    },
    {
      "cell_type": "code",
      "source": [
        "# 파이토치의 원소 별 곱셈\n",
        "m1 = torch.FloatTensor([[1,2],[3,4]])\n",
        "m2 = torch.FloatTensor([[1],[2]])\n",
        "print('Shape of Matrix 1: ', m1.shape) # 2x2\n",
        "print('Shape of Matrix 2: ', m2.shape) # 2x1\n",
        "print(m1 * m2) # 2x2\n",
        "print(m1.mul(m2))"
      ],
      "metadata": {
        "colab": {
          "base_uri": "https://localhost:8080/"
        },
        "id": "tQDxGOZbsUNY",
        "outputId": "5b791931-2c7b-4d42-94ae-b8e81c0c2734"
      },
      "execution_count": null,
      "outputs": [
        {
          "output_type": "stream",
          "name": "stdout",
          "text": [
            "Shape of Matrix 1:  torch.Size([2, 2])\n",
            "Shape of Matrix 2:  torch.Size([2, 1])\n",
            "tensor([[1., 2.],\n",
            "        [6., 8.]])\n",
            "tensor([[1., 2.],\n",
            "        [6., 8.]])\n"
          ]
        }
      ]
    },
    {
      "cell_type": "markdown",
      "source": [
        "(2) 평균(Mean)"
      ],
      "metadata": {
        "id": "RCWAfEy6suhY"
      }
    },
    {
      "cell_type": "code",
      "source": [
        "# 1차원 벡터\n",
        "t = torch.FloatTensor([1,2])\n",
        "print(t.mean())"
      ],
      "metadata": {
        "colab": {
          "base_uri": "https://localhost:8080/"
        },
        "id": "4KLLdhKdsqbA",
        "outputId": "c16779ff-4a8f-4b7f-be20-cb6af7c9c567"
      },
      "execution_count": null,
      "outputs": [
        {
          "output_type": "stream",
          "name": "stdout",
          "text": [
            "tensor(1.5000)\n"
          ]
        }
      ]
    },
    {
      "cell_type": "code",
      "source": [
        "# 2차원 행렬\n",
        "t = torch.FloatTensor([[1,2],[3,4]])\n",
        "print(t)"
      ],
      "metadata": {
        "colab": {
          "base_uri": "https://localhost:8080/"
        },
        "id": "wsv2dUajs4i4",
        "outputId": "56a60281-0488-4826-df15-f398f68bc10a"
      },
      "execution_count": null,
      "outputs": [
        {
          "output_type": "stream",
          "name": "stdout",
          "text": [
            "tensor([[1., 2.],\n",
            "        [3., 4.]])\n"
          ]
        }
      ]
    },
    {
      "cell_type": "code",
      "source": [
        "print(t.mean())"
      ],
      "metadata": {
        "colab": {
          "base_uri": "https://localhost:8080/"
        },
        "id": "X3uKz1wVtBLg",
        "outputId": "00aab4a9-0cb2-4d1b-d0fd-0d2d5633d7fa"
      },
      "execution_count": null,
      "outputs": [
        {
          "output_type": "stream",
          "name": "stdout",
          "text": [
            "tensor(2.5000)\n"
          ]
        }
      ]
    },
    {
      "cell_type": "code",
      "source": [
        "print(t.mean(dim=0))"
      ],
      "metadata": {
        "colab": {
          "base_uri": "https://localhost:8080/"
        },
        "id": "dB--tUvMtEfv",
        "outputId": "fba218b0-5bea-412b-d8c2-0e203667da99"
      },
      "execution_count": null,
      "outputs": [
        {
          "output_type": "stream",
          "name": "stdout",
          "text": [
            "tensor([2., 3.])\n"
          ]
        }
      ]
    },
    {
      "cell_type": "code",
      "source": [
        "print(t.mean(dim=1))"
      ],
      "metadata": {
        "colab": {
          "base_uri": "https://localhost:8080/"
        },
        "id": "wRgbvH3OtLGQ",
        "outputId": "e8788d75-ab64-487f-a578-bb747d2087ce"
      },
      "execution_count": null,
      "outputs": [
        {
          "output_type": "stream",
          "name": "stdout",
          "text": [
            "tensor([1.5000, 3.5000])\n"
          ]
        }
      ]
    },
    {
      "cell_type": "code",
      "source": [
        "print(t.mean(dim=-1))"
      ],
      "metadata": {
        "colab": {
          "base_uri": "https://localhost:8080/"
        },
        "id": "08Dz3_YEtQu4",
        "outputId": "4afec4e2-75f6-44a9-9470-be5486b87d52"
      },
      "execution_count": null,
      "outputs": [
        {
          "output_type": "stream",
          "name": "stdout",
          "text": [
            "tensor([1.5000, 3.5000])\n"
          ]
        }
      ]
    },
    {
      "cell_type": "markdown",
      "source": [
        "(3) 덧셈(Sum)"
      ],
      "metadata": {
        "id": "nH30foX3tVYY"
      }
    },
    {
      "cell_type": "code",
      "source": [
        "t = torch.FloatTensor([[1,2],[3,4]])\n",
        "print(t)"
      ],
      "metadata": {
        "colab": {
          "base_uri": "https://localhost:8080/"
        },
        "id": "-n5Sv2uXtU04",
        "outputId": "dff5e6fe-e2ce-4087-cad2-0fb44b3f6208"
      },
      "execution_count": null,
      "outputs": [
        {
          "output_type": "stream",
          "name": "stdout",
          "text": [
            "tensor([[1., 2.],\n",
            "        [3., 4.]])\n"
          ]
        }
      ]
    },
    {
      "cell_type": "code",
      "source": [
        "print(t.sum()) # 단순히 원소 전체의 덧셈을 수행\n",
        "print(t.sum(dim=0)) # 행을 제거\n",
        "print(t.sum(dim=1)) # 열을 제거\n",
        "print(t.sum(dim=-1)) # 열을 제거"
      ],
      "metadata": {
        "colab": {
          "base_uri": "https://localhost:8080/"
        },
        "id": "29w3y6dRtcHx",
        "outputId": "c3cf66e7-8347-4454-edcb-d9fd4e1a2b02"
      },
      "execution_count": null,
      "outputs": [
        {
          "output_type": "stream",
          "name": "stdout",
          "text": [
            "tensor(10.)\n",
            "tensor([4., 6.])\n",
            "tensor([3., 7.])\n",
            "tensor([3., 7.])\n"
          ]
        }
      ]
    },
    {
      "cell_type": "markdown",
      "source": [
        "(4) 최대(Max)와 아그맥스(ArgMax)"
      ],
      "metadata": {
        "id": "VdS5mR6btmzw"
      }
    },
    {
      "cell_type": "code",
      "source": [
        "t = torch.FloatTensor([[1,2],[3,4]])\n",
        "print(t)"
      ],
      "metadata": {
        "colab": {
          "base_uri": "https://localhost:8080/"
        },
        "id": "zaKLDnM4tmgY",
        "outputId": "24557b70-2adb-434f-962f-bdfe4921f4ac"
      },
      "execution_count": null,
      "outputs": [
        {
          "output_type": "stream",
          "name": "stdout",
          "text": [
            "tensor([[1., 2.],\n",
            "        [3., 4.]])\n"
          ]
        }
      ]
    },
    {
      "cell_type": "code",
      "source": [
        "print(t.max()) # Returns one value: max"
      ],
      "metadata": {
        "colab": {
          "base_uri": "https://localhost:8080/"
        },
        "id": "4P6UXcnMtw4X",
        "outputId": "c2205aa1-02a7-4ee5-d7a2-03a6b7314618"
      },
      "execution_count": null,
      "outputs": [
        {
          "output_type": "stream",
          "name": "stdout",
          "text": [
            "tensor(4.)\n"
          ]
        }
      ]
    },
    {
      "cell_type": "code",
      "source": [
        "print(t.max(dim=0)) # Returns two values: max and argmax"
      ],
      "metadata": {
        "colab": {
          "base_uri": "https://localhost:8080/"
        },
        "id": "tisTJKUVt2AY",
        "outputId": "223252d9-03d5-48d5-bf79-3a987a1708ea"
      },
      "execution_count": null,
      "outputs": [
        {
          "output_type": "stream",
          "name": "stdout",
          "text": [
            "torch.return_types.max(\n",
            "values=tensor([3., 4.]),\n",
            "indices=tensor([1, 1]))\n"
          ]
        }
      ]
    },
    {
      "cell_type": "code",
      "source": [
        "print('Max: ', t.max(dim=0)[0])\n",
        "print('Argmax: ', t.max(dim=0)[1])"
      ],
      "metadata": {
        "colab": {
          "base_uri": "https://localhost:8080/"
        },
        "id": "GgB0DMNEt_P4",
        "outputId": "43093f7e-0e08-48fc-88b1-c0a308dfa7bb"
      },
      "execution_count": null,
      "outputs": [
        {
          "output_type": "stream",
          "name": "stdout",
          "text": [
            "Max:  tensor([3., 4.])\n",
            "Argmax:  tensor([1, 1])\n"
          ]
        }
      ]
    },
    {
      "cell_type": "code",
      "source": [
        "print(t.max(dim=1))\n",
        "print(t.max(dim=-1))"
      ],
      "metadata": {
        "colab": {
          "base_uri": "https://localhost:8080/"
        },
        "id": "omT09CFYuHc5",
        "outputId": "b3db5523-9be2-4e6e-a961-5a5479fafe6b"
      },
      "execution_count": null,
      "outputs": [
        {
          "output_type": "stream",
          "name": "stdout",
          "text": [
            "torch.return_types.max(\n",
            "values=tensor([2., 4.]),\n",
            "indices=tensor([1, 1]))\n",
            "torch.return_types.max(\n",
            "values=tensor([2., 4.]),\n",
            "indices=tensor([1, 1]))\n"
          ]
        }
      ]
    },
    {
      "cell_type": "markdown",
      "source": [
        "(5) 뷰(View) - 원소의 수를 유지하면서 텐서 크기 변경. 매우 중요!"
      ],
      "metadata": {
        "id": "tpNDxlPpuN1w"
      }
    },
    {
      "cell_type": "code",
      "source": [
        "t = np.array([[[0,1,2],\n",
        "               [3,4,5]],\n",
        "               [[6,7,8],\n",
        "                [9,10,11]]])\n",
        "ft = torch.FloatTensor(t)"
      ],
      "metadata": {
        "id": "0WgIig8iuTyx"
      },
      "execution_count": null,
      "outputs": []
    },
    {
      "cell_type": "code",
      "source": [
        "print(ft.shape)"
      ],
      "metadata": {
        "colab": {
          "base_uri": "https://localhost:8080/"
        },
        "id": "gtpykq56uk9w",
        "outputId": "736311b9-982c-459c-9d71-9baf96a4e384"
      },
      "execution_count": null,
      "outputs": [
        {
          "output_type": "stream",
          "name": "stdout",
          "text": [
            "torch.Size([2, 2, 3])\n"
          ]
        }
      ]
    },
    {
      "cell_type": "code",
      "source": [
        "# 3차원 텐서에서 2차원 텐서로 변경\n",
        "print(ft.view([-1, 3])) # ft라는 텐서를 (?, 3)의 크기로 변경\n",
        "print(ft.view([-1, 3]).shape)"
      ],
      "metadata": {
        "colab": {
          "base_uri": "https://localhost:8080/"
        },
        "id": "zM2f2YUSuwcQ",
        "outputId": "f4241972-69f3-4d6c-a432-b1bdbdad1b22"
      },
      "execution_count": null,
      "outputs": [
        {
          "output_type": "stream",
          "name": "stdout",
          "text": [
            "tensor([[ 0.,  1.,  2.],\n",
            "        [ 3.,  4.,  5.],\n",
            "        [ 6.,  7.,  8.],\n",
            "        [ 9., 10., 11.]])\n",
            "torch.Size([4, 3])\n"
          ]
        }
      ]
    },
    {
      "cell_type": "code",
      "source": [
        "# 3차원 텐서의 크기 변경 (차원은 유지)\n",
        "print(ft.view([-1,1,3]))\n",
        "print(ft.view([-1,1,3]).shape)"
      ],
      "metadata": {
        "colab": {
          "base_uri": "https://localhost:8080/"
        },
        "id": "BjmbPY4TvU64",
        "outputId": "db3085ee-aa81-4bbb-fe02-e0d457a85114"
      },
      "execution_count": null,
      "outputs": [
        {
          "output_type": "stream",
          "name": "stdout",
          "text": [
            "tensor([[[ 0.,  1.,  2.]],\n",
            "\n",
            "        [[ 3.,  4.,  5.]],\n",
            "\n",
            "        [[ 6.,  7.,  8.]],\n",
            "\n",
            "        [[ 9., 10., 11.]]])\n",
            "torch.Size([4, 1, 3])\n"
          ]
        }
      ]
    },
    {
      "cell_type": "markdown",
      "source": [
        "(6) 스퀴즈(Squeeze) - 1인 차원을 제거"
      ],
      "metadata": {
        "id": "1zwFemkwvewI"
      }
    },
    {
      "cell_type": "code",
      "source": [
        "ft = torch.FloatTensor([[0],[1],[2]])\n",
        "print(ft)\n",
        "print(ft.shape)"
      ],
      "metadata": {
        "colab": {
          "base_uri": "https://localhost:8080/"
        },
        "id": "OAfsVUGUvkD4",
        "outputId": "35966f04-62f4-44a1-e3a9-df687e91a3e3"
      },
      "execution_count": null,
      "outputs": [
        {
          "output_type": "stream",
          "name": "stdout",
          "text": [
            "tensor([[0.],\n",
            "        [1.],\n",
            "        [2.]])\n",
            "torch.Size([3, 1])\n"
          ]
        }
      ]
    },
    {
      "cell_type": "code",
      "source": [
        "print(ft.squeeze())\n",
        "print(ft.squeeze().shape)"
      ],
      "metadata": {
        "colab": {
          "base_uri": "https://localhost:8080/"
        },
        "id": "rKg7j20cvunI",
        "outputId": "377764dc-b745-4af5-f020-dfd11799fb9e"
      },
      "execution_count": null,
      "outputs": [
        {
          "output_type": "stream",
          "name": "stdout",
          "text": [
            "tensor([0., 1., 2.])\n",
            "torch.Size([3])\n"
          ]
        }
      ]
    },
    {
      "cell_type": "markdown",
      "source": [
        "(7) 언스퀴즈(Unsqueeze) - 특정 위치에 1인 차원 추가"
      ],
      "metadata": {
        "id": "Zs9QqSuUv0Sw"
      }
    },
    {
      "cell_type": "code",
      "source": [
        "ft = torch.Tensor([0,1,2])\n",
        "print(ft.shape)"
      ],
      "metadata": {
        "colab": {
          "base_uri": "https://localhost:8080/"
        },
        "id": "hrD7PFO8v5R4",
        "outputId": "2c34bd47-0479-4f72-e040-9b7747fc402c"
      },
      "execution_count": null,
      "outputs": [
        {
          "output_type": "stream",
          "name": "stdout",
          "text": [
            "torch.Size([3])\n"
          ]
        }
      ]
    },
    {
      "cell_type": "code",
      "source": [
        "print(ft.unsqueeze(0)) # 인덱스가 0부터 시작하므로 0은 첫번째 차원을 의미\n",
        "print(ft.unsqueeze(0).shape)"
      ],
      "metadata": {
        "colab": {
          "base_uri": "https://localhost:8080/"
        },
        "id": "JVmdvcdGwBGh",
        "outputId": "5aa61db3-cb67-4e2d-e25c-c49a612d4b96"
      },
      "execution_count": null,
      "outputs": [
        {
          "output_type": "stream",
          "name": "stdout",
          "text": [
            "tensor([[0., 1., 2.]])\n",
            "torch.Size([1, 3])\n"
          ]
        }
      ]
    },
    {
      "cell_type": "code",
      "source": [
        "print(ft.unsqueeze(1))\n",
        "print(ft.unsqueeze(1).shape)"
      ],
      "metadata": {
        "colab": {
          "base_uri": "https://localhost:8080/"
        },
        "id": "xWG8tslvwIUY",
        "outputId": "4a09020e-b619-44e9-b34f-be5baeba3cc9"
      },
      "execution_count": null,
      "outputs": [
        {
          "output_type": "stream",
          "name": "stdout",
          "text": [
            "tensor([[0.],\n",
            "        [1.],\n",
            "        [2.]])\n",
            "torch.Size([3, 1])\n"
          ]
        }
      ]
    },
    {
      "cell_type": "code",
      "source": [
        "print(ft.unsqueeze(-1))\n",
        "print(ft.unsqueeze(-1).shape)"
      ],
      "metadata": {
        "colab": {
          "base_uri": "https://localhost:8080/"
        },
        "id": "728bom9Jwjeg",
        "outputId": "1633760e-a1eb-4dd5-bad0-a47ac728ddf9"
      },
      "execution_count": null,
      "outputs": [
        {
          "output_type": "stream",
          "name": "stdout",
          "text": [
            "tensor([[0.],\n",
            "        [1.],\n",
            "        [2.]])\n",
            "torch.Size([3, 1])\n"
          ]
        }
      ]
    },
    {
      "cell_type": "markdown",
      "source": [
        "(8) 타입 캐스팅(Type Casting) - 자료형 변환"
      ],
      "metadata": {
        "id": "t8tkXLW7wsAI"
      }
    },
    {
      "cell_type": "code",
      "source": [
        "lt = torch.LongTensor([1,2,3,4])\n",
        "print(lt)"
      ],
      "metadata": {
        "colab": {
          "base_uri": "https://localhost:8080/"
        },
        "id": "-CNmr2V9wu4w",
        "outputId": "5c77b148-b701-47fd-d963-f23a61aac451"
      },
      "execution_count": null,
      "outputs": [
        {
          "output_type": "stream",
          "name": "stdout",
          "text": [
            "tensor([1, 2, 3, 4])\n"
          ]
        }
      ]
    },
    {
      "cell_type": "code",
      "source": [
        "print(lt.float())"
      ],
      "metadata": {
        "colab": {
          "base_uri": "https://localhost:8080/"
        },
        "id": "l_C72g7Vw5WR",
        "outputId": "8d19fa3d-6333-4cfd-c282-9f4a9ebf8e7f"
      },
      "execution_count": null,
      "outputs": [
        {
          "output_type": "stream",
          "name": "stdout",
          "text": [
            "tensor([1., 2., 3., 4.])\n"
          ]
        }
      ]
    },
    {
      "cell_type": "code",
      "source": [
        "bt = torch.ByteTensor([True,False,False,True])\n",
        "print(bt)"
      ],
      "metadata": {
        "colab": {
          "base_uri": "https://localhost:8080/"
        },
        "id": "5-fe6rrhw7hB",
        "outputId": "fb582f69-b780-4bd8-f074-3f8d9bda5baa"
      },
      "execution_count": null,
      "outputs": [
        {
          "output_type": "stream",
          "name": "stdout",
          "text": [
            "tensor([1, 0, 0, 1], dtype=torch.uint8)\n"
          ]
        }
      ]
    },
    {
      "cell_type": "code",
      "source": [
        "print(bt.long())\n",
        "print(bt.float())"
      ],
      "metadata": {
        "colab": {
          "base_uri": "https://localhost:8080/"
        },
        "id": "bhi0KV7lxBtg",
        "outputId": "f9b51cc6-eedb-4750-8526-14c9ac6bcb97"
      },
      "execution_count": null,
      "outputs": [
        {
          "output_type": "stream",
          "name": "stdout",
          "text": [
            "tensor([1, 0, 0, 1])\n",
            "tensor([1., 0., 0., 1.])\n"
          ]
        }
      ]
    },
    {
      "cell_type": "markdown",
      "source": [
        "(9) 연결하기(concatenate)"
      ],
      "metadata": {
        "id": "b1acE5HoxGwg"
      }
    },
    {
      "cell_type": "code",
      "source": [
        "x = torch.FloatTensor([[1, 2], [3, 4]])\n",
        "y = torch.FloatTensor([[5, 6], [7, 8]])"
      ],
      "metadata": {
        "id": "sIOc-a2JxJDw"
      },
      "execution_count": null,
      "outputs": []
    },
    {
      "cell_type": "code",
      "source": [
        "print(torch.cat([x,y], dim=0))"
      ],
      "metadata": {
        "colab": {
          "base_uri": "https://localhost:8080/"
        },
        "id": "ylFmIqdxxP8Z",
        "outputId": "b48b90fe-4be2-4256-ef1b-bf7991267eee"
      },
      "execution_count": null,
      "outputs": [
        {
          "output_type": "stream",
          "name": "stdout",
          "text": [
            "tensor([[1., 2.],\n",
            "        [3., 4.],\n",
            "        [5., 6.],\n",
            "        [7., 8.]])\n"
          ]
        }
      ]
    },
    {
      "cell_type": "code",
      "source": [
        "print(torch.cat([x,y],dim=1))"
      ],
      "metadata": {
        "colab": {
          "base_uri": "https://localhost:8080/"
        },
        "id": "T1mp2_ULxY87",
        "outputId": "ca87a42f-af76-44c8-c40b-3783fa05c2fc"
      },
      "execution_count": null,
      "outputs": [
        {
          "output_type": "stream",
          "name": "stdout",
          "text": [
            "tensor([[1., 2., 5., 6.],\n",
            "        [3., 4., 7., 8.]])\n"
          ]
        }
      ]
    },
    {
      "cell_type": "markdown",
      "source": [
        "(10) 스택킹(Stacking) - 연결하는 또 다른 방법 (많은 연산 포함)"
      ],
      "metadata": {
        "id": "2LZRr0ZLxgFR"
      }
    },
    {
      "cell_type": "code",
      "source": [
        "x = torch.FloatTensor([1, 4])\n",
        "y = torch.FloatTensor([2, 5])\n",
        "z = torch.FloatTensor([3, 6])"
      ],
      "metadata": {
        "id": "bBB-ecw-xnFV"
      },
      "execution_count": null,
      "outputs": []
    },
    {
      "cell_type": "code",
      "source": [
        "print(torch.stack([x,y,z]))"
      ],
      "metadata": {
        "colab": {
          "base_uri": "https://localhost:8080/"
        },
        "id": "2i0W3cmJxpO6",
        "outputId": "96fc5b1e-5af2-42cb-ed3d-c1d676edba19"
      },
      "execution_count": null,
      "outputs": [
        {
          "output_type": "stream",
          "name": "stdout",
          "text": [
            "tensor([[1., 4.],\n",
            "        [2., 5.],\n",
            "        [3., 6.]])\n"
          ]
        }
      ]
    },
    {
      "cell_type": "code",
      "source": [
        "# 스택킹은 많은 연산을 한 번에 축약: 위 작업은 아래 코드와 동일\n",
        "print(torch.cat([x.unsqueeze(0), y.unsqueeze(0), z.unsqueeze(0)], dim=0))"
      ],
      "metadata": {
        "colab": {
          "base_uri": "https://localhost:8080/"
        },
        "id": "ASzN8vZ9xu7Q",
        "outputId": "b7b2b784-743a-4a6f-a47b-cd358fad7e6c"
      },
      "execution_count": null,
      "outputs": [
        {
          "output_type": "stream",
          "name": "stdout",
          "text": [
            "tensor([[1., 4.],\n",
            "        [2., 5.],\n",
            "        [3., 6.]])\n"
          ]
        }
      ]
    },
    {
      "cell_type": "code",
      "source": [
        "print(torch.stack([x,y,z],dim=1)) # dim=1: 두 번째 차원이 증가하도록 쌓기"
      ],
      "metadata": {
        "colab": {
          "base_uri": "https://localhost:8080/"
        },
        "id": "Gg2UbXAmx_Zp",
        "outputId": "b4f18798-49d1-4d56-d203-13d865ecb200"
      },
      "execution_count": null,
      "outputs": [
        {
          "output_type": "stream",
          "name": "stdout",
          "text": [
            "tensor([[1., 2., 3.],\n",
            "        [4., 5., 6.]])\n"
          ]
        }
      ]
    },
    {
      "cell_type": "markdown",
      "source": [
        "(11) ones_like와 zeros_like - 0으로 채워진 텐서와 1로 채워진 텐서"
      ],
      "metadata": {
        "id": "YmIuR1_byKHQ"
      }
    },
    {
      "cell_type": "code",
      "source": [
        "x = torch.FloatTensor([[0, 1, 2], [2, 1, 0]])\n",
        "print(x)"
      ],
      "metadata": {
        "colab": {
          "base_uri": "https://localhost:8080/"
        },
        "id": "Pg12rYU9yGWY",
        "outputId": "778d3f0f-5d56-4c96-86ba-171985635075"
      },
      "execution_count": null,
      "outputs": [
        {
          "output_type": "stream",
          "name": "stdout",
          "text": [
            "tensor([[0., 1., 2.],\n",
            "        [2., 1., 0.]])\n"
          ]
        }
      ]
    },
    {
      "cell_type": "code",
      "source": [
        "print(torch.ones_like(x)) # 입력 텐서와 크기를 통일하게 하면서 값을 1로 채우기"
      ],
      "metadata": {
        "colab": {
          "base_uri": "https://localhost:8080/"
        },
        "id": "zf3CLUK4yUKp",
        "outputId": "ad2e2a47-e336-4edb-8124-fc80d79dde1c"
      },
      "execution_count": null,
      "outputs": [
        {
          "output_type": "stream",
          "name": "stdout",
          "text": [
            "tensor([[1., 1., 1.],\n",
            "        [1., 1., 1.]])\n"
          ]
        }
      ]
    },
    {
      "cell_type": "code",
      "source": [
        "print(torch.zeros_like(x)) # 입력 텐서와 크기를 동일하게 하면서 값을 0으로 채우기"
      ],
      "metadata": {
        "colab": {
          "base_uri": "https://localhost:8080/"
        },
        "id": "m0iFlyU2yagx",
        "outputId": "4f7572c4-fc1b-49c7-e7ac-1f9802d56fb7"
      },
      "execution_count": null,
      "outputs": [
        {
          "output_type": "stream",
          "name": "stdout",
          "text": [
            "tensor([[0., 0., 0.],\n",
            "        [0., 0., 0.]])\n"
          ]
        }
      ]
    },
    {
      "cell_type": "markdown",
      "source": [
        "(12) In-place Operation (덮어쓰기 연산)"
      ],
      "metadata": {
        "id": "q8JUw47Aygph"
      }
    },
    {
      "cell_type": "code",
      "source": [
        "x = torch.FloatTensor([[1, 2], [3, 4]])"
      ],
      "metadata": {
        "id": "Oz_YXP0nykNw"
      },
      "execution_count": null,
      "outputs": []
    },
    {
      "cell_type": "code",
      "source": [
        "print(x.mul(2.)) # 곱하기 2를 수행한 결과 출력\n",
        "print(x) # 기존의 값 출력"
      ],
      "metadata": {
        "colab": {
          "base_uri": "https://localhost:8080/"
        },
        "id": "WTBIi6FuypMo",
        "outputId": "b7ae6f74-d2aa-4503-e87e-4ff999bacf3d"
      },
      "execution_count": null,
      "outputs": [
        {
          "output_type": "stream",
          "name": "stdout",
          "text": [
            "tensor([[2., 4.],\n",
            "        [6., 8.]])\n",
            "tensor([[1., 2.],\n",
            "        [3., 4.]])\n"
          ]
        }
      ]
    },
    {
      "cell_type": "code",
      "source": [
        "print(x.mul_(2.)) # 곱하기 2를 수행한 결과를 변수 x에 값을 저장하면서 결과 출력\n",
        "print(x)"
      ],
      "metadata": {
        "colab": {
          "base_uri": "https://localhost:8080/"
        },
        "id": "Op7PEyOcyzhx",
        "outputId": "3719460d-7647-4ac9-d6ae-7964dd1c7292"
      },
      "execution_count": null,
      "outputs": [
        {
          "output_type": "stream",
          "name": "stdout",
          "text": [
            "tensor([[2., 4.],\n",
            "        [6., 8.]])\n",
            "tensor([[2., 4.],\n",
            "        [6., 8.]])\n"
          ]
        }
      ]
    },
    {
      "cell_type": "markdown",
      "source": [
        "##**02-03. 파이썬 클래스(class)**"
      ],
      "metadata": {
        "id": "23ayHbwwjKWv"
      }
    },
    {
      "cell_type": "markdown",
      "source": [
        "(1) 함수(function) 로 덧셈기 구현하기"
      ],
      "metadata": {
        "id": "KiDJY6uxztZy"
      }
    },
    {
      "cell_type": "code",
      "source": [
        "# 전역 변수 선언\n",
        "result = 0"
      ],
      "metadata": {
        "id": "k6lybF5hzyzR"
      },
      "execution_count": null,
      "outputs": []
    },
    {
      "cell_type": "code",
      "source": [
        "def add(num):\n",
        "  global result\n",
        "  result += num\n",
        "  return result"
      ],
      "metadata": {
        "id": "_f6LP9I7z00g"
      },
      "execution_count": null,
      "outputs": []
    },
    {
      "cell_type": "code",
      "source": [
        "print(add(3))\n",
        "print(add(4))"
      ],
      "metadata": {
        "colab": {
          "base_uri": "https://localhost:8080/"
        },
        "id": "4cZ1oUsVz_BR",
        "outputId": "760c37db-5411-4543-b436-b0ccecdd8d3f"
      },
      "execution_count": null,
      "outputs": [
        {
          "output_type": "stream",
          "name": "stdout",
          "text": [
            "3\n",
            "7\n"
          ]
        }
      ]
    },
    {
      "cell_type": "markdown",
      "source": [
        "(2) 함수(function)로 두 개의 덧셈기 구현하기"
      ],
      "metadata": {
        "id": "5nFPAVRB0Fq5"
      }
    },
    {
      "cell_type": "code",
      "source": [
        "result1 = 0\n",
        "result2 = 0\n",
        "\n",
        "def add1(num):\n",
        "  global result1\n",
        "  result1 += num\n",
        "  return result1\n",
        "\n",
        "def add2(num):\n",
        "  global result2\n",
        "  result2 += num\n",
        "  return result2\n",
        "\n",
        "print(add1(3))\n",
        "print(add1(4))\n",
        "print(add2(3))\n",
        "print(add2(7))"
      ],
      "metadata": {
        "colab": {
          "base_uri": "https://localhost:8080/"
        },
        "id": "3Y_iBaMr0IQo",
        "outputId": "d5897321-3367-4ab6-f49e-fa524922511e"
      },
      "execution_count": null,
      "outputs": [
        {
          "output_type": "stream",
          "name": "stdout",
          "text": [
            "3\n",
            "7\n",
            "3\n",
            "10\n"
          ]
        }
      ]
    },
    {
      "cell_type": "markdown",
      "source": [
        "(3) 클래스(class)로 덧셈기 구현하기"
      ],
      "metadata": {
        "id": "jWiD9BhA0nJJ"
      }
    },
    {
      "cell_type": "code",
      "source": [
        "class Calculator:\n",
        "  def __init__(self): # 객체 생성 시 호출될 때 실행되는 초기화 함수. 이를 생성자라고 한다.\n",
        "    self.result = 0\n",
        "\n",
        "  def add(self, num): # 객체 생성 후 사용할 수 있는 함수\n",
        "    self.result += num\n",
        "    return self.result"
      ],
      "metadata": {
        "id": "JjDXiuIV0pyZ"
      },
      "execution_count": null,
      "outputs": []
    },
    {
      "cell_type": "code",
      "source": [
        "# 클래스를 생성한 후에는 이것으로 객체를 만들 수 있다. cal1이라는 객체를 만들어보자.\n",
        "cal1 = Calculator()"
      ],
      "metadata": {
        "id": "kEty36su1A2R"
      },
      "execution_count": null,
      "outputs": []
    },
    {
      "cell_type": "code",
      "source": [
        "# 하나의 클래스를 만든 후에는 여러 개의 객체를 만들 수 있다.\n",
        "cal2 = Calculator()"
      ],
      "metadata": {
        "id": "TQnTfBun1MkB"
      },
      "execution_count": null,
      "outputs": []
    },
    {
      "cell_type": "code",
      "source": [
        "print(cal1.add(3))\n",
        "print(cal1.add(4))\n",
        "print(cal2.add(3))\n",
        "print(cal2.add(7))"
      ],
      "metadata": {
        "colab": {
          "base_uri": "https://localhost:8080/"
        },
        "id": "As9iQqea1Ryy",
        "outputId": "b75b1ee2-03f6-49ef-c912-ace66e92b200"
      },
      "execution_count": null,
      "outputs": [
        {
          "output_type": "stream",
          "name": "stdout",
          "text": [
            "3\n",
            "7\n",
            "3\n",
            "10\n"
          ]
        }
      ]
    },
    {
      "cell_type": "markdown",
      "source": [
        "##**03. [ML 입문] - 머신 러닝 입문하기(Machine Learning Basics)**"
      ],
      "metadata": {
        "id": "XTnSVy_ajKUh"
      }
    },
    {
      "cell_type": "markdown",
      "source": [
        "##**03-01. 선형 회귀와 자동 미분(Linear Regression and Autograd)**"
      ],
      "metadata": {
        "id": "s0sV55CwjKQ4"
      }
    },
    {
      "cell_type": "markdown",
      "source": [
        "(1) 데이터에 대한 이해"
      ],
      "metadata": {
        "id": "KMZcZTCU5T9F"
      }
    },
    {
      "cell_type": "code",
      "source": [
        "# 모델 학습을 위해 데이터는 파이토치의 텐서의 형태를 가지고 있어야 함\n",
        "# 입력(x)과 출력(y)을 각기 다른 텐서에 저장\n",
        "x_train = torch.FloatTensor([[1],[2],[3]]) # 공부한 시간\n",
        "y_train = torch.FloatTensor([[2],[4],[6]]) # x에 매핑되는 점수"
      ],
      "metadata": {
        "id": "MwIkwzv16wxT"
      },
      "execution_count": null,
      "outputs": []
    },
    {
      "cell_type": "markdown",
      "source": [
        "(2) 가설 수립"
      ],
      "metadata": {
        "id": "2-gejsiB7PVB"
      }
    },
    {
      "cell_type": "markdown",
      "source": [
        "H(x) = Wx + b\n",
        "- W: 가중치(weight)  \n",
        "- b: 편향(bias)"
      ],
      "metadata": {
        "id": "BLZ6ESrt8eym"
      }
    },
    {
      "cell_type": "markdown",
      "source": [
        "(3) 비용 함수에 대한 이해"
      ],
      "metadata": {
        "id": "Im9Hv1Eg6v8h"
      }
    },
    {
      "cell_type": "markdown",
      "source": [
        "비용함수(cost function)  \n",
        "= 손실함수(loss function)  \n",
        "= 오차함수(error function)  \n",
        "= 목적함수(objective function)"
      ],
      "metadata": {
        "id": "1WPrxWuN83e7"
      }
    },
    {
      "cell_type": "markdown",
      "source": [
        "**오차**로는 보통 각 개별 오차들을 곱한 뒤 모두 더해서 데이터 개수 n으로 나눈 **'평균 제곱 오차(Mean Squared Error, MSE)'**를 사용한다. 이 MSE를 정의하는 식이 비용함수(=손실함수=오차함수=목적함수)이다. 비용함수가, 즉 MSE가 최소가 되게 만드는 W와 b를 구하면 훈련 데이터를 가장 잘 나타내는 직선을 구할 수 있다."
      ],
      "metadata": {
        "id": "6tZTBeTl9ooA"
      }
    },
    {
      "cell_type": "markdown",
      "source": [
        "(4) 옵티마이저 - 경사 하강법(Gradient Descent)"
      ],
      "metadata": {
        "id": "l1tsTO76_LiK"
      }
    },
    {
      "cell_type": "markdown",
      "source": [
        "**옵티마이저 알고리즘**은 비용함수의 값을 최소로 하는 W와 b를 찾는 방법이다. 옵티마이저 알고리즘은 **최적화 알고리즘**이라고도 부른다. 옵티마이저 알고리즘을 통해 적절한 W와 b를 찾아내는 과정을 머신 러닝에서 학습이라고 부른다. 가장 기본적인 옵티마이저 알고리즘이 경사 하강법이다.  \n",
        "\n",
        "설명의 편의성을 위해 b=0으로 가정한다. 기울기 W와 cost의 관계를 그래프로 표현하면 이차함수의 형태가 된다. 이때 cost가 가장 최소값을 가지게 하는 W, 즉 맨 아래의 볼록한 부분의 W의 값을 찾아야 한다.  \n",
        "\n",
        "임의의 초기값 W을 정한 뒤에 최저점을 향해 점차 W의 값을 수정해나가는데, 이를 가능하게 하는 것이 경사 하강법이다. cost가 최소화되는 지점은 접선의 기울기 및 미분값이 0이 되는 지점이다. 경사 하강법의 아이디어는 비용 함수를 미분하여 현재 W에서의 접선의 기울기를 구하고, 접선의 기울기가 낮은 방향으로 W의 값을 변경하는 작업을 반복하는 것에 있다. 이때 현재 W의 접선의 기울기를 구한 뒤, 이 값과 특정 숫자 alpha를 곱하고, 이 곱한 값을 W에서 빼서 새로운 W로 사용한다.  \n",
        "\n",
        "- 기울기가 음수일 때: W 증가\n",
        "  - W := W -alpha(-gradient) = W + alpha*gradient\n",
        "- 기울기가 양수일 때: W 감소\n",
        "  - W := W - alpha(gradient)  \n",
        "\n",
        "결과적으로 기울기가 0인 방향으로 W 값이 조정된다.  \n",
        "\n",
        "학습률 alpha는 W의 값을 변경할 때, 얼마나 크게 변경할지를 결정한다. 학습률 alpha가 지나치게 높으면 접선의 기울기가 0이 되는 W를 찾아가지 못하고 cost의 값이 발산한다.반대로 학습률 alpha가 지나치게 낮은 값을 가지면 학습 속도가 느려진다. 따라서 적당한 alpha 값을 찾아내는 것도 중요하다.  \n",
        "\n",
        "실제 경사 하강법은 W와 b에 대해서 동시에 경사 하강법을 수행하면서 최적의 W와 b 값을 찾아간다."
      ],
      "metadata": {
        "id": "imxfty8S_SMZ"
      }
    },
    {
      "cell_type": "markdown",
      "source": [
        "(5) 파이토치로 선형 회귀 구현하기"
      ],
      "metadata": {
        "id": "bVlm72sEAJhK"
      }
    },
    {
      "cell_type": "code",
      "source": [
        "import torch\n",
        "import torch.nn as nn\n",
        "import torch.nn.functional as F\n",
        "import torch.optim as optim"
      ],
      "metadata": {
        "id": "3Mz4gS0hH-J-"
      },
      "execution_count": null,
      "outputs": []
    },
    {
      "cell_type": "code",
      "source": [
        "# 현재 실습하고 있는 파이썬 코드를 재실행해도 다음에도 같은 결과가 나오도록 랜덤 시드(random seed)를 준다.\n",
        "torch.manual_seed(1)"
      ],
      "metadata": {
        "colab": {
          "base_uri": "https://localhost:8080/"
        },
        "id": "Z9YvU-vEIHFx",
        "outputId": "bbea36d1-c51a-44a4-e89f-b661939b05ee"
      },
      "execution_count": null,
      "outputs": [
        {
          "output_type": "execute_result",
          "data": {
            "text/plain": [
              "<torch._C.Generator at 0x7f223e609550>"
            ]
          },
          "metadata": {},
          "execution_count": 75
        }
      ]
    },
    {
      "cell_type": "code",
      "source": [
        "# 훈련 데이터 선언\n",
        "x_train = torch.FloatTensor([[1],[2],[3]])\n",
        "y_train = torch.FloatTensor([[2],[4],[6]])"
      ],
      "metadata": {
        "id": "A87YNEF2ISY9"
      },
      "execution_count": null,
      "outputs": []
    },
    {
      "cell_type": "code",
      "source": [
        "print(x_train)\n",
        "print(x_train.shape)"
      ],
      "metadata": {
        "colab": {
          "base_uri": "https://localhost:8080/"
        },
        "id": "aIX_MFqYIimt",
        "outputId": "2584a2ec-b8a4-43e1-9b97-573cc20a1562"
      },
      "execution_count": null,
      "outputs": [
        {
          "output_type": "stream",
          "name": "stdout",
          "text": [
            "tensor([[1.],\n",
            "        [2.],\n",
            "        [3.]])\n",
            "torch.Size([3, 1])\n"
          ]
        }
      ]
    },
    {
      "cell_type": "code",
      "source": [
        "# 가중치와 편향의 초기화\n",
        "## 가중치 W를 0으로 초기화하고 학습을 통해 값이 변경되는 변수임을 명시\n",
        "W = torch.zeros(1, requires_grad=True)\n",
        "## 가중치 W 출력\n",
        "print(W)"
      ],
      "metadata": {
        "colab": {
          "base_uri": "https://localhost:8080/"
        },
        "id": "GMGhGTImIrif",
        "outputId": "d27e479f-faee-4f4f-f435-4690b8bde645"
      },
      "execution_count": null,
      "outputs": [
        {
          "output_type": "stream",
          "name": "stdout",
          "text": [
            "tensor([0.], requires_grad=True)\n"
          ]
        }
      ]
    },
    {
      "cell_type": "markdown",
      "source": [
        "가중치 W가 0으로 초기화되어 있으므로 0이 출력되었다. requires_grad=True 인자는 변수 W가 학습을 통해 계속 값이 변경되는 변수임을 의미한다."
      ],
      "metadata": {
        "id": "4nk62C_mJ0yN"
      }
    },
    {
      "cell_type": "code",
      "source": [
        "# 편향 b도 0으로 초기화, 학습을 통해 값이 변경되는 변수임을 명시\n",
        "b = torch.zeros(1, requires_grad=True)\n",
        "print(b)"
      ],
      "metadata": {
        "colab": {
          "base_uri": "https://localhost:8080/"
        },
        "id": "Z_rjkSN3KFrz",
        "outputId": "05fccda2-6f1d-4966-892e-b55191a8c3a4"
      },
      "execution_count": null,
      "outputs": [
        {
          "output_type": "stream",
          "name": "stdout",
          "text": [
            "tensor([0.], requires_grad=True)\n"
          ]
        }
      ]
    },
    {
      "cell_type": "code",
      "source": [
        "# 가설 세우기\n",
        "hypothesis = x_train * W + b\n",
        "print(hypothesis)"
      ],
      "metadata": {
        "colab": {
          "base_uri": "https://localhost:8080/"
        },
        "id": "XElcYq1xKUag",
        "outputId": "8adec5f9-9a4b-4421-89e3-4b71d09b7a0a"
      },
      "execution_count": null,
      "outputs": [
        {
          "output_type": "stream",
          "name": "stdout",
          "text": [
            "tensor([[0.],\n",
            "        [0.],\n",
            "        [0.]], grad_fn=<AddBackward0>)\n"
          ]
        }
      ]
    },
    {
      "cell_type": "code",
      "source": [
        "# 비용 함수 선언하기\n",
        "cost = torch.mean((hypothesis - y_train)**2)\n",
        "print(cost)"
      ],
      "metadata": {
        "colab": {
          "base_uri": "https://localhost:8080/"
        },
        "id": "9-PIOLCYKa7W",
        "outputId": "211563ad-f758-4aaa-c48d-2b9cba5bc854"
      },
      "execution_count": null,
      "outputs": [
        {
          "output_type": "stream",
          "name": "stdout",
          "text": [
            "tensor(18.6667, grad_fn=<MeanBackward0>)\n"
          ]
        }
      ]
    },
    {
      "cell_type": "code",
      "source": [
        "# 경사 하강법 구현하기\n",
        "optimizer = optim.SGD([W,b], lr=0.01)"
      ],
      "metadata": {
        "id": "2uVzEntZKi0k"
      },
      "execution_count": null,
      "outputs": []
    },
    {
      "cell_type": "code",
      "source": [
        "# gradient를 0으로 초기화\n",
        "optimizer.zero_grad()\n",
        "# 비용 함수를 미분하여 gradient 계산\n",
        "cost.backward()\n",
        "# W와 b 업데이트\n",
        "optimizer.step()"
      ],
      "metadata": {
        "id": "whiDZiM0UVRr"
      },
      "execution_count": null,
      "outputs": []
    },
    {
      "cell_type": "code",
      "source": [
        "# 전체 코드\n",
        "\n",
        "# 데이터\n",
        "x_train = torch.FloatTensor([[1], [2], [3]])\n",
        "y_train = torch.FloatTensor([[2], [4], [6]])\n",
        "# 모델 초기화\n",
        "W = torch.zeros(1, requires_grad=True)\n",
        "b = torch.zeros(1, requires_grad=True)\n",
        "# optimizer 설정\n",
        "optimizer = optim.SGD([W, b], lr=0.01)\n",
        "\n",
        "nb_epochs = 1999 # 원하는만큼 경사 하강법을 반복\n",
        "for epoch in range(nb_epochs + 1):\n",
        "\n",
        "    # H(x) 계산\n",
        "    hypothesis = x_train * W + b\n",
        "\n",
        "    # cost 계산\n",
        "    cost = torch.mean((hypothesis - y_train) ** 2)\n",
        "\n",
        "    # cost로 H(x) 개선\n",
        "    optimizer.zero_grad()\n",
        "    cost.backward()\n",
        "    optimizer.step()\n",
        "\n",
        "    # 100번마다 로그 출력\n",
        "    if epoch % 100 == 0:\n",
        "        print('Epoch {:4d}/{} W: {:.3f}, b: {:.3f} Cost: {:.6f}'.format(\n",
        "            epoch, nb_epochs, W.item(), b.item(), cost.item()\n",
        "        ))"
      ],
      "metadata": {
        "colab": {
          "base_uri": "https://localhost:8080/"
        },
        "id": "iRkwhD3gVPPw",
        "outputId": "8387f596-de9d-49bd-f723-87a954201a34"
      },
      "execution_count": null,
      "outputs": [
        {
          "output_type": "stream",
          "name": "stdout",
          "text": [
            "Epoch    0/1999 W: 0.187, b: 0.080 Cost: 18.666666\n",
            "Epoch  100/1999 W: 1.746, b: 0.578 Cost: 0.048171\n",
            "Epoch  200/1999 W: 1.800, b: 0.454 Cost: 0.029767\n",
            "Epoch  300/1999 W: 1.843, b: 0.357 Cost: 0.018394\n",
            "Epoch  400/1999 W: 1.876, b: 0.281 Cost: 0.011366\n",
            "Epoch  500/1999 W: 1.903, b: 0.221 Cost: 0.007024\n",
            "Epoch  600/1999 W: 1.924, b: 0.174 Cost: 0.004340\n",
            "Epoch  700/1999 W: 1.940, b: 0.136 Cost: 0.002682\n",
            "Epoch  800/1999 W: 1.953, b: 0.107 Cost: 0.001657\n",
            "Epoch  900/1999 W: 1.963, b: 0.084 Cost: 0.001024\n",
            "Epoch 1000/1999 W: 1.971, b: 0.066 Cost: 0.000633\n",
            "Epoch 1100/1999 W: 1.977, b: 0.052 Cost: 0.000391\n",
            "Epoch 1200/1999 W: 1.982, b: 0.041 Cost: 0.000242\n",
            "Epoch 1300/1999 W: 1.986, b: 0.032 Cost: 0.000149\n",
            "Epoch 1400/1999 W: 1.989, b: 0.025 Cost: 0.000092\n",
            "Epoch 1500/1999 W: 1.991, b: 0.020 Cost: 0.000057\n",
            "Epoch 1600/1999 W: 1.993, b: 0.016 Cost: 0.000035\n",
            "Epoch 1700/1999 W: 1.995, b: 0.012 Cost: 0.000022\n",
            "Epoch 1800/1999 W: 1.996, b: 0.010 Cost: 0.000013\n",
            "Epoch 1900/1999 W: 1.997, b: 0.008 Cost: 0.000008\n"
          ]
        }
      ]
    },
    {
      "cell_type": "markdown",
      "source": [
        "**에포크(Epoch)**는 전체 훈련 데이터가 학습에 한 번 사용된 주기를 말한다."
      ],
      "metadata": {
        "id": "4O9RF8GQVOCh"
      }
    },
    {
      "cell_type": "markdown",
      "source": [
        "(6) optimizer.zero_grad()가 필요한 이유"
      ],
      "metadata": {
        "id": "NKVIMORmAO9l"
      }
    },
    {
      "cell_type": "markdown",
      "source": [
        "파이토치는 미분을 통해 얻은 기울기를 이전에 계산된 기울기 값에 누적시키는 특징이 있다."
      ],
      "metadata": {
        "id": "waZ6NsFyYJ7Q"
      }
    },
    {
      "cell_type": "code",
      "source": [
        "import torch\n",
        "w = torch.tensor(2.0, requires_grad=True)\n",
        "\n",
        "nb_epochs = 20\n",
        "for epoch in range(nb_epochs + 1):\n",
        "\n",
        "  z = 2*w\n",
        "\n",
        "  z.backward()\n",
        "  print('수식을 w로 미분한 값 : {}'.format(w.grad))"
      ],
      "metadata": {
        "colab": {
          "base_uri": "https://localhost:8080/"
        },
        "id": "5LQPNBc_YmQg",
        "outputId": "2f09dade-b314-4b19-f62a-9e5ecc85c7af"
      },
      "execution_count": null,
      "outputs": [
        {
          "output_type": "stream",
          "name": "stdout",
          "text": [
            "수식을 w로 미분한 값 : 2.0\n",
            "수식을 w로 미분한 값 : 4.0\n",
            "수식을 w로 미분한 값 : 6.0\n",
            "수식을 w로 미분한 값 : 8.0\n",
            "수식을 w로 미분한 값 : 10.0\n",
            "수식을 w로 미분한 값 : 12.0\n",
            "수식을 w로 미분한 값 : 14.0\n",
            "수식을 w로 미분한 값 : 16.0\n",
            "수식을 w로 미분한 값 : 18.0\n",
            "수식을 w로 미분한 값 : 20.0\n",
            "수식을 w로 미분한 값 : 22.0\n",
            "수식을 w로 미분한 값 : 24.0\n",
            "수식을 w로 미분한 값 : 26.0\n",
            "수식을 w로 미분한 값 : 28.0\n",
            "수식을 w로 미분한 값 : 30.0\n",
            "수식을 w로 미분한 값 : 32.0\n",
            "수식을 w로 미분한 값 : 34.0\n",
            "수식을 w로 미분한 값 : 36.0\n",
            "수식을 w로 미분한 값 : 38.0\n",
            "수식을 w로 미분한 값 : 40.0\n",
            "수식을 w로 미분한 값 : 42.0\n"
          ]
        }
      ]
    },
    {
      "cell_type": "markdown",
      "source": [
        "이렇게 계속해서 미분값인 2가 누적되므로 optimizer.zero_grad()를 통해 미분값을 계속 0으로 초기화시켜줘야 한다."
      ],
      "metadata": {
        "id": "FSZWxD0WY8B2"
      }
    },
    {
      "cell_type": "markdown",
      "source": [
        "(7) torch.manual_seed()를 하는 이유"
      ],
      "metadata": {
        "id": "N2L0Vd2vATK5"
      }
    },
    {
      "cell_type": "markdown",
      "source": [
        "torch.manual_seed()를 사용한 프로그램의 결과는 다른 컴퓨터에서 실행시켜도 동일한 결과를 얻을 수 있다. torch.manual_seed()는 난수 발생 순서와 값을 동일하게 보장해준다는 특징때문이다."
      ],
      "metadata": {
        "id": "TzcZ6vMfZUEN"
      }
    },
    {
      "cell_type": "code",
      "source": [
        "import torch"
      ],
      "metadata": {
        "id": "JOj6KyoYZgXg"
      },
      "execution_count": null,
      "outputs": []
    },
    {
      "cell_type": "code",
      "source": [
        "torch.manual_seed(3)\n",
        "print('랜덤 시드가 3일 때')\n",
        "for i in range(1,3):\n",
        "  print(torch.rand(1))"
      ],
      "metadata": {
        "colab": {
          "base_uri": "https://localhost:8080/"
        },
        "id": "FLacgV0LZt3H",
        "outputId": "230375bb-adbd-491f-bed3-88ed869e3cd2"
      },
      "execution_count": null,
      "outputs": [
        {
          "output_type": "stream",
          "name": "stdout",
          "text": [
            "랜덤 시드가 3일 때\n",
            "tensor([0.0043])\n",
            "tensor([0.1056])\n"
          ]
        }
      ]
    },
    {
      "cell_type": "code",
      "source": [
        "torch.manual_seed(5)\n",
        "print('랜덤 시드가 5일 때')\n",
        "for i in range(1,3):\n",
        "  print(torch.rand(1))"
      ],
      "metadata": {
        "colab": {
          "base_uri": "https://localhost:8080/"
        },
        "id": "q8iYCU0cZ67-",
        "outputId": "b4e3abb4-c040-407d-9875-6732de89eec9"
      },
      "execution_count": null,
      "outputs": [
        {
          "output_type": "stream",
          "name": "stdout",
          "text": [
            "랜덤 시드가 5일 때\n",
            "tensor([0.8303])\n",
            "tensor([0.1261])\n"
          ]
        }
      ]
    },
    {
      "cell_type": "code",
      "source": [
        "torch.manual_seed(3)\n",
        "print('랜덤 시드가 다시 3일 때')\n",
        "for i in range(1,3):\n",
        "  print(torch.rand(1))"
      ],
      "metadata": {
        "colab": {
          "base_uri": "https://localhost:8080/"
        },
        "id": "Ro0kdi0zafn-",
        "outputId": "b039e1c9-89d7-46d2-86be-cdf7bab6a7fa"
      },
      "execution_count": null,
      "outputs": [
        {
          "output_type": "stream",
          "name": "stdout",
          "text": [
            "랜덤 시드가 다시 3일 때\n",
            "tensor([0.0043])\n",
            "tensor([0.1056])\n"
          ]
        }
      ]
    },
    {
      "cell_type": "markdown",
      "source": [
        "(8) 자동 미분(Autograd) 실습하기"
      ],
      "metadata": {
        "id": "7oDuaG2XAWdf"
      }
    },
    {
      "cell_type": "code",
      "source": [
        "import torch"
      ],
      "metadata": {
        "id": "_aD2UFMjcgrC"
      },
      "execution_count": null,
      "outputs": []
    },
    {
      "cell_type": "code",
      "source": [
        "# 값이 2인 임의의 스칼라 텐서 W 선언\n",
        "# required_grad=True: 이 텐서에 대한 기울기를 저장\n",
        "w = torch.tensor(2.0, requires_grad=True)"
      ],
      "metadata": {
        "id": "oddwCvVtcj5a"
      },
      "execution_count": null,
      "outputs": []
    },
    {
      "cell_type": "code",
      "source": [
        "# 수식 정의\n",
        "y = w**2\n",
        "z = 2*y + 5"
      ],
      "metadata": {
        "id": "yGUE4sa3cuec"
      },
      "execution_count": null,
      "outputs": []
    },
    {
      "cell_type": "code",
      "source": [
        "# 해당 수식을 w에 대해서 미분\n",
        "# .backward(): 해당 수식의 w에 대한 기울기 계산\n",
        "z.backward()"
      ],
      "metadata": {
        "id": "qG-RFcuEc1US"
      },
      "execution_count": null,
      "outputs": []
    },
    {
      "cell_type": "code",
      "source": [
        "print('수식을 w로 미분한 값 : {}'.format(w.grad))"
      ],
      "metadata": {
        "id": "N1EEQfJrc_bp",
        "outputId": "c96dfaf9-935b-473c-a6fc-744b385103bd",
        "colab": {
          "base_uri": "https://localhost:8080/"
        }
      },
      "execution_count": null,
      "outputs": [
        {
          "output_type": "stream",
          "name": "stdout",
          "text": [
            "수식을 w로 미분한 값 : 8.0\n"
          ]
        }
      ]
    },
    {
      "cell_type": "markdown",
      "source": [
        "##**03-02. 다중 선형 회귀(Multivariable Linear Regression)**"
      ],
      "metadata": {
        "id": "2OhxU67QjKPA"
      }
    },
    {
      "cell_type": "markdown",
      "source": [
        "(1) 데이터에 대한 이해(Data Definition)"
      ],
      "metadata": {
        "id": "gN8mIJauArpT"
      }
    },
    {
      "cell_type": "markdown",
      "source": [
        "(2) 파이토치로 구현하기"
      ],
      "metadata": {
        "id": "exseVrmjAysS"
      }
    },
    {
      "cell_type": "code",
      "source": [
        "import torch\n",
        "import torch.nn as nn\n",
        "import torch.nn.functional as F\n",
        "import torch.optim as optim"
      ],
      "metadata": {
        "id": "-TU4iCNCBAgf"
      },
      "execution_count": 1,
      "outputs": []
    },
    {
      "cell_type": "code",
      "source": [
        "# 랜덤 시드 고정\n",
        "torch.manual_seed(1)"
      ],
      "metadata": {
        "colab": {
          "base_uri": "https://localhost:8080/"
        },
        "id": "JuufBjxXBJGR",
        "outputId": "b19c5659-34a4-4375-ef63-c772fac0030a"
      },
      "execution_count": 2,
      "outputs": [
        {
          "output_type": "execute_result",
          "data": {
            "text/plain": [
              "<torch._C.Generator at 0x7b708ce1f170>"
            ]
          },
          "metadata": {},
          "execution_count": 2
        }
      ]
    },
    {
      "cell_type": "code",
      "source": [
        "# 훈련 데이터 선언\n",
        "x1_train = torch.FloatTensor([[73], [93], [89], [96], [73]])\n",
        "x2_train = torch.FloatTensor([[80], [88], [91], [98], [66]])\n",
        "x3_train = torch.FloatTensor([[75], [93], [90], [100], [70]])\n",
        "y_train = torch.FloatTensor([[152], [185], [180], [196], [142]])"
      ],
      "metadata": {
        "id": "IABvpAaHBOOV"
      },
      "execution_count": 4,
      "outputs": []
    },
    {
      "cell_type": "code",
      "source": [
        "# 가중치 w와 편향 b 초기화\n",
        "w1 = torch.zeros(1, requires_grad=True)\n",
        "w2 = torch.zeros(1, requires_grad=True)\n",
        "w3 = torch.zeros(1, requires_grad=True)\n",
        "b = torch.zeros(1, requires_grad=True)"
      ],
      "metadata": {
        "id": "fSP5LRztBeL1"
      },
      "execution_count": 5,
      "outputs": []
    },
    {
      "cell_type": "code",
      "source": [
        "# 가설, 비용 함수, 옵티마이저 선언 후 경사 하강법을 1000회 반복\n",
        "\n",
        "# optimizer 설정\n",
        "optimizer = optim.SGD([w1,w2,w3,b], lr=1e-5)\n",
        "\n",
        "nb_epochs = 1000\n",
        "for epoch in range(nb_epochs + 1):\n",
        "\n",
        "  # H(x) 계산\n",
        "  hypothesis = x1_train * w1 + x2_train * w2 + x3_train * w3 + b\n",
        "\n",
        "  # cost 계산\n",
        "  cost = torch.mean((hypothesis - y_train) ** 2)\n",
        "\n",
        "  # cost로 H(x) 계선\n",
        "  optimizer.zero_grad()\n",
        "  cost.backward()\n",
        "  optimizer.step()\n",
        "\n",
        "  # 100번마다 로그 출력\n",
        "  if epoch % 100 == 0:\n",
        "    print('Epoch {:4d}/{} w1: {:.3f} w2: {:.3f} w3: {:.3f} b: {:.3f} Cost: {:.6f}'.format(\n",
        "        epoch, nb_epochs, w1.item(), w2.item(), w3.item(), b.item(), cost.item()\n",
        "    ))"
      ],
      "metadata": {
        "colab": {
          "base_uri": "https://localhost:8080/"
        },
        "id": "SvwcjQwPBrm7",
        "outputId": "078ead7b-6a3e-4b3c-ed2a-1f18c9a4a6e6"
      },
      "execution_count": 6,
      "outputs": [
        {
          "output_type": "stream",
          "name": "stdout",
          "text": [
            "Epoch    0/1000 w1: 0.294 w2: 0.294 w3: 0.297 b: 0.003 Cost: 29661.800781\n",
            "Epoch  100/1000 w1: 0.674 w2: 0.661 w3: 0.676 b: 0.008 Cost: 1.563628\n",
            "Epoch  200/1000 w1: 0.679 w2: 0.655 w3: 0.677 b: 0.008 Cost: 1.497595\n",
            "Epoch  300/1000 w1: 0.684 w2: 0.649 w3: 0.677 b: 0.008 Cost: 1.435044\n",
            "Epoch  400/1000 w1: 0.689 w2: 0.643 w3: 0.678 b: 0.008 Cost: 1.375726\n",
            "Epoch  500/1000 w1: 0.694 w2: 0.638 w3: 0.678 b: 0.009 Cost: 1.319507\n",
            "Epoch  600/1000 w1: 0.699 w2: 0.633 w3: 0.679 b: 0.009 Cost: 1.266222\n",
            "Epoch  700/1000 w1: 0.704 w2: 0.627 w3: 0.679 b: 0.009 Cost: 1.215703\n",
            "Epoch  800/1000 w1: 0.709 w2: 0.622 w3: 0.679 b: 0.009 Cost: 1.167810\n",
            "Epoch  900/1000 w1: 0.713 w2: 0.617 w3: 0.680 b: 0.009 Cost: 1.122429\n",
            "Epoch 1000/1000 w1: 0.718 w2: 0.613 w3: 0.680 b: 0.009 Cost: 1.079390\n"
          ]
        }
      ]
    },
    {
      "cell_type": "markdown",
      "source": [
        "(3) 벡터와 행렬 연산으로 바꾸기"
      ],
      "metadata": {
        "id": "9p9NoF_SA18s"
      }
    },
    {
      "cell_type": "markdown",
      "source": [
        "효율적인 코딩과 계산을 위하여 행렬 곱셈 연산 (벡터의 내적)을 활용한다."
      ],
      "metadata": {
        "id": "XLqQQGaIC3Oi"
      }
    },
    {
      "cell_type": "markdown",
      "source": [
        "(4) 행렬 연산을 고려하여 파이토치로 구현하기"
      ],
      "metadata": {
        "id": "fOoTAX7aA4Wb"
      }
    },
    {
      "cell_type": "code",
      "source": [
        "x_train = torch.FloatTensor([[73, 80, 75],\n",
        "                             [93, 88, 93],\n",
        "                             [89, 91, 80],\n",
        "                             [96, 98, 100],\n",
        "                             [73, 66, 70]])\n",
        "y_train = torch.FloatTensor([[152],[185],[180],[196],[142]])"
      ],
      "metadata": {
        "id": "V68T5wkFDECb"
      },
      "execution_count": 7,
      "outputs": []
    },
    {
      "cell_type": "code",
      "source": [
        "print(x_train.shape)\n",
        "print(y_train.shape)"
      ],
      "metadata": {
        "colab": {
          "base_uri": "https://localhost:8080/"
        },
        "id": "5C80V9AmDdwy",
        "outputId": "ed1507f6-65e9-4b06-da67-3a1d1a88adc3"
      },
      "execution_count": 8,
      "outputs": [
        {
          "output_type": "stream",
          "name": "stdout",
          "text": [
            "torch.Size([5, 3])\n",
            "torch.Size([5, 1])\n"
          ]
        }
      ]
    },
    {
      "cell_type": "code",
      "source": [
        "# 가중치와 편향 선언\n",
        "W = torch.zeros((3,1), requires_grad=True)\n",
        "b = torch.zeros(1, requires_grad=True)"
      ],
      "metadata": {
        "id": "qPNgjOWFDpH6"
      },
      "execution_count": 9,
      "outputs": []
    },
    {
      "cell_type": "code",
      "source": [
        "# 가설 선언\n",
        "hypothesis = x_train.matmul(W) + b"
      ],
      "metadata": {
        "id": "6rXMqVcDDyAS"
      },
      "execution_count": 10,
      "outputs": []
    },
    {
      "cell_type": "code",
      "source": [
        "# 비용 함수와 옵티마이저 정의, 정해진 에포크만큼 훈련\n",
        "x_train  =  torch.FloatTensor([[73,  80,  75],\n",
        "                               [93,  88,  93],\n",
        "                               [89,  91,  80],\n",
        "                               [96,  98,  100],\n",
        "                               [73,  66,  70]])\n",
        "y_train  =  torch.FloatTensor([[152],  [185],  [180],  [196],  [142]])\n",
        "\n",
        "# 모델 초기화\n",
        "W = torch.zeros((3, 1), requires_grad=True)\n",
        "b = torch.zeros(1, requires_grad=True)\n",
        "# optimizer 설정\n",
        "optimizer = optim.SGD([W, b], lr=1e-5)\n",
        "\n",
        "nb_epochs = 20\n",
        "for epoch in range(nb_epochs + 1):\n",
        "\n",
        "    # H(x) 계산\n",
        "    # 편향 b는 브로드 캐스팅되어 각 샘플에 더해집니다.\n",
        "    hypothesis = x_train.matmul(W) + b\n",
        "\n",
        "    # cost 계산\n",
        "    cost = torch.mean((hypothesis - y_train) ** 2)\n",
        "\n",
        "    # cost로 H(x) 개선\n",
        "    optimizer.zero_grad()\n",
        "    cost.backward()\n",
        "    optimizer.step()\n",
        "\n",
        "    print('Epoch {:4d}/{} hypothesis: {} Cost: {:.6f}'.format(\n",
        "        epoch, nb_epochs, hypothesis.squeeze().detach(), cost.item()\n",
        "    ))"
      ],
      "metadata": {
        "colab": {
          "base_uri": "https://localhost:8080/"
        },
        "id": "PMGzdKJZD6cO",
        "outputId": "40ac78a7-dbe3-4043-d60f-f432b94a6351"
      },
      "execution_count": 11,
      "outputs": [
        {
          "output_type": "stream",
          "name": "stdout",
          "text": [
            "Epoch    0/20 hypothesis: tensor([0., 0., 0., 0., 0.]) Cost: 29661.800781\n",
            "Epoch    1/20 hypothesis: tensor([66.7178, 80.1701, 76.1025, 86.0194, 61.1565]) Cost: 9537.694336\n",
            "Epoch    2/20 hypothesis: tensor([104.5421, 125.6208, 119.2478, 134.7862,  95.8280]) Cost: 3069.590088\n",
            "Epoch    3/20 hypothesis: tensor([125.9858, 151.3882, 143.7087, 162.4333, 115.4844]) Cost: 990.670288\n",
            "Epoch    4/20 hypothesis: tensor([138.1429, 165.9963, 157.5768, 178.1071, 126.6283]) Cost: 322.481873\n",
            "Epoch    5/20 hypothesis: tensor([145.0350, 174.2780, 165.4395, 186.9928, 132.9461]) Cost: 107.717064\n",
            "Epoch    6/20 hypothesis: tensor([148.9423, 178.9730, 169.8976, 192.0301, 136.5279]) Cost: 38.687496\n",
            "Epoch    7/20 hypothesis: tensor([151.1574, 181.6346, 172.4254, 194.8856, 138.5585]) Cost: 16.499043\n",
            "Epoch    8/20 hypothesis: tensor([152.4131, 183.1435, 173.8590, 196.5043, 139.7097]) Cost: 9.365656\n",
            "Epoch    9/20 hypothesis: tensor([153.1250, 183.9988, 174.6723, 197.4217, 140.3625]) Cost: 7.071114\n",
            "Epoch   10/20 hypothesis: tensor([153.5285, 184.4835, 175.1338, 197.9415, 140.7325]) Cost: 6.331847\n",
            "Epoch   11/20 hypothesis: tensor([153.7572, 184.7582, 175.3958, 198.2360, 140.9424]) Cost: 6.092532\n",
            "Epoch   12/20 hypothesis: tensor([153.8868, 184.9138, 175.5449, 198.4026, 141.0613]) Cost: 6.013817\n",
            "Epoch   13/20 hypothesis: tensor([153.9602, 185.0019, 175.6299, 198.4969, 141.1288]) Cost: 5.986785\n",
            "Epoch   14/20 hypothesis: tensor([154.0017, 185.0517, 175.6785, 198.5500, 141.1671]) Cost: 5.976325\n",
            "Epoch   15/20 hypothesis: tensor([154.0252, 185.0798, 175.7065, 198.5800, 141.1888]) Cost: 5.971208\n",
            "Epoch   16/20 hypothesis: tensor([154.0385, 185.0956, 175.7229, 198.5966, 141.2012]) Cost: 5.967835\n",
            "Epoch   17/20 hypothesis: tensor([154.0459, 185.1045, 175.7326, 198.6059, 141.2082]) Cost: 5.964969\n",
            "Epoch   18/20 hypothesis: tensor([154.0501, 185.1094, 175.7386, 198.6108, 141.2122]) Cost: 5.962291\n",
            "Epoch   19/20 hypothesis: tensor([154.0524, 185.1120, 175.7424, 198.6134, 141.2145]) Cost: 5.959664\n",
            "Epoch   20/20 hypothesis: tensor([154.0536, 185.1134, 175.7451, 198.6145, 141.2158]) Cost: 5.957089\n"
          ]
        }
      ]
    },
    {
      "cell_type": "code",
      "source": [
        "# 임의의 입력 값에 대한 예측\n",
        "with torch.no_grad():\n",
        "  new_input = torch.FloatTensor([[75,85,72]]) # 예측하고 싶은 임의의 입력\n",
        "  prediction = new_input.matmul(W) + b\n",
        "  print('Predicted value for input {}: {}'.format(new_input.squeeze().tolist(), prediction.item()))"
      ],
      "metadata": {
        "colab": {
          "base_uri": "https://localhost:8080/"
        },
        "id": "G0C3geiJEBBm",
        "outputId": "a13c76f2-97bc-4e37-ad2b-35175bd9e44d"
      },
      "execution_count": 12,
      "outputs": [
        {
          "output_type": "stream",
          "name": "stdout",
          "text": [
            "Predicted value for input [75.0, 85.0, 72.0]: 156.8051300048828\n"
          ]
        }
      ]
    },
    {
      "cell_type": "markdown",
      "source": [
        "##**03-03. nn.Module과 클래스로 구현하기**"
      ],
      "metadata": {
        "id": "OAFGg2mWjKM_"
      }
    },
    {
      "cell_type": "markdown",
      "source": [
        "이전 챕터까지는 선형 회귀를 좀 더 직접적으로 이해하기 위해 가설, 비용함수를 직접 정의해서 선형 회귀 모델을 구현했다. 이번에는 파이토치에서 이미 구현되어 제공되고 있는 함수들을 불러오는 것으로 더 쉽게 선형 회귀 모델을 구현해보자.  \n",
        "\n",
        "파이토치에서는 선형 회귀 모델이 nn.Linear()라는 함수로, 평균제곱오차 MSE가 nn.functional.mse_loss()라는 함수로 구현되어 있다."
      ],
      "metadata": {
        "id": "d-Oe2-TjEyaK"
      }
    },
    {
      "cell_type": "markdown",
      "source": [
        "(1) 단순 선형 회귀 구현하기"
      ],
      "metadata": {
        "id": "5Ysf720ZEZIX"
      }
    },
    {
      "cell_type": "code",
      "source": [
        "import torch\n",
        "import torch.nn as nn\n",
        "import torch.nn.functional as F"
      ],
      "metadata": {
        "id": "bJfRuSbVFKau"
      },
      "execution_count": 14,
      "outputs": []
    },
    {
      "cell_type": "code",
      "source": [
        "torch.manual_seed(1)"
      ],
      "metadata": {
        "colab": {
          "base_uri": "https://localhost:8080/"
        },
        "id": "iJwUN4bwFP-W",
        "outputId": "6fbd3b47-1430-4b82-b626-fca8c9710148"
      },
      "execution_count": 15,
      "outputs": [
        {
          "output_type": "execute_result",
          "data": {
            "text/plain": [
              "<torch._C.Generator at 0x7b708ce1f170>"
            ]
          },
          "metadata": {},
          "execution_count": 15
        }
      ]
    },
    {
      "cell_type": "code",
      "source": [
        "# 데이터\n",
        "x_train = torch.FloatTensor([[1], [2], [3]])\n",
        "y_train = torch.FloatTensor([[2], [4], [6]])"
      ],
      "metadata": {
        "id": "c9K3mlqPHPtZ"
      },
      "execution_count": 16,
      "outputs": []
    },
    {
      "cell_type": "code",
      "source": [
        "# nn.Linear(): 입력의 차원, 출력의 차원을 인수로 받음\n",
        "# 모델 선언 및 초기화. 단순 선형 회귀이므로 input_dim=1, output_dim=1\n",
        "model = nn.Linear(1,1)"
      ],
      "metadata": {
        "id": "bBKPYPB7HSxe"
      },
      "execution_count": 17,
      "outputs": []
    },
    {
      "cell_type": "code",
      "source": [
        "# model에는 가중치 W와 편향 b가 저장되어 있다.\n",
        "# 이 저장된 값은 model.parameters() 함수를 사용하여 불러올 수 있다.\n",
        "print(list(model.parameters()))"
      ],
      "metadata": {
        "colab": {
          "base_uri": "https://localhost:8080/"
        },
        "id": "6Wbqmy6vHqE4",
        "outputId": "9ba4072a-f0d7-4cbe-9f6f-57af5e88acb2"
      },
      "execution_count": 18,
      "outputs": [
        {
          "output_type": "stream",
          "name": "stdout",
          "text": [
            "[Parameter containing:\n",
            "tensor([[0.5153]], requires_grad=True), Parameter containing:\n",
            "tensor([-0.4414], requires_grad=True)]\n"
          ]
        }
      ]
    },
    {
      "cell_type": "markdown",
      "source": [
        "출력된 첫 번째 값이 W이고 두 번째 값이 b이다. 두 값 모두 현재는 랜덤 초기화되어 있다. 두 값 모두 학습 대상이므로 requries_grad=True로 되어 있다."
      ],
      "metadata": {
        "id": "hJ9UG8g1H6r_"
      }
    },
    {
      "cell_type": "code",
      "source": [
        "# optimizer 설정. 경사 하강법 SGD를 사용하고 learning rate를 의미하는 lr는 0.01\n",
        "optimizer = torch.optim.SGD(model.parameters(), lr=0.01)"
      ],
      "metadata": {
        "id": "9OtcYK9-IH3n"
      },
      "execution_count": 19,
      "outputs": []
    },
    {
      "cell_type": "code",
      "source": [
        "# 전체 훈련 데이터에 대해 경사 하강법을 2000회 반복\n",
        "nb_epochs = 2000\n",
        "for epoch in range(nb_epochs+1):\n",
        "\n",
        "  # H(x) 계산\n",
        "  prediction = model(x_train)\n",
        "\n",
        "  # cost 계산\n",
        "  cost = F.mse_loss(prediction, y_train) # 파이토치에서 제공하는 평균제곱오차 함수\n",
        "\n",
        "  # cost로 H(x) 개선하는 부분\n",
        "  # gradient를 0으로 초기화\n",
        "  optimizer.zero_grad()\n",
        "  # 비용 함수를 미분하여 gradient 계산\n",
        "  cost.backward() # backward 연산\n",
        "  # W와 b 업데이트\n",
        "  optimizer.step()\n",
        "\n",
        "  if epoch % 100 == 0:\n",
        "  # 100번마다 로그 출력\n",
        "    print('Epoch {:4d}/{} Cost: {:.6f}'.format(\n",
        "        epoch, nb_epochs, cost.item()\n",
        "    ))"
      ],
      "metadata": {
        "colab": {
          "base_uri": "https://localhost:8080/"
        },
        "id": "FCtawmWlIUyR",
        "outputId": "a3cfb213-20b2-4f0a-f1d9-b6ad13a1f534"
      },
      "execution_count": 20,
      "outputs": [
        {
          "output_type": "stream",
          "name": "stdout",
          "text": [
            "Epoch    0/2000 Cost: 13.103541\n",
            "Epoch  100/2000 Cost: 0.002791\n",
            "Epoch  200/2000 Cost: 0.001724\n",
            "Epoch  300/2000 Cost: 0.001066\n",
            "Epoch  400/2000 Cost: 0.000658\n",
            "Epoch  500/2000 Cost: 0.000407\n",
            "Epoch  600/2000 Cost: 0.000251\n",
            "Epoch  700/2000 Cost: 0.000155\n",
            "Epoch  800/2000 Cost: 0.000096\n",
            "Epoch  900/2000 Cost: 0.000059\n",
            "Epoch 1000/2000 Cost: 0.000037\n",
            "Epoch 1100/2000 Cost: 0.000023\n",
            "Epoch 1200/2000 Cost: 0.000014\n",
            "Epoch 1300/2000 Cost: 0.000009\n",
            "Epoch 1400/2000 Cost: 0.000005\n",
            "Epoch 1500/2000 Cost: 0.000003\n",
            "Epoch 1600/2000 Cost: 0.000002\n",
            "Epoch 1700/2000 Cost: 0.000001\n",
            "Epoch 1800/2000 Cost: 0.000001\n",
            "Epoch 1900/2000 Cost: 0.000000\n",
            "Epoch 2000/2000 Cost: 0.000000\n"
          ]
        }
      ]
    },
    {
      "cell_type": "markdown",
      "source": [
        "완료된 학습의 cost 값이 매우 작다. W와 b의 값도 최적화가 되었는지 확인해보자."
      ],
      "metadata": {
        "id": "Int6UxREJADQ"
      }
    },
    {
      "cell_type": "code",
      "source": [
        "# 임의의 입력 4를 선언\n",
        "new_var = torch.FloatTensor([[4.0]])\n",
        "# 입력한 값 4에 대해서 예측값 y를 리턴받아서 pred_y에 저장\n",
        "pred_y = model(new_var) # forward 연산\n",
        "# y = 2x 이므로 입력이 4라면 y가 8에 가까운 값이 나와야 제대로 학습이 된 것\n",
        "print(\"훈련 후 입력이 4일 때의 예측값 :\", pred_y)"
      ],
      "metadata": {
        "colab": {
          "base_uri": "https://localhost:8080/"
        },
        "id": "ACgy4GX5I-ea",
        "outputId": "d8f2e9b6-36c2-45c9-f598-8970feee3075"
      },
      "execution_count": 21,
      "outputs": [
        {
          "output_type": "stream",
          "name": "stdout",
          "text": [
            "훈련 후 입력이 4일 때의 예측값 : tensor([[7.9989]], grad_fn=<AddmmBackward0>)\n"
          ]
        }
      ]
    },
    {
      "cell_type": "code",
      "source": [
        "# 학습 후의 W, b 값 출력\n",
        "print(list(model.parameters()))"
      ],
      "metadata": {
        "colab": {
          "base_uri": "https://localhost:8080/"
        },
        "id": "GOzXJZokJelJ",
        "outputId": "f489f572-095f-4684-f37b-dce43b728892"
      },
      "execution_count": 22,
      "outputs": [
        {
          "output_type": "stream",
          "name": "stdout",
          "text": [
            "[Parameter containing:\n",
            "tensor([[1.9994]], requires_grad=True), Parameter containing:\n",
            "tensor([0.0014], requires_grad=True)]\n"
          ]
        }
      ]
    },
    {
      "cell_type": "markdown",
      "source": [
        "- H(x) 식에 입력 x로부터 예측된 y를 얻는 것을  forward 연산이라고 한다.  \n",
        "- 학습 과정에서 비용 함수를 미분하여 기울기를 구하는 것을 backward 연산이라고 한다."
      ],
      "metadata": {
        "id": "BdHvFQOxJtkp"
      }
    },
    {
      "cell_type": "markdown",
      "source": [
        "(2) 다중 선형 회귀 구현하기"
      ],
      "metadata": {
        "id": "iVRUlNuHEcPj"
      }
    },
    {
      "cell_type": "code",
      "source": [
        "import torch\n",
        "import torch.nn as nn\n",
        "import torch.nn.functional as F"
      ],
      "metadata": {
        "id": "V29_uGkfJ5MI"
      },
      "execution_count": 23,
      "outputs": []
    },
    {
      "cell_type": "code",
      "source": [
        "torch.manual_seed(1)"
      ],
      "metadata": {
        "colab": {
          "base_uri": "https://localhost:8080/"
        },
        "id": "h1wqM5XFJ_RF",
        "outputId": "9bb9a498-f8c1-4a43-e41e-5f4b344ea99d"
      },
      "execution_count": 24,
      "outputs": [
        {
          "output_type": "execute_result",
          "data": {
            "text/plain": [
              "<torch._C.Generator at 0x7b708ce1f170>"
            ]
          },
          "metadata": {},
          "execution_count": 24
        }
      ]
    },
    {
      "cell_type": "code",
      "source": [
        "# 데이터\n",
        "x_train = torch.FloatTensor([[73, 80, 75],\n",
        "                             [93, 88, 93],\n",
        "                             [89, 91, 90],\n",
        "                             [96, 98, 100],\n",
        "                             [73, 66, 70]])\n",
        "y_train = torch.FloatTensor([[152], [185], [180], [196], [142]])"
      ],
      "metadata": {
        "id": "Nsh7svSnKC1o"
      },
      "execution_count": 25,
      "outputs": []
    },
    {
      "cell_type": "code",
      "source": [
        "# 선형 회귀 모델 구현\n",
        "# 모델 선언 및 초기화. 다중 선형 회귀이므로 input_dim=3, output_dim=1.\n",
        "model = nn.Linear(3,1)"
      ],
      "metadata": {
        "id": "KUvLxHrBKIcV"
      },
      "execution_count": 26,
      "outputs": []
    },
    {
      "cell_type": "code",
      "source": [
        "print(list(model.parameters()))"
      ],
      "metadata": {
        "colab": {
          "base_uri": "https://localhost:8080/"
        },
        "id": "ZePi0oPlKamf",
        "outputId": "79968026-6e22-4d6a-ddd0-22aa25ec4e35"
      },
      "execution_count": 27,
      "outputs": [
        {
          "output_type": "stream",
          "name": "stdout",
          "text": [
            "[Parameter containing:\n",
            "tensor([[ 0.2975, -0.2548, -0.1119]], requires_grad=True), Parameter containing:\n",
            "tensor([0.2710], requires_grad=True)]\n"
          ]
        }
      ]
    },
    {
      "cell_type": "code",
      "source": [
        "# 옵티마이저 정의\n",
        "optimizer = torch.optim.SGD(model.parameters(), lr=1e-5) # lr=0.01인 경우 기울기가 발산"
      ],
      "metadata": {
        "id": "R9MhY_J5Kikb"
      },
      "execution_count": 28,
      "outputs": []
    },
    {
      "cell_type": "code",
      "source": [
        "nb_epochs = 2000\n",
        "for epoch in range(nb_epochs+1):\n",
        "\n",
        "    # H(x) 계산\n",
        "    prediction = model(x_train)\n",
        "    # model(x_train)은 model.forward(x_train)와 동일함.\n",
        "\n",
        "    # cost 계산\n",
        "    cost = F.mse_loss(prediction, y_train) # <== 파이토치에서 제공하는 평균 제곱 오차 함수\n",
        "\n",
        "    # cost로 H(x) 개선하는 부분\n",
        "    # gradient를 0으로 초기화\n",
        "    optimizer.zero_grad()\n",
        "    # 비용 함수를 미분하여 gradient 계산\n",
        "    cost.backward()\n",
        "    # W와 b를 업데이트\n",
        "    optimizer.step()\n",
        "\n",
        "    if epoch % 100 == 0:\n",
        "    # 100번마다 로그 출력\n",
        "      print('Epoch {:4d}/{} Cost: {:.6f}'.format(\n",
        "          epoch, nb_epochs, cost.item()\n",
        "      ))"
      ],
      "metadata": {
        "colab": {
          "base_uri": "https://localhost:8080/"
        },
        "id": "XdxYzbjuKup2",
        "outputId": "9ee37a9e-1efd-4d1f-89d6-81695ed9ad0e"
      },
      "execution_count": 29,
      "outputs": [
        {
          "output_type": "stream",
          "name": "stdout",
          "text": [
            "Epoch    0/2000 Cost: 31667.597656\n",
            "Epoch  100/2000 Cost: 0.225993\n",
            "Epoch  200/2000 Cost: 0.223911\n",
            "Epoch  300/2000 Cost: 0.221941\n",
            "Epoch  400/2000 Cost: 0.220059\n",
            "Epoch  500/2000 Cost: 0.218271\n",
            "Epoch  600/2000 Cost: 0.216575\n",
            "Epoch  700/2000 Cost: 0.214950\n",
            "Epoch  800/2000 Cost: 0.213413\n",
            "Epoch  900/2000 Cost: 0.211952\n",
            "Epoch 1000/2000 Cost: 0.210560\n",
            "Epoch 1100/2000 Cost: 0.209232\n",
            "Epoch 1200/2000 Cost: 0.207967\n",
            "Epoch 1300/2000 Cost: 0.206761\n",
            "Epoch 1400/2000 Cost: 0.205619\n",
            "Epoch 1500/2000 Cost: 0.204522\n",
            "Epoch 1600/2000 Cost: 0.203484\n",
            "Epoch 1700/2000 Cost: 0.202485\n",
            "Epoch 1800/2000 Cost: 0.201542\n",
            "Epoch 1900/2000 Cost: 0.200635\n",
            "Epoch 2000/2000 Cost: 0.199769\n"
          ]
        }
      ]
    },
    {
      "cell_type": "markdown",
      "source": [
        "학습이 완료된 cost읭 값이 매우 작다. 3개의 w와 b의 값도 최적화가 되었는지 확인해보자."
      ],
      "metadata": {
        "id": "-MDO-ga6KzXN"
      }
    },
    {
      "cell_type": "code",
      "source": [
        "# 임의의 입력 [73, 80, 75] 선언\n",
        "new_var = torch.FloatTensor([[73,80,75]])\n",
        "# 입력한 값 [73,80,75]에 대해서 예측값 y를 리턴받아서 pred_y에 저장\n",
        "pred_y = model(new_var)\n",
        "print(\"훈련 후 입력이 73, 80, 75일 때의 예측값 :\", pred_y)"
      ],
      "metadata": {
        "colab": {
          "base_uri": "https://localhost:8080/"
        },
        "id": "fSlsmafgK5TT",
        "outputId": "c94f4385-5086-4c82-840e-848604c224c3"
      },
      "execution_count": 30,
      "outputs": [
        {
          "output_type": "stream",
          "name": "stdout",
          "text": [
            "훈련 후 입력이 73, 80, 75일 때의 예측값 : tensor([[151.2305]], grad_fn=<AddmmBackward0>)\n"
          ]
        }
      ]
    },
    {
      "cell_type": "code",
      "source": [
        "# 학습 후의 3개의 w, b 값 출력\n",
        "print(list(model.parameters()))"
      ],
      "metadata": {
        "colab": {
          "base_uri": "https://localhost:8080/"
        },
        "id": "eJ8cwMHCLSpl",
        "outputId": "2eb5c844-98a9-4a97-f570-a476576332bf"
      },
      "execution_count": 31,
      "outputs": [
        {
          "output_type": "stream",
          "name": "stdout",
          "text": [
            "[Parameter containing:\n",
            "tensor([[0.9778, 0.4539, 0.5768]], requires_grad=True), Parameter containing:\n",
            "tensor([0.2802], requires_grad=True)]\n"
          ]
        }
      ]
    },
    {
      "cell_type": "markdown",
      "source": [
        "(3) 모델을 클래스로 구현하기"
      ],
      "metadata": {
        "id": "-N6nJybbEd6t"
      }
    },
    {
      "cell_type": "code",
      "source": [
        "# 앞선 단순 선형 회귀 모델의 구현\n",
        "model = nn.Linear(1,1)"
      ],
      "metadata": {
        "id": "X29dS9dtLadC"
      },
      "execution_count": 32,
      "outputs": []
    },
    {
      "cell_type": "code",
      "source": [
        "# 위를 클래스로 구현\n",
        "class LinearRegressionModel(nn.Module): # torch.nn.Module을 상속받는 파이썬 클래스\n",
        "  def __init__(self):\n",
        "    super().__init__()\n",
        "    self.linear = nn.Linear(1,1) # 단순 선형 회귀이므로 input_dim=1, output_dim=1\n",
        "    def forward(self, x):\n",
        "      return self.linear(x)"
      ],
      "metadata": {
        "id": "pmPRk8wMLo73"
      },
      "execution_count": 33,
      "outputs": []
    },
    {
      "cell_type": "code",
      "source": [
        "model = LinearRegressionModel()"
      ],
      "metadata": {
        "id": "wrUTcEXHL_so"
      },
      "execution_count": 34,
      "outputs": []
    },
    {
      "cell_type": "markdown",
      "source": [
        "- 클래스 형태의 모델은 nn.Model을 상속받는다.\n",
        "- __ init __()에서 모델의 구조와 동작을 정의하는 생성자를 정의한다.\n",
        "  - 이는 파이썬에서 객체가 갖는 속성값을 초기화하는 역할로, 객체가 생성될 때 자동으로 호출된다.\n",
        "- super() 함수를 부르면 여기서 만든 클래스는 nn.Module 클래스의 속성들을 가지고 초기화된다.\n",
        "- forward() 함수는 모델이 학습데이터를 입력받아서 forward 연산을 진행시키는 함수이다.\n",
        "  - model 객체를 데이터와 함께 호출하면 자동으로 실행된다."
      ],
      "metadata": {
        "id": "_9wnu2DmMMRC"
      }
    },
    {
      "cell_type": "code",
      "source": [
        "# 앞선 다중 선형 회귀 모델의 구현\n",
        "model = nn.Linear(3,1)"
      ],
      "metadata": {
        "id": "VyRe4MUfNQuS"
      },
      "execution_count": 35,
      "outputs": []
    },
    {
      "cell_type": "code",
      "source": [
        "# 이를 클래스로 구현\n",
        "class MultivariateLinearRegressionModel(nn.Module):\n",
        "  def __init__(self):\n",
        "    super().__init__()\n",
        "    self.linear = nn.Linear(3,1) # 다중 선형 회귀이므로 input_dim=3, input_dim=1\n",
        "    def forward(self, x):\n",
        "      return self.linear(x)"
      ],
      "metadata": {
        "id": "yi8NAnb3NVEm"
      },
      "execution_count": 36,
      "outputs": []
    },
    {
      "cell_type": "code",
      "source": [
        "model = MultivariateLinearRegressionModel()"
      ],
      "metadata": {
        "id": "XbjjObshNrtc"
      },
      "execution_count": 37,
      "outputs": []
    },
    {
      "cell_type": "markdown",
      "source": [
        "(4) 단순 선형 회귀 클래스로 구현하기"
      ],
      "metadata": {
        "id": "Gpmx-KlYEgeo"
      }
    },
    {
      "cell_type": "markdown",
      "source": [
        "모델을 클래스로 구현한 코드는 다음과 같다. 모델을 클래스로 구현했다는 점만 다르고 다른 코드는 전부 동일하다."
      ],
      "metadata": {
        "id": "eNFFlD-4N0Up"
      }
    },
    {
      "cell_type": "code",
      "source": [
        "import torch\n",
        "import torch.nn as nn\n",
        "import torch.nn.functional as F"
      ],
      "metadata": {
        "id": "UNorApZLNwA4"
      },
      "execution_count": 39,
      "outputs": []
    },
    {
      "cell_type": "code",
      "source": [
        "torch.manual_seed(1)"
      ],
      "metadata": {
        "colab": {
          "base_uri": "https://localhost:8080/"
        },
        "id": "jJ57mWoGODCU",
        "outputId": "18961f38-bb72-4cc1-fc2e-e1b14ebca2e7"
      },
      "execution_count": 40,
      "outputs": [
        {
          "output_type": "execute_result",
          "data": {
            "text/plain": [
              "<torch._C.Generator at 0x7b708ce1f170>"
            ]
          },
          "metadata": {},
          "execution_count": 40
        }
      ]
    },
    {
      "cell_type": "code",
      "source": [
        "# 데이터\n",
        "x_train = torch.FloatTensor([[1],[2],[3]])\n",
        "y_train = torch.FloatTensor([[2],[4],[6]])"
      ],
      "metadata": {
        "id": "klMzMyp9OFaU"
      },
      "execution_count": 41,
      "outputs": []
    },
    {
      "cell_type": "code",
      "source": [
        "class LinearRegressionModel(nn.Module):\n",
        "  def __init__(self):\n",
        "    super().__init__()\n",
        "    self.linear = nn.Linear(1,1)\n",
        "\n",
        "  def forward(self, x):\n",
        "    return self.linear(x)"
      ],
      "metadata": {
        "id": "WyUsX7w9OipL"
      },
      "execution_count": 42,
      "outputs": []
    },
    {
      "cell_type": "code",
      "source": [
        "model = LinearRegressionModel()"
      ],
      "metadata": {
        "id": "NOzYhPy6Ou47"
      },
      "execution_count": 43,
      "outputs": []
    },
    {
      "cell_type": "code",
      "source": [
        "# optimizer 설정. 경사 하강법 SGD를 사용하고 learning rate을 의미하는 lr은 0.01\n",
        "optimizer = torch.optim.SGD(model.parameters(), lr=0.01)"
      ],
      "metadata": {
        "id": "n216GIwBOw3Z"
      },
      "execution_count": 44,
      "outputs": []
    },
    {
      "cell_type": "code",
      "source": [
        "# 전체 훈련 데이터에 대해 경사 하강법을 2000회 반복\n",
        "nb_epochs = 2000\n",
        "for epoch in range(nb_epochs+1):\n",
        "\n",
        "  # H(x) 계산\n",
        "  prediction = model(x_train)\n",
        "\n",
        "  # cost 계산\n",
        "  cost = F.mse_loss(prediction, y_train) # 파이토치에서 제공하는 평균제곱옹차 함수\n",
        "\n",
        "  # cost로 H(x) 개선하는 부분\n",
        "  # gradient를 0으로 초기화\n",
        "  optimizer.zero_grad()\n",
        "  # 비용 함수를 미분하여 gradient 계산\n",
        "  cost.backward() # backward 연산\n",
        "  # W와 b 업데이트\n",
        "  optimizer.step()\n",
        "\n",
        "  if epoch % 100 == 0:\n",
        "  # 100번마다 로그 출력: 학습이 100번 진행될 때마다 현재 에포크 번호와 비용을 출력하여 학습 과정이 어떻게 진행되고 있는지 확인 가능\n",
        "  # 로그는 학습 중에 모델의 성능이 어떻게 변화하는지를 보여주는 중요한 지표\n",
        "    print('Epoch {:4d}/{} Cost: {:.6f}'.format(\n",
        "        epoch, nb_epochs, cost.item()\n",
        "    ))"
      ],
      "metadata": {
        "colab": {
          "base_uri": "https://localhost:8080/"
        },
        "id": "oz8KeyZRO5bV",
        "outputId": "3c41092c-997c-40ef-b36c-8384444f4855"
      },
      "execution_count": 45,
      "outputs": [
        {
          "output_type": "stream",
          "name": "stdout",
          "text": [
            "Epoch    0/2000 Cost: 13.103541\n",
            "Epoch  100/2000 Cost: 0.002791\n",
            "Epoch  200/2000 Cost: 0.001724\n",
            "Epoch  300/2000 Cost: 0.001066\n",
            "Epoch  400/2000 Cost: 0.000658\n",
            "Epoch  500/2000 Cost: 0.000407\n",
            "Epoch  600/2000 Cost: 0.000251\n",
            "Epoch  700/2000 Cost: 0.000155\n",
            "Epoch  800/2000 Cost: 0.000096\n",
            "Epoch  900/2000 Cost: 0.000059\n",
            "Epoch 1000/2000 Cost: 0.000037\n",
            "Epoch 1100/2000 Cost: 0.000023\n",
            "Epoch 1200/2000 Cost: 0.000014\n",
            "Epoch 1300/2000 Cost: 0.000009\n",
            "Epoch 1400/2000 Cost: 0.000005\n",
            "Epoch 1500/2000 Cost: 0.000003\n",
            "Epoch 1600/2000 Cost: 0.000002\n",
            "Epoch 1700/2000 Cost: 0.000001\n",
            "Epoch 1800/2000 Cost: 0.000001\n",
            "Epoch 1900/2000 Cost: 0.000000\n",
            "Epoch 2000/2000 Cost: 0.000000\n"
          ]
        }
      ]
    },
    {
      "cell_type": "markdown",
      "source": [
        "(5) 다중 선형 회귀 클래스로 구현하기"
      ],
      "metadata": {
        "id": "V_cGa97hEirp"
      }
    },
    {
      "cell_type": "code",
      "source": [
        "import torch\n",
        "import torch.nn as nn\n",
        "import torch.nn.functional as F"
      ],
      "metadata": {
        "id": "E7enHR2fjr6h"
      },
      "execution_count": 46,
      "outputs": []
    },
    {
      "cell_type": "code",
      "source": [
        "torch.manual_seed(1)"
      ],
      "metadata": {
        "colab": {
          "base_uri": "https://localhost:8080/"
        },
        "id": "imhvwSyzPqHM",
        "outputId": "c2ec7547-343a-4056-f497-625d51aaa9f5"
      },
      "execution_count": 47,
      "outputs": [
        {
          "output_type": "execute_result",
          "data": {
            "text/plain": [
              "<torch._C.Generator at 0x7b708ce1f170>"
            ]
          },
          "metadata": {},
          "execution_count": 47
        }
      ]
    },
    {
      "cell_type": "code",
      "source": [
        "# 데이터\n",
        "x_train = torch.FloatTensor([[73, 80, 75],\n",
        "                             [93, 88, 93],\n",
        "                             [89, 91, 90],\n",
        "                             [96, 98, 100],\n",
        "                             [73, 66, 70]])\n",
        "y_train = torch.FloatTensor([[152], [185], [180], [196], [142]])"
      ],
      "metadata": {
        "id": "Hh9Ga_uWPrPr"
      },
      "execution_count": 60,
      "outputs": []
    },
    {
      "cell_type": "code",
      "source": [
        "class MultivariateLinearRegressionModel(nn.Module):\n",
        "    def __init__(self):\n",
        "        super().__init__()\n",
        "        self.linear = nn.Linear(3, 1) # 다중 선형 회귀이므로 input_dim=3, output_dim=1.\n",
        "\n",
        "    def forward(self, x):\n",
        "        return self.linear(x)\n",
        "\n",
        "model = MultivariateLinearRegressionModel()"
      ],
      "metadata": {
        "id": "Tx2RqWf6QKx5"
      },
      "execution_count": 61,
      "outputs": []
    },
    {
      "cell_type": "code",
      "source": [
        "optimizer = torch.optim.SGD(model.parameters(), lr=1e-5)"
      ],
      "metadata": {
        "id": "UrO2aytzU-jw"
      },
      "execution_count": 62,
      "outputs": []
    },
    {
      "cell_type": "code",
      "source": [
        "nb_epochs = 2000\n",
        "for epoch in range(nb_epochs+1):\n",
        "\n",
        "    # H(x) 계산\n",
        "    prediction = model(x_train)\n",
        "    # model(x_train)은 model.forward(x_train)와 동일함.\n",
        "\n",
        "    # cost 계산\n",
        "    cost = F.mse_loss(prediction, y_train) # <== 파이토치에서 제공하는 평균 제곱 오차 함수\n",
        "\n",
        "    # cost로 H(x) 개선하는 부분\n",
        "    # gradient를 0으로 초기화\n",
        "    optimizer.zero_grad()\n",
        "    # 비용 함수를 미분하여 gradient 계산\n",
        "    cost.backward()\n",
        "    # W와 b를 업데이트\n",
        "    optimizer.step()\n",
        "\n",
        "    if epoch % 100 == 0:\n",
        "    # 100번마다 로그 출력\n",
        "      print('Epoch {:4d}/{} Cost: {:.6f}'.format(\n",
        "          epoch, nb_epochs, cost.item()\n",
        "      ))"
      ],
      "metadata": {
        "colab": {
          "base_uri": "https://localhost:8080/"
        },
        "id": "CUwmHmVKVGE6",
        "outputId": "42008eaa-10de-415d-92ca-e86272650484"
      },
      "execution_count": 63,
      "outputs": [
        {
          "output_type": "stream",
          "name": "stdout",
          "text": [
            "Epoch    0/2000 Cost: 24821.373047\n",
            "Epoch  100/2000 Cost: 0.849148\n",
            "Epoch  200/2000 Cost: 0.825597\n",
            "Epoch  300/2000 Cost: 0.803225\n",
            "Epoch  400/2000 Cost: 0.781968\n",
            "Epoch  500/2000 Cost: 0.761775\n",
            "Epoch  600/2000 Cost: 0.742599\n",
            "Epoch  700/2000 Cost: 0.724357\n",
            "Epoch  800/2000 Cost: 0.707025\n",
            "Epoch  900/2000 Cost: 0.690548\n",
            "Epoch 1000/2000 Cost: 0.674883\n",
            "Epoch 1100/2000 Cost: 0.659985\n",
            "Epoch 1200/2000 Cost: 0.645810\n",
            "Epoch 1300/2000 Cost: 0.632342\n",
            "Epoch 1400/2000 Cost: 0.619514\n",
            "Epoch 1500/2000 Cost: 0.607307\n",
            "Epoch 1600/2000 Cost: 0.595680\n",
            "Epoch 1700/2000 Cost: 0.584620\n",
            "Epoch 1800/2000 Cost: 0.574083\n",
            "Epoch 1900/2000 Cost: 0.564048\n",
            "Epoch 2000/2000 Cost: 0.554477\n"
          ]
        }
      ]
    },
    {
      "cell_type": "markdown",
      "source": [
        "##**03-04. 미니 배치와 데이터 로더(Mini Batch and DataLoader)**"
      ],
      "metadata": {
        "id": "qM7WiTYujKK_"
      }
    },
    {
      "cell_type": "markdown",
      "source": [
        "이번 챕터의 내용은 선형 회귀에 한정되는 내용이 아니다."
      ],
      "metadata": {
        "id": "1OEh6EyCXxz_"
      }
    },
    {
      "cell_type": "markdown",
      "source": [
        "(1) 미니 배치와 배치 크기 (Mini Batch and Batch Size)"
      ],
      "metadata": {
        "id": "EVV334NiX-Af"
      }
    },
    {
      "cell_type": "code",
      "source": [
        "# 앞선 다중 선형 회귀에서 사용했던 데이터\n",
        "x_train = torch.FloatTensor([[73, 80, 75],\n",
        "                             [93, 88, 93],\n",
        "                             [89, 91, 90],\n",
        "                             [96, 98, 100],\n",
        "                             [73, 66, 70]])\n",
        "y_train = torch.FloatTensor([[152], [185], [180], [196], [142]])"
      ],
      "metadata": {
        "id": "GR77Yc2aYegL"
      },
      "execution_count": 64,
      "outputs": []
    },
    {
      "cell_type": "markdown",
      "source": [
        "위 데이터는 현업에서 다루게 되는 데이터에 비하면 굉장히 적은 양이다. 만약 데이터가 수십만 개 이상이라면 전체 데이터에 대해 경사 하강법을 수행하는 것은 매우 느릴 뿐만 아니라 많은 계산량을 필요로 한다. 메모리의 한계로 계산이 불가능한 경우도 있다. 이를 해결하기 위해 전체 데이터를 더 작은 단위로 나누어서 해당 단위로 학습하는 개념이 나오게 되었는데, 이 단위를 **미니 배치**라고 한다."
      ],
      "metadata": {
        "id": "Qd8YcrYPYUSA"
      }
    },
    {
      "cell_type": "markdown",
      "source": [
        "미니 배치 학습에서는 미니 배치의 개수만큼 경사 하강법을 수행해야 전체 데이터가 한 번 전부 사용되어 1에포크가 된다. 미니 배치의 개수는 결국 미니 배치의 크기를 몇으로 하느냐에 따라서 달라지는데 미니 배치의 크기를 배치 크기 (batch size)라고 한다. 배치 크기는 보통 2의 제곱수를 사용한다.  \n",
        "\n",
        "- 배치 경사 하강법\n",
        "  - 전체 데이터에 대해서 한 번에 경사하강법을 수행하는 방법\n",
        "  - 경사 하강법을 할 때 전체 데이터를 사용하므로 가중치 값이 최적값에 수렴하는 과정이 매우 안정적이지만 계산량이 너무 많다.\n",
        "- 미니 배치 경사 하강법\n",
        "  - 미니 배치 단위로 경사 하강법을 수행하는 방법\n",
        "  - 전체 데이터의 일부만을 보고 경사 하강법을 수행하므로 최적값으로 수렴하는 과정에서 값이 조금 헤매기도 하지만 훈련 속도가 빠르다.\n"
      ],
      "metadata": {
        "id": "m_a5uDq2bJXm"
      }
    },
    {
      "cell_type": "markdown",
      "source": [
        "(2) 이터레이션 (Iteration)"
      ],
      "metadata": {
        "id": "meInFv4XYCLb"
      }
    },
    {
      "cell_type": "markdown",
      "source": [
        "이터레이션은 한 번의 에포크 내에서 이루어지는 매개변수인 가중치 W와 b의 업데이트 횟수이다.  \n",
        "\n",
        "전체 데이터가 2000일 때 배치 크기를 200으로 한다면 이터레이션의 수는 총 10개이다. 즉, 한 번의 에포크 당 매개변수 업데이트가 10번 이루어진다."
      ],
      "metadata": {
        "id": "DMnBfuzmcCJz"
      }
    },
    {
      "cell_type": "markdown",
      "source": [
        "(3) 데이터 로드하기 (Data Load)"
      ],
      "metadata": {
        "id": "tdJfpsxNYE2h"
      }
    },
    {
      "cell_type": "code",
      "source": [
        "import torch\n",
        "import torch.nn as nn\n",
        "import torch.nn.functional as F"
      ],
      "metadata": {
        "id": "Q5Dpw1u2cRxP"
      },
      "execution_count": 65,
      "outputs": []
    },
    {
      "cell_type": "code",
      "source": [
        "from torch.utils.data import TensorDataset # 텐서데이터셋\n",
        "from torch.utils.data import DataLoader # 데이터로더"
      ],
      "metadata": {
        "id": "9g1L_i2OcYLV"
      },
      "execution_count": 66,
      "outputs": []
    },
    {
      "cell_type": "code",
      "source": [
        "x_train = torch.FloatTensor([[73,80,75],\n",
        "                             [93,88,93],\n",
        "                             [89,91,90],\n",
        "                             [96,98,100],\n",
        "                             [73,66,70]])\n",
        "y_train = torch.FloatTensor([[152],[185],[180],[196],[142]])"
      ],
      "metadata": {
        "id": "WvFVq-qJcYCa"
      },
      "execution_count": 67,
      "outputs": []
    },
    {
      "cell_type": "code",
      "source": [
        "dataset = TensorDataset(x_train, y_train)"
      ],
      "metadata": {
        "id": "dlk0_U5Dc6-j"
      },
      "execution_count": 68,
      "outputs": []
    },
    {
      "cell_type": "code",
      "source": [
        "# 데이터로더는 기본적으로 2개의 인자를 입력받는다: 데이터셋, 미니 배치의 크기\n",
        "# 추가적으로 많이 사용되는 인자: shuffle\n",
        "# shuffle=True: Epoch마다 데이터셋을 섞어서 데이터가 학습되는 순서를 바꾼다.\n",
        "dataloader = DataLoader(dataset, batch_size=2, shuffle=True)"
      ],
      "metadata": {
        "id": "q3Sswx2rdGZ4"
      },
      "execution_count": 69,
      "outputs": []
    },
    {
      "cell_type": "code",
      "source": [
        "# 모델, 옵티마이저 설계\n",
        "model = nn.Linear(3,1)\n",
        "optimizer = torch.optim.SGD(model.parameters(), lr=1e-5)"
      ],
      "metadata": {
        "id": "qi2wyjoTdbYX"
      },
      "execution_count": 70,
      "outputs": []
    },
    {
      "cell_type": "code",
      "source": [
        "nb_epochs = 20\n",
        "for epoch in range(nb_epochs + 1):\n",
        "  for batch_idx, samples in enumerate(dataloader):\n",
        "    # print(batch_idx)\n",
        "    # print(samples)\n",
        "    x_train, y_train = samples\n",
        "    # H(x) 계산\n",
        "    prediction = model(x_train)\n",
        "\n",
        "    # cost 계산\n",
        "    cost = F.mse_loss(prediction, y_train)\n",
        "\n",
        "    # cost로 H(x) 계산\n",
        "    optimizer.zero_grad()\n",
        "    cost.backward()\n",
        "    optimizer.step()\n",
        "\n",
        "    print('Epoch {:4d}/{} Batch {}/{} Cost: {:.6f}'.format(\n",
        "        epoch, nb_epochs, batch_idx+1, len(dataloader),\n",
        "        cost.item()\n",
        "    ))"
      ],
      "metadata": {
        "colab": {
          "base_uri": "https://localhost:8080/"
        },
        "id": "7e_XlI88dnKa",
        "outputId": "5b2d65f3-4b7a-45d2-acbc-341301339144"
      },
      "execution_count": 71,
      "outputs": [
        {
          "output_type": "stream",
          "name": "stdout",
          "text": [
            "Epoch    0/20 Batch 1/3 Cost: 32868.546875\n",
            "Epoch    0/20 Batch 2/3 Cost: 8253.976562\n",
            "Epoch    0/20 Batch 3/3 Cost: 3580.594238\n",
            "Epoch    1/20 Batch 1/3 Cost: 670.870789\n",
            "Epoch    1/20 Batch 2/3 Cost: 462.119263\n",
            "Epoch    1/20 Batch 3/3 Cost: 113.443825\n",
            "Epoch    2/20 Batch 1/3 Cost: 18.598494\n",
            "Epoch    2/20 Batch 2/3 Cost: 9.061541\n",
            "Epoch    2/20 Batch 3/3 Cost: 4.041673\n",
            "Epoch    3/20 Batch 1/3 Cost: 0.020788\n",
            "Epoch    3/20 Batch 2/3 Cost: 0.833903\n",
            "Epoch    3/20 Batch 3/3 Cost: 0.693444\n",
            "Epoch    4/20 Batch 1/3 Cost: 0.163755\n",
            "Epoch    4/20 Batch 2/3 Cost: 0.754121\n",
            "Epoch    4/20 Batch 3/3 Cost: 0.297472\n",
            "Epoch    5/20 Batch 1/3 Cost: 0.393005\n",
            "Epoch    5/20 Batch 2/3 Cost: 0.134999\n",
            "Epoch    5/20 Batch 3/3 Cost: 0.505432\n",
            "Epoch    6/20 Batch 1/3 Cost: 0.402871\n",
            "Epoch    6/20 Batch 2/3 Cost: 0.228513\n",
            "Epoch    6/20 Batch 3/3 Cost: 0.402366\n",
            "Epoch    7/20 Batch 1/3 Cost: 0.409400\n",
            "Epoch    7/20 Batch 2/3 Cost: 0.237290\n",
            "Epoch    7/20 Batch 3/3 Cost: 0.213745\n",
            "Epoch    8/20 Batch 1/3 Cost: 0.264171\n",
            "Epoch    8/20 Batch 2/3 Cost: 0.218568\n",
            "Epoch    8/20 Batch 3/3 Cost: 0.523424\n",
            "Epoch    9/20 Batch 1/3 Cost: 0.370756\n",
            "Epoch    9/20 Batch 2/3 Cost: 0.213059\n",
            "Epoch    9/20 Batch 3/3 Cost: 0.466341\n",
            "Epoch   10/20 Batch 1/3 Cost: 0.465336\n",
            "Epoch   10/20 Batch 2/3 Cost: 0.239000\n",
            "Epoch   10/20 Batch 3/3 Cost: 0.180848\n",
            "Epoch   11/20 Batch 1/3 Cost: 0.334500\n",
            "Epoch   11/20 Batch 2/3 Cost: 0.249663\n",
            "Epoch   11/20 Batch 3/3 Cost: 0.593212\n",
            "Epoch   12/20 Batch 1/3 Cost: 0.456462\n",
            "Epoch   12/20 Batch 2/3 Cost: 0.268657\n",
            "Epoch   12/20 Batch 3/3 Cost: 0.272710\n",
            "Epoch   13/20 Batch 1/3 Cost: 0.217249\n",
            "Epoch   13/20 Batch 2/3 Cost: 0.230086\n",
            "Epoch   13/20 Batch 3/3 Cost: 0.653330\n",
            "Epoch   14/20 Batch 1/3 Cost: 0.060121\n",
            "Epoch   14/20 Batch 2/3 Cost: 0.417600\n",
            "Epoch   14/20 Batch 3/3 Cost: 0.553904\n",
            "Epoch   15/20 Batch 1/3 Cost: 0.349259\n",
            "Epoch   15/20 Batch 2/3 Cost: 0.330656\n",
            "Epoch   15/20 Batch 3/3 Cost: 0.803739\n",
            "Epoch   16/20 Batch 1/3 Cost: 0.371288\n",
            "Epoch   16/20 Batch 2/3 Cost: 0.279162\n",
            "Epoch   16/20 Batch 3/3 Cost: 0.129282\n",
            "Epoch   17/20 Batch 1/3 Cost: 0.413137\n",
            "Epoch   17/20 Batch 2/3 Cost: 0.213797\n",
            "Epoch   17/20 Batch 3/3 Cost: 0.202017\n",
            "Epoch   18/20 Batch 1/3 Cost: 0.196119\n",
            "Epoch   18/20 Batch 2/3 Cost: 0.791899\n",
            "Epoch   18/20 Batch 3/3 Cost: 0.209422\n",
            "Epoch   19/20 Batch 1/3 Cost: 0.091373\n",
            "Epoch   19/20 Batch 2/3 Cost: 0.613133\n",
            "Epoch   19/20 Batch 3/3 Cost: 0.668988\n",
            "Epoch   20/20 Batch 1/3 Cost: 0.515697\n",
            "Epoch   20/20 Batch 2/3 Cost: 0.498143\n",
            "Epoch   20/20 Batch 3/3 Cost: 0.129458\n"
          ]
        }
      ]
    },
    {
      "cell_type": "code",
      "source": [
        "# 임의의 입력 선언\n",
        "new_var = torch.FloatTensor([[73,80,75]])\n",
        "# 입력값에 대해서 예측값 y를 입력받아서 pred_y에 저장\n",
        "pred_y = model(new_var)\n",
        "print(\"훈련 후 입력이 73, 80, 75일 때의 예측값 :\", pred_y)"
      ],
      "metadata": {
        "colab": {
          "base_uri": "https://localhost:8080/"
        },
        "id": "ojxcIIyDeMWL",
        "outputId": "d1a25e3c-6315-493f-cbb6-92e0a077d095"
      },
      "execution_count": 72,
      "outputs": [
        {
          "output_type": "stream",
          "name": "stdout",
          "text": [
            "훈련 후 입력이 73, 80, 75일 때의 예측값 : tensor([[151.5295]], grad_fn=<AddmmBackward0>)\n"
          ]
        }
      ]
    },
    {
      "cell_type": "markdown",
      "source": [
        "(4) 커스텀 데이터셋 (Custom Dataset)"
      ],
      "metadata": {
        "id": "c6DfcVeNYItF"
      }
    },
    {
      "cell_type": "markdown",
      "source": [
        "torch.utils.data.Dataset을 상속받아 직접 커스텀 데이터셋(Custon Dataset)을 만드는 경우도 있다. torch.utils.data.Dataset은 파이토치에서 데이터셋을 제공하는 추상 클래스이다.  \n",
        "\n",
        "커스텀 데이터셋을 만들 때, 가장 기본적인 뼈대는 아래와 같다. 여기서 필요한 기본적인 define은 3개이다."
      ],
      "metadata": {
        "id": "1RYGJgwiekxB"
      }
    },
    {
      "cell_type": "markdown",
      "source": [
        "![image.png](data:image/png;base64,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)"
      ],
      "metadata": {
        "id": "BHGmrxbZflIf"
      }
    },
    {
      "cell_type": "markdown",
      "source": [
        "(5) 커스텀 데이터셋 (Custom Dataset)으로 선형 회귀 구현하기"
      ],
      "metadata": {
        "id": "WN8j2GhBYN0b"
      }
    },
    {
      "cell_type": "code",
      "source": [
        "import torch\n",
        "import torch.nn.functional as F\n",
        "from torch.utils.data import Dataset\n",
        "from torch.utils.data import DataLoader"
      ],
      "metadata": {
        "id": "ghZV5I8Wf1ql"
      },
      "execution_count": 75,
      "outputs": []
    },
    {
      "cell_type": "code",
      "source": [
        "# Dataset 상속\n",
        "class CustomDataset(Dataset):\n",
        "  def __init__(self):\n",
        "    self.x_data = [[73,80,75],\n",
        "                   [93,88,93],\n",
        "                   [89,91,90],\n",
        "                   [73,66,70]]\n",
        "    self.y_data = [[152],[185],[180],[196],[142]]\n",
        "\n",
        "  # 총 데이터의 개수를 리턴\n",
        "  def __len__(self):\n",
        "    return len(self.x_data)\n",
        "\n",
        "  # 인덱스를 입력받아 그에 맵핑되는 입출력 데이터를 파이토치의 Tensor 형태로 리턴\n",
        "  def __getitem__(self, idx):\n",
        "    x = torch.FloatTensor(self.x_data[idx])\n",
        "    y = torch.FloatTensor(self.y_data[idx])\n",
        "    return x, y"
      ],
      "metadata": {
        "id": "JCP6D_DBf5bh"
      },
      "execution_count": 76,
      "outputs": []
    },
    {
      "cell_type": "code",
      "source": [
        "dataset = CustomDataset()\n",
        "dataloader = DataLoader(dataset, batch_size=2, shuffle=True)"
      ],
      "metadata": {
        "id": "8OSfiTgxgm7t"
      },
      "execution_count": 77,
      "outputs": []
    },
    {
      "cell_type": "code",
      "source": [
        "model = torch.nn.Linear(3,1)\n",
        "optimizer = torch.optim.SGD(model.parameters(), lr=1e-5)"
      ],
      "metadata": {
        "id": "fqKXdONcgszv"
      },
      "execution_count": 78,
      "outputs": []
    },
    {
      "cell_type": "code",
      "source": [
        "nb_epochs = 20\n",
        "for epoch in range(nb_epochs + 1):\n",
        "  for batch_idx, samples in enumerate(dataloader):\n",
        "    # print(batch_idx)\n",
        "    # print(samples)\n",
        "    x_train, y_train = samples\n",
        "    # H(x) 계산\n",
        "    prediction = model(x_train)\n",
        "\n",
        "    # cost 계산\n",
        "    cost = F.mse_loss(prediction, y_train)\n",
        "\n",
        "    # cost로 H(x) 계산\n",
        "    optimizer.zero_grad()\n",
        "    cost.backward()\n",
        "    optimizer.step()\n",
        "\n",
        "    print('Epoch {:4d}/{} Batch {}/{} Cost: {:.6f}'.format(\n",
        "        epoch, nb_epochs, batch_idx+1, len(dataloader),\n",
        "        cost.item()\n",
        "        ))"
      ],
      "metadata": {
        "colab": {
          "base_uri": "https://localhost:8080/"
        },
        "id": "StSEkEKEg0Iv",
        "outputId": "87225f43-3cf0-44e0-cf80-e936dd6e0078"
      },
      "execution_count": 79,
      "outputs": [
        {
          "output_type": "stream",
          "name": "stdout",
          "text": [
            "Epoch    0/20 Batch 1/2 Cost: 11310.050781\n",
            "Epoch    0/20 Batch 2/2 Cost: 7518.619629\n",
            "Epoch    1/20 Batch 1/2 Cost: 881.812866\n",
            "Epoch    1/20 Batch 2/2 Cost: 2245.005615\n",
            "Epoch    2/20 Batch 1/2 Cost: 1436.496704\n",
            "Epoch    2/20 Batch 2/2 Cost: 76.114395\n",
            "Epoch    3/20 Batch 1/2 Cost: 26.543261\n",
            "Epoch    3/20 Batch 2/2 Cost: 1291.126465\n",
            "Epoch    4/20 Batch 1/2 Cost: 1049.664551\n",
            "Epoch    4/20 Batch 2/2 Cost: 252.901520\n",
            "Epoch    5/20 Batch 1/2 Cost: 115.478119\n",
            "Epoch    5/20 Batch 2/2 Cost: 1235.923950\n",
            "Epoch    6/20 Batch 1/2 Cost: 150.365128\n",
            "Epoch    6/20 Batch 2/2 Cost: 1148.074951\n",
            "Epoch    7/20 Batch 1/2 Cost: 183.998566\n",
            "Epoch    7/20 Batch 2/2 Cost: 1130.558472\n",
            "Epoch    8/20 Batch 1/2 Cost: 929.237244\n",
            "Epoch    8/20 Batch 2/2 Cost: 459.313873\n",
            "Epoch    9/20 Batch 1/2 Cost: 1058.207397\n",
            "Epoch    9/20 Batch 2/2 Cost: 323.838959\n",
            "Epoch   10/20 Batch 1/2 Cost: 1137.083374\n",
            "Epoch   10/20 Batch 2/2 Cost: 181.556534\n",
            "Epoch   11/20 Batch 1/2 Cost: 91.919891\n",
            "Epoch   11/20 Batch 2/2 Cost: 1254.021973\n",
            "Epoch   12/20 Batch 1/2 Cost: 146.636002\n",
            "Epoch   12/20 Batch 2/2 Cost: 1152.589233\n",
            "Epoch   13/20 Batch 1/2 Cost: 938.898987\n",
            "Epoch   13/20 Batch 2/2 Cost: 443.645264\n",
            "Epoch   14/20 Batch 1/2 Cost: 83.237579\n",
            "Epoch   14/20 Batch 2/2 Cost: 1206.878906\n",
            "Epoch   15/20 Batch 1/2 Cost: 153.404785\n",
            "Epoch   15/20 Batch 2/2 Cost: 1145.995117\n",
            "Epoch   16/20 Batch 1/2 Cost: 239.199463\n",
            "Epoch   16/20 Batch 2/2 Cost: 1147.852051\n",
            "Epoch   17/20 Batch 1/2 Cost: 990.866577\n",
            "Epoch   17/20 Batch 2/2 Cost: 294.756226\n",
            "Epoch   18/20 Batch 1/2 Cost: 1063.978760\n",
            "Epoch   18/20 Batch 2/2 Cost: 224.289703\n",
            "Epoch   19/20 Batch 1/2 Cost: 77.101852\n",
            "Epoch   19/20 Batch 2/2 Cost: 1202.655640\n",
            "Epoch   20/20 Batch 1/2 Cost: 1012.016357\n",
            "Epoch   20/20 Batch 2/2 Cost: 278.162323\n"
          ]
        }
      ]
    },
    {
      "cell_type": "code",
      "source": [
        "# 임의의 입력 [73, 80, 75]를 선언\n",
        "new_var =  torch.FloatTensor([[73, 80, 75]])\n",
        "# 입력한 값 [73, 80, 75]에 대해서 예측값 y를 리턴받아서 pred_y에 저장\n",
        "pred_y = model(new_var)\n",
        "print(\"훈련 후 입력이 73, 80, 75일 때의 예측값 :\", pred_y)"
      ],
      "metadata": {
        "colab": {
          "base_uri": "https://localhost:8080/"
        },
        "id": "mUprs9ydg9HP",
        "outputId": "3356d032-f5d0-4dd0-c478-4a8ef55a8706"
      },
      "execution_count": 80,
      "outputs": [
        {
          "output_type": "stream",
          "name": "stdout",
          "text": [
            "훈련 후 입력이 73, 80, 75일 때의 예측값 : tensor([[159.3338]], grad_fn=<AddmmBackward0>)\n"
          ]
        }
      ]
    },
    {
      "cell_type": "markdown",
      "source": [
        "##**03-05. 벡터와 행렬 연산 복습하기**"
      ],
      "metadata": {
        "id": "v34h1cFRjKJH"
      }
    },
    {
      "cell_type": "markdown",
      "source": [
        "(1) 벡터와 행렬과 텐서"
      ],
      "metadata": {
        "id": "-nKv0ljkjKHX"
      }
    },
    {
      "cell_type": "markdown",
      "source": [
        "(2) 텐서"
      ],
      "metadata": {
        "id": "GxPp67a8jKFa"
      }
    },
    {
      "cell_type": "code",
      "source": [
        "import numpy as np"
      ],
      "metadata": {
        "id": "d1JZN2UOhrm-"
      },
      "execution_count": 81,
      "outputs": []
    },
    {
      "cell_type": "code",
      "source": [
        "# 0차원 텐서 (스칼라)\n",
        "d = np.array(5)\n",
        "print('텐서의 차원 :', d.ndim)\n",
        "print('텐서의 크기(shape) :', d.shape)"
      ],
      "metadata": {
        "colab": {
          "base_uri": "https://localhost:8080/"
        },
        "id": "ZKytgRiShvh9",
        "outputId": "26ca3f9f-ba83-4714-c511-d363985add5d"
      },
      "execution_count": 82,
      "outputs": [
        {
          "output_type": "stream",
          "name": "stdout",
          "text": [
            "텐서의 차원 : 0\n",
            "텐서의 크기(shape) : ()\n"
          ]
        }
      ]
    },
    {
      "cell_type": "markdown",
      "source": [
        "ndim을 출력했을 때 나오는 값을 **축(axis)의 개수** 또는 **텐서의 차원**이라고 부른다."
      ],
      "metadata": {
        "id": "TtZJjNk_iBxP"
      }
    },
    {
      "cell_type": "code",
      "source": [
        "# 1차원 텐서 (벡터)\n",
        "d = np.array([1,2,3,4])\n",
        "print('텐서의 차원 :', d.ndim)\n",
        "print('텐서의 크기(shape) :', d.shape)"
      ],
      "metadata": {
        "colab": {
          "base_uri": "https://localhost:8080/"
        },
        "id": "T_O-kkvNiICu",
        "outputId": "8d7fd3dc-57a7-4408-d1c4-5c41ad783a20"
      },
      "execution_count": 83,
      "outputs": [
        {
          "output_type": "stream",
          "name": "stdout",
          "text": [
            "텐서의 차원 : 1\n",
            "텐서의 크기(shape) : (4,)\n"
          ]
        }
      ]
    },
    {
      "cell_type": "markdown",
      "source": [
        "- 벡터에서의 차원: 하나의 축에 놓인 원소의 개수\n",
        "- 텐서에서의 차원: 축의 개수"
      ],
      "metadata": {
        "id": "Ab3Jt1CaiYkX"
      }
    },
    {
      "cell_type": "code",
      "source": [
        "# 2차원 텐서 (행렬)\n",
        "d = np.array([[1,2,3,4],[5,6,7,8],[9,10,11,12]])\n",
        "print('텐서의 차원 :', d.ndim)\n",
        "print('텐서의 크기(shape) :', d.shape)"
      ],
      "metadata": {
        "colab": {
          "base_uri": "https://localhost:8080/"
        },
        "id": "IRKY1BT9ifuU",
        "outputId": "505778c8-8524-4dde-f4a4-67759b2c6757"
      },
      "execution_count": 84,
      "outputs": [
        {
          "output_type": "stream",
          "name": "stdout",
          "text": [
            "텐서의 차원 : 2\n",
            "텐서의 크기(shape) : (3, 4)\n"
          ]
        }
      ]
    },
    {
      "cell_type": "markdown",
      "source": [
        "- 텐서의 크기: 각 축을 따라서 얼마나 많은 차원이 있는지를 나타낸 값"
      ],
      "metadata": {
        "id": "m_cuYrdei0_q"
      }
    },
    {
      "cell_type": "code",
      "source": [
        "# 3차원 텐서 (다차원 배열)\n",
        "d = np.array([\n",
        "    [[1,2,3,4,5],[6,7,8,9,10],[10,11,12,13,14]],\n",
        "     [[15,16,17,18,19],[19,20,21,22,23],[23,24,25,26,27]]\n",
        "])\n",
        "print('텐서의 차원 :', d.ndim)\n",
        "print('텐서의 크기(shape) :', d.shape)"
      ],
      "metadata": {
        "colab": {
          "base_uri": "https://localhost:8080/"
        },
        "id": "jJwu7eRwi-Ju",
        "outputId": "95472dc5-acde-4a90-997c-b6bd2cc2ca23"
      },
      "execution_count": 86,
      "outputs": [
        {
          "output_type": "stream",
          "name": "stdout",
          "text": [
            "텐서의 차원 : 3\n",
            "텐서의 크기(shape) : (2, 3, 5)\n"
          ]
        }
      ]
    },
    {
      "cell_type": "markdown",
      "source": [
        "(3) 벡터와 행렬의 연산"
      ],
      "metadata": {
        "id": "raEMDMhzjKDX"
      }
    },
    {
      "cell_type": "code",
      "source": [
        "import numpy as np"
      ],
      "metadata": {
        "id": "znteGvHrj_4e"
      },
      "execution_count": 87,
      "outputs": []
    },
    {
      "cell_type": "code",
      "source": [
        "# 벡터의 덧셈과 뺄셈\n",
        "A = np.array([8,4,5])\n",
        "B = np.array([1,2,3])\n",
        "print('두 벡터의 합 :', A+B)\n",
        "print('두 벡터의 차 :', A-B)"
      ],
      "metadata": {
        "colab": {
          "base_uri": "https://localhost:8080/"
        },
        "id": "zy2mgyVIkEmh",
        "outputId": "060cc91b-5e6d-41f1-e3e0-1856bfd0982e"
      },
      "execution_count": 88,
      "outputs": [
        {
          "output_type": "stream",
          "name": "stdout",
          "text": [
            "두 벡터의 합 : [9 6 8]\n",
            "두 벡터의 차 : [7 2 2]\n"
          ]
        }
      ]
    },
    {
      "cell_type": "code",
      "source": [
        "# 행렬의 덧셈과 뺄셈\n",
        "A = np.array([[10, 20, 30, 40], [50, 60, 70, 80]])\n",
        "B = np.array([[5, 6, 7, 8],[1, 2, 3, 4]])\n",
        "print('두 행렬의 합 :')\n",
        "print(A + B)\n",
        "print('두 행렬의 차 :')\n",
        "print(A - B)"
      ],
      "metadata": {
        "colab": {
          "base_uri": "https://localhost:8080/"
        },
        "id": "hEyXoE0ZkWnI",
        "outputId": "a2b55c98-dcec-4a6f-f29c-996e1990bb30"
      },
      "execution_count": 89,
      "outputs": [
        {
          "output_type": "stream",
          "name": "stdout",
          "text": [
            "두 행렬의 합 :\n",
            "[[15 26 37 48]\n",
            " [51 62 73 84]]\n",
            "두 행렬의 차 :\n",
            "[[ 5 14 23 32]\n",
            " [49 58 67 76]]\n"
          ]
        }
      ]
    },
    {
      "cell_type": "code",
      "source": [
        "# 벡터의 내적\n",
        "A = np.array([1, 2, 3])\n",
        "B = np.array([4, 5, 6])\n",
        "print('두 벡터의 내적 :',np.dot(A, B))"
      ],
      "metadata": {
        "colab": {
          "base_uri": "https://localhost:8080/"
        },
        "id": "HOgri2ZXkeP3",
        "outputId": "3bd82c49-175b-4d90-db69-e83a258b7ae2"
      },
      "execution_count": 90,
      "outputs": [
        {
          "output_type": "stream",
          "name": "stdout",
          "text": [
            "두 벡터의 내적 : 32\n"
          ]
        }
      ]
    },
    {
      "cell_type": "code",
      "source": [
        "# 행렬의 곱셈\n",
        "A = np.array([[1, 3],[2, 4]])\n",
        "B = np.array([[5, 7],[6, 8]])\n",
        "print('두 행렬의 행렬곱 :')\n",
        "print(np.matmul(A, B))"
      ],
      "metadata": {
        "colab": {
          "base_uri": "https://localhost:8080/"
        },
        "id": "pGRAuj6bks0y",
        "outputId": "ca8200a1-1cfa-4b90-84e4-198bf8365c53"
      },
      "execution_count": 91,
      "outputs": [
        {
          "output_type": "stream",
          "name": "stdout",
          "text": [
            "두 행렬의 행렬곱 :\n",
            "[[23 31]\n",
            " [34 46]]\n"
          ]
        }
      ]
    },
    {
      "cell_type": "markdown",
      "source": [
        "(4) 다중 선형 회귀 행렬 연산으로 이해하기"
      ],
      "metadata": {
        "id": "jWiOkmd1jKBg"
      }
    },
    {
      "cell_type": "markdown",
      "source": [
        "(5) 샘플(Sample)과 특성(Feature)"
      ],
      "metadata": {
        "id": "6UoW_hBxhNPx"
      }
    },
    {
      "cell_type": "markdown",
      "source": [
        "- 머신러닝에서는 데이터를 셀 수 있는 단위로 구분할 때, 각각을 **샘플**이라고 부른다.\n",
        "- 종속변수 y를 예측하기 위한 각각의 독립변수 x를 **특성**이라고 부른다."
      ],
      "metadata": {
        "id": "ovW0hI3vlY7_"
      }
    },
    {
      "cell_type": "markdown",
      "source": [
        "![image.png](data:image/png;base64,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)"
      ],
      "metadata": {
        "id": "A_e_PTA2ljPo"
      }
    },
    {
      "cell_type": "markdown",
      "source": [
        "(6) 가중치와 편행 행렬의 크기 결정"
      ],
      "metadata": {
        "id": "MYTl6M5mhO3N"
      }
    }
  ]
}