{
  "nbformat": 4,
  "nbformat_minor": 0,
  "metadata": {
    "colab": {
      "provenance": [],
      "authorship_tag": "ABX9TyNvkf+zW6mqQNXBuqJg3prL",
      "include_colab_link": true
    },
    "kernelspec": {
      "name": "python3",
      "display_name": "Python 3"
    },
    "language_info": {
      "name": "python"
    }
  },
  "cells": [
    {
      "cell_type": "markdown",
      "metadata": {
        "id": "view-in-github",
        "colab_type": "text"
      },
      "source": [
        "<a href=\"https://colab.research.google.com/github/levynlee/ESAA/blob/main/1115_%ED%95%84%EC%82%AC%EA%B3%BC%EC%A0%9C.ipynb\" target=\"_parent\"><img src=\"https://colab.research.google.com/assets/colab-badge.svg\" alt=\"Open In Colab\"/></a>"
      ]
    },
    {
      "cell_type": "markdown",
      "source": [
        "#**PART4. 합성곱 신경망(CNN)**"
      ],
      "metadata": {
        "id": "KerPVBk-6_Bb"
      }
    },
    {
      "cell_type": "markdown",
      "source": [
        "##**1. 합성곱 신경망**"
      ],
      "metadata": {
        "id": "WH3UHppS6-_a"
      }
    },
    {
      "cell_type": "markdown",
      "source": [
        "합성곱 신경망(CNN: Convolution Neural Network)은 **데이터가 가진 특징들의 패턴을 학습하는 알고리즘**으로 컴퓨터 비전 분야에서 많이 사용된다. 대표적으로 이미지 분류, 객체 탐지, 스타일 전이 등을 예로 들 수 있다."
      ],
      "metadata": {
        "id": "D975fZDC8WU-"
      }
    },
    {
      "cell_type": "markdown",
      "source": [
        "###**1-1. 이미지 표현**"
      ],
      "metadata": {
        "id": "UHFfYdnY6-9F"
      }
    },
    {
      "cell_type": "markdown",
      "source": [
        "이미지 또는 영상을 컴퓨터가 이해할 수 있게 하려면 숫자로 표현해야 한다. 0~255 사이의 숫자로 각 픽셀의 화소값을 나타내는 방식으로 표현할 수 있다. 숫자 0은 검은색, 숫자 255는 흰색을 나타낸다. 그 중간에 있는 숫자들은 회색으로 표현된다. 화소를 나타내는 숫자는 이미지의 강도를 나타내고, 숫자가 클수록 더 강한 특성을 나타낸다고 볼 수 있다.  \n",
        "\n",
        "컬러 이미지는 R, G, B 채널로 구성된 3장의 이미지를 겹쳐서 표현한다. 각 채널 이미지는 채널이 1개인 흑백 이미지와 마찬가지로 0~255 사이의 숫자로 나타내며, 숫자가 클수록 해당 색상을 더 강하게 표현한다."
      ],
      "metadata": {
        "id": "cDjw-thM9wK7"
      }
    },
    {
      "cell_type": "markdown",
      "source": [
        "###**1-2. 합성곱(Convolution)**"
      ],
      "metadata": {
        "id": "VZrGJks76-69"
      }
    },
    {
      "cell_type": "markdown",
      "source": [
        "합성곱 연산은 입력 이미지에 대하여 일반적으로 정방형 크기를 가지는 커널(kernel)을 사용하여 입력 이미지에 대한 특성을 추출하는 방법이다. 합성곱 연산을 통해 추출된 이미지를 특성맵이라고 한다. 이렇게 추출된 특성맵을 딥러닝 모델 학습에 사용하면 훨씬 더 좋은 성능을 보인다.  \n",
        "\n",
        "입력 이미지의 크기는 (세로, 가로) 순서로 shape이 출력된다. 즉, 세로 5픽셀, 가로 5픽셀의 크기를 가지는 이미지는 (5, 5)의 shape을 가진다."
      ],
      "metadata": {
        "id": "buS_B0uN-XP0"
      }
    },
    {
      "cell_type": "markdown",
      "source": [
        "###**1-3. 채널(channel)**"
      ],
      "metadata": {
        "id": "kTPyLNa96-42"
      }
    },
    {
      "cell_type": "markdown",
      "source": [
        "채널은 입력 이미지를 구성하는 2차원 배열의 개수이다. 컬러 이미지의 경우 3개의 채널을 가지므로 앞서 언급한 세로 5픽셀, 가로 5픽셀의 컬러 이미지를 shape으로 나타냈을 때는 (5, 5, 3)으로 표현된다.  \n",
        "\n",
        "입력 이미지가 여러 개의 채널을 갖는 경우 합성곱 연산을 수행할 때 특성맵의 생성 과정을 잘 살펴봐야 한다.  \n",
        "1. 입력 이미지의 채널 개수만큼 커널 생성\n",
        "2. 각 채널마다 하나씩 커널을 적용하여 합성곱 연산 수행\n",
        "3. 입력 이미지의 채널 개수만큼 합성곱 연산된 결과가 생성됨\n",
        "4. element-wise 덧셈 연산으로 모두 더해줌  \n",
        "\n",
        "\n"
      ],
      "metadata": {
        "id": "7rpiLOMcIYXT"
      }
    },
    {
      "cell_type": "markdown",
      "source": [
        "###**1-4. 스트라이드(stride)**"
      ],
      "metadata": {
        "id": "U3t9ORrE6-zG"
      }
    },
    {
      "cell_type": "markdown",
      "source": [
        "커널은 좌측 상단으로부터 입력 이미지를 기준으로 우측으로 이동하면서 합성곱 연산을 계속 수행하고 특성맵에 결과를 채워나간다. 이때 **이동하는 간격**을 스트라이드로 정의하며, 주로 1 또는 2로 설정한다.  \n",
        "\n",
        "스트라이드를 1로 설정 시 커널은 우측으로 1픽셀씩 이동하게 되며, 커널이 입력 이미지의 우측 끝까지 이동했다면 아래 방향으로 1칸 좌측 첫 번째 픽셀로 이동하여 추출한다. 스트라이드를 2로 설정하게 되면 2픽셀씩 건너뛰기 때문에 특성맵의 크기가 1/2 로 줄어들게 된다."
      ],
      "metadata": {
        "id": "TkYb_PVfJlHa"
      }
    },
    {
      "cell_type": "markdown",
      "source": [
        "###**1-5. 패딩(padding)**"
      ],
      "metadata": {
        "id": "_kqS5-p06-xO"
      }
    },
    {
      "cell_type": "markdown",
      "source": [
        "추출된 특성맵의 크기가 입력 이미지 대비 줄어들지 않도록 패딩을 설정할 수 있다. 일반적으로 zero-padding을 사용하며 입력 이미지의 가장자리에 0으로 채워진 패딩 값으로 채운 후 추출한다."
      ],
      "metadata": {
        "id": "SiF2RWmyKcmX"
      }
    },
    {
      "cell_type": "markdown",
      "source": [
        "###**1-6. 특성맵(feature map) 사이즈**"
      ],
      "metadata": {
        "id": "Fyaxm3wr6-vf"
      }
    },
    {
      "cell_type": "markdown",
      "source": [
        "###**1-7. 풀링(pooling)**"
      ],
      "metadata": {
        "id": "2ggYHf_66-tX"
      }
    },
    {
      "cell_type": "markdown",
      "source": [
        "풀링 레이어는 **추출된 특성맵에 대해 다운 샘플링하여 이미지의 크기를 축소하는 레이어**이다. 풀링 레이어를 사용하면 이미지 축소를 통해 연산량을 감소한다는 점과 과대적합을 방지한다는 장점이 있다.   \n",
        "\n",
        "풀링 레이어는 **최대 풀링**과 **평균 풀링**으로 나뉜다. 최대 풀링은 특징의 값이 큰 값이 다른 특징들을 대표한다는 개념으로 도입되었다. 최대 풀링 수행 시 커널의 크기가 2x2로 주어질 때 입력 이미지의 2x2 픽셀 중 최대값이 출력 값으로 선택된다. 평균 풀링을 수행하면 2x2 픽셀들의 평균 값이 출력값으로 나온다.풀링 레이어도 스트라이드값을 갖는다."
      ],
      "metadata": {
        "id": "Zlp0a8_QKz88"
      }
    },
    {
      "cell_type": "markdown",
      "source": [
        "##**2. 간단한 모델 생성**"
      ],
      "metadata": {
        "id": "RgZfecCw6-q5"
      }
    },
    {
      "cell_type": "markdown",
      "source": [
        "###**2-1. 데이터 로드 및 전처리**"
      ],
      "metadata": {
        "id": "BOpqReAU6-o5"
      }
    },
    {
      "cell_type": "code",
      "source": [
        "!pip install --upgrade tensorflow==2.15.0"
      ],
      "metadata": {
        "colab": {
          "base_uri": "https://localhost:8080/"
        },
        "id": "hHtNAfu8Sebg",
        "outputId": "bc4de7c7-79f7-4c79-9218-94da068bab42"
      },
      "execution_count": 62,
      "outputs": [
        {
          "output_type": "stream",
          "name": "stdout",
          "text": [
            "Requirement already satisfied: tensorflow==2.15.0 in /usr/local/lib/python3.10/dist-packages (2.15.0)\n",
            "Requirement already satisfied: absl-py>=1.0.0 in /usr/local/lib/python3.10/dist-packages (from tensorflow==2.15.0) (1.4.0)\n",
            "Requirement already satisfied: astunparse>=1.6.0 in /usr/local/lib/python3.10/dist-packages (from tensorflow==2.15.0) (1.6.3)\n",
            "Requirement already satisfied: flatbuffers>=23.5.26 in /usr/local/lib/python3.10/dist-packages (from tensorflow==2.15.0) (24.3.25)\n",
            "Requirement already satisfied: gast!=0.5.0,!=0.5.1,!=0.5.2,>=0.2.1 in /usr/local/lib/python3.10/dist-packages (from tensorflow==2.15.0) (0.6.0)\n",
            "Requirement already satisfied: google-pasta>=0.1.1 in /usr/local/lib/python3.10/dist-packages (from tensorflow==2.15.0) (0.2.0)\n",
            "Requirement already satisfied: h5py>=2.9.0 in /usr/local/lib/python3.10/dist-packages (from tensorflow==2.15.0) (3.12.1)\n",
            "Requirement already satisfied: libclang>=13.0.0 in /usr/local/lib/python3.10/dist-packages (from tensorflow==2.15.0) (18.1.1)\n",
            "Requirement already satisfied: ml-dtypes~=0.2.0 in /usr/local/lib/python3.10/dist-packages (from tensorflow==2.15.0) (0.2.0)\n",
            "Requirement already satisfied: numpy<2.0.0,>=1.23.5 in /usr/local/lib/python3.10/dist-packages (from tensorflow==2.15.0) (1.26.4)\n",
            "Requirement already satisfied: opt-einsum>=2.3.2 in /usr/local/lib/python3.10/dist-packages (from tensorflow==2.15.0) (3.4.0)\n",
            "Requirement already satisfied: packaging in /usr/local/lib/python3.10/dist-packages (from tensorflow==2.15.0) (24.2)\n",
            "Requirement already satisfied: protobuf!=4.21.0,!=4.21.1,!=4.21.2,!=4.21.3,!=4.21.4,!=4.21.5,<5.0.0dev,>=3.20.3 in /usr/local/lib/python3.10/dist-packages (from tensorflow==2.15.0) (4.25.5)\n",
            "Requirement already satisfied: setuptools in /usr/local/lib/python3.10/dist-packages (from tensorflow==2.15.0) (75.1.0)\n",
            "Requirement already satisfied: six>=1.12.0 in /usr/local/lib/python3.10/dist-packages (from tensorflow==2.15.0) (1.16.0)\n",
            "Requirement already satisfied: termcolor>=1.1.0 in /usr/local/lib/python3.10/dist-packages (from tensorflow==2.15.0) (2.5.0)\n",
            "Requirement already satisfied: typing-extensions>=3.6.6 in /usr/local/lib/python3.10/dist-packages (from tensorflow==2.15.0) (4.12.2)\n",
            "Requirement already satisfied: wrapt<1.15,>=1.11.0 in /usr/local/lib/python3.10/dist-packages (from tensorflow==2.15.0) (1.14.1)\n",
            "Requirement already satisfied: tensorflow-io-gcs-filesystem>=0.23.1 in /usr/local/lib/python3.10/dist-packages (from tensorflow==2.15.0) (0.37.1)\n",
            "Requirement already satisfied: grpcio<2.0,>=1.24.3 in /usr/local/lib/python3.10/dist-packages (from tensorflow==2.15.0) (1.67.1)\n",
            "Requirement already satisfied: tensorboard<2.16,>=2.15 in /usr/local/lib/python3.10/dist-packages (from tensorflow==2.15.0) (2.15.2)\n",
            "Requirement already satisfied: tensorflow-estimator<2.16,>=2.15.0 in /usr/local/lib/python3.10/dist-packages (from tensorflow==2.15.0) (2.15.0)\n",
            "Requirement already satisfied: keras<2.16,>=2.15.0 in /usr/local/lib/python3.10/dist-packages (from tensorflow==2.15.0) (2.15.0)\n",
            "Requirement already satisfied: wheel<1.0,>=0.23.0 in /usr/local/lib/python3.10/dist-packages (from astunparse>=1.6.0->tensorflow==2.15.0) (0.45.0)\n",
            "Requirement already satisfied: google-auth<3,>=1.6.3 in /usr/local/lib/python3.10/dist-packages (from tensorboard<2.16,>=2.15->tensorflow==2.15.0) (2.27.0)\n",
            "Requirement already satisfied: google-auth-oauthlib<2,>=0.5 in /usr/local/lib/python3.10/dist-packages (from tensorboard<2.16,>=2.15->tensorflow==2.15.0) (1.2.1)\n",
            "Requirement already satisfied: markdown>=2.6.8 in /usr/local/lib/python3.10/dist-packages (from tensorboard<2.16,>=2.15->tensorflow==2.15.0) (3.7)\n",
            "Requirement already satisfied: requests<3,>=2.21.0 in /usr/local/lib/python3.10/dist-packages (from tensorboard<2.16,>=2.15->tensorflow==2.15.0) (2.32.3)\n",
            "Requirement already satisfied: tensorboard-data-server<0.8.0,>=0.7.0 in /usr/local/lib/python3.10/dist-packages (from tensorboard<2.16,>=2.15->tensorflow==2.15.0) (0.7.2)\n",
            "Requirement already satisfied: werkzeug>=1.0.1 in /usr/local/lib/python3.10/dist-packages (from tensorboard<2.16,>=2.15->tensorflow==2.15.0) (3.1.3)\n",
            "Requirement already satisfied: cachetools<6.0,>=2.0.0 in /usr/local/lib/python3.10/dist-packages (from google-auth<3,>=1.6.3->tensorboard<2.16,>=2.15->tensorflow==2.15.0) (5.5.0)\n",
            "Requirement already satisfied: pyasn1-modules>=0.2.1 in /usr/local/lib/python3.10/dist-packages (from google-auth<3,>=1.6.3->tensorboard<2.16,>=2.15->tensorflow==2.15.0) (0.4.1)\n",
            "Requirement already satisfied: rsa<5,>=3.1.4 in /usr/local/lib/python3.10/dist-packages (from google-auth<3,>=1.6.3->tensorboard<2.16,>=2.15->tensorflow==2.15.0) (4.9)\n",
            "Requirement already satisfied: requests-oauthlib>=0.7.0 in /usr/local/lib/python3.10/dist-packages (from google-auth-oauthlib<2,>=0.5->tensorboard<2.16,>=2.15->tensorflow==2.15.0) (1.3.1)\n",
            "Requirement already satisfied: charset-normalizer<4,>=2 in /usr/local/lib/python3.10/dist-packages (from requests<3,>=2.21.0->tensorboard<2.16,>=2.15->tensorflow==2.15.0) (3.4.0)\n",
            "Requirement already satisfied: idna<4,>=2.5 in /usr/local/lib/python3.10/dist-packages (from requests<3,>=2.21.0->tensorboard<2.16,>=2.15->tensorflow==2.15.0) (3.10)\n",
            "Requirement already satisfied: urllib3<3,>=1.21.1 in /usr/local/lib/python3.10/dist-packages (from requests<3,>=2.21.0->tensorboard<2.16,>=2.15->tensorflow==2.15.0) (2.2.3)\n",
            "Requirement already satisfied: certifi>=2017.4.17 in /usr/local/lib/python3.10/dist-packages (from requests<3,>=2.21.0->tensorboard<2.16,>=2.15->tensorflow==2.15.0) (2024.8.30)\n",
            "Requirement already satisfied: MarkupSafe>=2.1.1 in /usr/local/lib/python3.10/dist-packages (from werkzeug>=1.0.1->tensorboard<2.16,>=2.15->tensorflow==2.15.0) (3.0.2)\n",
            "Requirement already satisfied: pyasn1<0.7.0,>=0.4.6 in /usr/local/lib/python3.10/dist-packages (from pyasn1-modules>=0.2.1->google-auth<3,>=1.6.3->tensorboard<2.16,>=2.15->tensorflow==2.15.0) (0.6.1)\n",
            "Requirement already satisfied: oauthlib>=3.0.0 in /usr/local/lib/python3.10/dist-packages (from requests-oauthlib>=0.7.0->google-auth-oauthlib<2,>=0.5->tensorboard<2.16,>=2.15->tensorflow==2.15.0) (3.2.2)\n"
          ]
        }
      ]
    },
    {
      "cell_type": "code",
      "source": [
        "# tensorflow 모듈 import\n",
        "import tensorflow as tf"
      ],
      "metadata": {
        "id": "oLPhw_08LwKR"
      },
      "execution_count": 63,
      "outputs": []
    },
    {
      "cell_type": "code",
      "source": [
        "# mnist 손글씨 이미지 데이터 로드\n",
        "mnist = tf.keras.datasets.mnist\n",
        "(x_train, y_train), (x_valid, y_valid) = mnist.load_data()\n",
        "\n",
        "print(x_train.shape, y_train.shape)\n",
        "print(x_valid.shape, y_valid.shape)"
      ],
      "metadata": {
        "colab": {
          "base_uri": "https://localhost:8080/"
        },
        "id": "g7CUE-Q0L21q",
        "outputId": "b62ecd37-e6b8-4a37-cfa5-51df47988017"
      },
      "execution_count": 64,
      "outputs": [
        {
          "output_type": "stream",
          "name": "stdout",
          "text": [
            "(60000, 28, 28) (60000,)\n",
            "(10000, 28, 28) (10000,)\n"
          ]
        }
      ]
    },
    {
      "cell_type": "code",
      "source": [
        "# 샘플 이미지 출력\n",
        "import matplotlib.pyplot as plt\n",
        "\n",
        "def plot_image(data, idx):\n",
        "  plt.figure(figsize=(5,5))\n",
        "  plt.imshow(data[idx], cmap=\"gray\")\n",
        "  plt.axis(\"off\")\n",
        "  plt.show()\n",
        "\n",
        "plot_image(x_train, 0)"
      ],
      "metadata": {
        "colab": {
          "base_uri": "https://localhost:8080/",
          "height": 422
        },
        "id": "sadVf5XzMKRp",
        "outputId": "abf9198b-94cd-4321-dea8-eaeedf3370f6"
      },
      "execution_count": 65,
      "outputs": [
        {
          "output_type": "display_data",
          "data": {
            "text/plain": [
              "<Figure size 500x500 with 1 Axes>"
            ],
            "image/png": "[encoded data removed]"
          },
          "metadata": {}
        }
      ]
    },
    {
      "cell_type": "code",
      "source": [
        "print(x_train.min(), x_train.max())\n",
        "print(x_valid.min(), x_valid.max())"
      ],
      "metadata": {
        "colab": {
          "base_uri": "https://localhost:8080/"
        },
        "id": "KpVNI1ACMeOV",
        "outputId": "89f9ff08-0708-47e4-d73a-53db4f11f247"
      },
      "execution_count": 66,
      "outputs": [
        {
          "output_type": "stream",
          "name": "stdout",
          "text": [
            "0 255\n",
            "0 255\n"
          ]
        }
      ]
    },
    {
      "cell_type": "code",
      "source": [
        "# 정규화(Normalization)\n",
        "x_train = x_train / 255.0\n",
        "x_valid = x_valid / 255.0\n",
        "\n",
        "print(x_train.min(), x_train.max())\n",
        "print(x_valid.min(), x_valid.max())"
      ],
      "metadata": {
        "colab": {
          "base_uri": "https://localhost:8080/"
        },
        "id": "HxZrrGoMM5pT",
        "outputId": "3d2dbfa1-e193-407b-be06-946200a71981"
      },
      "execution_count": 67,
      "outputs": [
        {
          "output_type": "stream",
          "name": "stdout",
          "text": [
            "0.0 1.0\n",
            "0.0 1.0\n"
          ]
        }
      ]
    },
    {
      "cell_type": "code",
      "source": [
        "# 채널 추가\n",
        "print(x_train.shape, x_valid.shape)\n",
        "x_train_in = x_train[..., tf.newaxis]\n",
        "x_valid_in = x_valid[..., tf.newaxis]\n",
        "print(x_train_in.shape, x_valid_in.shape)"
      ],
      "metadata": {
        "colab": {
          "base_uri": "https://localhost:8080/"
        },
        "id": "gfp75YmYQNl4",
        "outputId": "f433bdb2-92dd-4c32-cd94-aea4862d1ed6"
      },
      "execution_count": 68,
      "outputs": [
        {
          "output_type": "stream",
          "name": "stdout",
          "text": [
            "(60000, 28, 28) (10000, 28, 28)\n",
            "(60000, 28, 28, 1) (10000, 28, 28, 1)\n"
          ]
        }
      ]
    },
    {
      "cell_type": "markdown",
      "source": [
        "###**2-2. Sequential API로 모델 생성 및 학습**"
      ],
      "metadata": {
        "id": "r4hPKlgC6-m6"
      }
    },
    {
      "cell_type": "code",
      "source": [
        "# Sequential API를 사용해 샘플 모델 생성\n",
        "model = tf.keras.Sequential([\n",
        "    # Convolution 적용 (32 filters)\n",
        "    tf.keras.layers.Conv2D(32, (3, 3), activation='relu', ## (3,3) 크기의 서로 다른 32가지 종류 커널\n",
        "                           input_shape=(28, 28, 1), name='conv'),\n",
        "    # max pooling 적용\n",
        "    tf.keras.layers.MaxPooling2D((2,2), name='pool'),\n",
        "    # classifier 출력층\n",
        "    tf.keras.layers.Flatten(),\n",
        "    ## 최종분류기로 Dense 레이어를 적용하기 위해 Flatten 층을 추가하여 1차원 배열로 펼쳐줌\n",
        "    tf.keras.layers.Dense(10, activation = 'softmax')\n",
        "    ## 정답 레이블이 0~9까지 10개의 값을 가지므로 노드 개수 10개\n",
        "    ## 분류 클래스가 10개인 다중 분류 문제이므로 활성화 함수로 softmax 적용\n",
        "])"
      ],
      "metadata": {
        "id": "QkP0GA7VN3uo"
      },
      "execution_count": 69,
      "outputs": []
    },
    {
      "cell_type": "code",
      "source": [
        "# 모델 컴파일\n",
        "model.compile(optimizer='adam', loss='sparse_categorical_crossentropy',\n",
        "              metrics=['accuracy'])\n",
        "# 모델 훈련\n",
        "history = model.fit(x_train_in, y_train, validation_data=(x_valid_in, y_valid), epochs=10)\n"
      ],
      "metadata": {
        "colab": {
          "base_uri": "https://localhost:8080/"
        },
        "id": "_RpodQghPsHj",
        "outputId": "bd57ee16-d0b8-4679-81e5-40b602561858"
      },
      "execution_count": 70,
      "outputs": [
        {
          "output_type": "stream",
          "name": "stdout",
          "text": [
            "Epoch 1/10\n",
            "1875/1875 [==============================] - 40s 21ms/step - loss: 0.2089 - accuracy: 0.9408 - val_loss: 0.0850 - val_accuracy: 0.9743\n",
            "Epoch 2/10\n",
            "1875/1875 [==============================] - 28s 15ms/step - loss: 0.0779 - accuracy: 0.9776 - val_loss: 0.0678 - val_accuracy: 0.9790\n",
            "Epoch 3/10\n",
            "1875/1875 [==============================] - 28s 15ms/step - loss: 0.0592 - accuracy: 0.9822 - val_loss: 0.0635 - val_accuracy: 0.9795\n",
            "Epoch 4/10\n",
            "1875/1875 [==============================] - 27s 14ms/step - loss: 0.0483 - accuracy: 0.9850 - val_loss: 0.0567 - val_accuracy: 0.9815\n",
            "Epoch 5/10\n",
            "1875/1875 [==============================] - 26s 14ms/step - loss: 0.0422 - accuracy: 0.9874 - val_loss: 0.0513 - val_accuracy: 0.9833\n",
            "Epoch 6/10\n",
            "1875/1875 [==============================] - 27s 14ms/step - loss: 0.0357 - accuracy: 0.9891 - val_loss: 0.0534 - val_accuracy: 0.9831\n",
            "Epoch 7/10\n",
            "1875/1875 [==============================] - 26s 14ms/step - loss: 0.0308 - accuracy: 0.9905 - val_loss: 0.0516 - val_accuracy: 0.9832\n",
            "Epoch 8/10\n",
            "1875/1875 [==============================] - 27s 14ms/step - loss: 0.0266 - accuracy: 0.9918 - val_loss: 0.0552 - val_accuracy: 0.9827\n",
            "Epoch 9/10\n",
            "1875/1875 [==============================] - 26s 14ms/step - loss: 0.0221 - accuracy: 0.9933 - val_loss: 0.0558 - val_accuracy: 0.9827\n",
            "Epoch 10/10\n",
            "1875/1875 [==============================] - 25s 14ms/step - loss: 0.0198 - accuracy: 0.9939 - val_loss: 0.0591 - val_accuracy: 0.9829\n"
          ]
        }
      ]
    },
    {
      "cell_type": "code",
      "source": [
        "model.evaluate(x_valid_in, y_valid)"
      ],
      "metadata": {
        "colab": {
          "base_uri": "https://localhost:8080/"
        },
        "id": "S-i1SvlrQbU1",
        "outputId": "71da7671-1e33-48ca-f159-0d0771d24e8f"
      },
      "execution_count": 71,
      "outputs": [
        {
          "output_type": "stream",
          "name": "stdout",
          "text": [
            "313/313 [==============================] - 1s 5ms/step - loss: 0.0591 - accuracy: 0.9829\n"
          ]
        },
        {
          "output_type": "execute_result",
          "data": {
            "text/plain": [
              "[0.05912897363305092, 0.9829000234603882]"
            ]
          },
          "metadata": {},
          "execution_count": 71
        }
      ]
    },
    {
      "cell_type": "code",
      "source": [
        "# 10 epoch 동안 모델의 예측 오차와 정확도를 그래프로 그리는 함수를 정의한 다음 실행\n",
        "def plot_loss_acc(history, epoch):\n",
        "  loss, val_loss = history.history['loss'], history.history['val_loss']\n",
        "  acc, val_acc = history.history['accuracy'], history.history['val_accuracy']\n",
        "\n",
        "  fig, axes = plt.subplots(1, 2, figsize=(12,4))\n",
        "\n",
        "  axes[0].plot(range(1, epoch+1), loss, label='Training')\n",
        "  axes[0].plot(range(1, epoch+1), val_loss, label='Validation')\n",
        "  axes[0].legend(loc='best')\n",
        "  axes[0].set_title('Loss')\n",
        "\n",
        "  axes[1].plot(range(1, epoch+1), acc, label='Training')\n",
        "  axes[1].plot(range(1, epoch+1), val_acc, label='Validation')\n",
        "  axes[1].legend(loc='best')\n",
        "  axes[1].set_title('Accuracy')\n",
        "\n",
        "  plt.show()\n",
        "\n",
        "plot_loss_acc(history, 10)"
      ],
      "metadata": {
        "colab": {
          "base_uri": "https://localhost:8080/",
          "height": 334
        },
        "id": "vMHXA4ZNQhXs",
        "outputId": "d2927757-c9c4-4fbe-bf9f-8b8e6e2c20f9"
      },
      "execution_count": 72,
      "outputs": [
        {
          "output_type": "display_data",
          "data": {
            "text/plain": [
              "<Figure size 1200x400 with 2 Axes>"
            ],
            "image/png": "[encoded data removed]"
          },
          "metadata": {}
        }
      ]
    },
    {
      "cell_type": "markdown",
      "source": [
        "훈련 셋에 대한 손실은 계속 줄어드는데 검증 셋의 손실은 어느 수준에서 더 이상 낮아지지 않는다. 즉, 4 epoch 이후부터는 모델이 과대적합으로 진행되었다는 것을 파악할 수 있다."
      ],
      "metadata": {
        "id": "4yh6A-etRcX3"
      }
    },
    {
      "cell_type": "markdown",
      "source": [
        "###**2-3. 모델 구조 파악**"
      ],
      "metadata": {
        "id": "d6uKZa2E6-k0"
      }
    },
    {
      "cell_type": "markdown",
      "source": [
        "모델 인스턴스에 summary() 메소드를 적용하면 모델의 구조를 요약해서 보여준다. 각 레이어의 이름과 출력 텐서의 형태, 각 레이어를 구성하는 파라미터(가중치) 개수를 알 수 있다."
      ],
      "metadata": {
        "id": "oBS-FpwRR7Yk"
      }
    },
    {
      "cell_type": "code",
      "source": [
        "# 모델 구조\n",
        "model.summary()"
      ],
      "metadata": {
        "colab": {
          "base_uri": "https://localhost:8080/"
        },
        "id": "tFmYWKZCRllE",
        "outputId": "4e904835-7b50-4f32-b82e-8ee1da84b8c7"
      },
      "execution_count": 73,
      "outputs": [
        {
          "output_type": "stream",
          "name": "stdout",
          "text": [
            "Model: \"sequential_2\"\n",
            "_________________________________________________________________\n",
            " Layer (type)                Output Shape              Param #   \n",
            "=================================================================\n",
            " conv (Conv2D)               (None, 26, 26, 32)        320       \n",
            "                                                                 \n",
            " pool (MaxPooling2D)         (None, 13, 13, 32)        0         \n",
            "                                                                 \n",
            " flatten_4 (Flatten)         (None, 5408)              0         \n",
            "                                                                 \n",
            " dense_5 (Dense)             (None, 10)                54090     \n",
            "                                                                 \n",
            "=================================================================\n",
            "Total params: 54410 (212.54 KB)\n",
            "Trainable params: 54410 (212.54 KB)\n",
            "Non-trainable params: 0 (0.00 Byte)\n",
            "_________________________________________________________________\n"
          ]
        }
      ]
    },
    {
      "cell_type": "code",
      "source": [
        "# 입력 텐서 형태\n",
        "model.input"
      ],
      "metadata": {
        "colab": {
          "base_uri": "https://localhost:8080/"
        },
        "id": "M7t1gdA_SKoJ",
        "outputId": "d3d988bc-521c-4638-948b-5b3880ae4b0a"
      },
      "execution_count": 74,
      "outputs": [
        {
          "output_type": "execute_result",
          "data": {
            "text/plain": [
              "<KerasTensor: shape=(None, 28, 28, 1) dtype=float32 (created by layer 'conv_input')>"
            ]
          },
          "metadata": {},
          "execution_count": 74
        }
      ]
    },
    {
      "cell_type": "markdown",
      "source": [
        "None 값은 배치 크기가 들어오는 위치로, 배치 크기로 어떤 값이든 가능하다는 의미이다."
      ],
      "metadata": {
        "id": "IXZDVdpyVq4_"
      }
    },
    {
      "cell_type": "code",
      "source": [
        "# 출력 텐서 형태\n",
        "model.output"
      ],
      "metadata": {
        "colab": {
          "base_uri": "https://localhost:8080/"
        },
        "id": "kyY84rvjSjYn",
        "outputId": "071db573-2866-4263-d331-6b4438b3720e"
      },
      "execution_count": 75,
      "outputs": [
        {
          "output_type": "execute_result",
          "data": {
            "text/plain": [
              "<KerasTensor: shape=(None, 10) dtype=float32 (created by layer 'dense_5')>"
            ]
          },
          "metadata": {},
          "execution_count": 75
        }
      ]
    },
    {
      "cell_type": "markdown",
      "source": [
        "10개의 노드를 갖는 1차원 벡터 형태이다."
      ],
      "metadata": {
        "id": "WMJRp3-GV2Xq"
      }
    },
    {
      "cell_type": "code",
      "source": [
        "# 레이어\n",
        "model.layers"
      ],
      "metadata": {
        "colab": {
          "base_uri": "https://localhost:8080/"
        },
        "id": "kBn9O9P7SrLv",
        "outputId": "0bcb3383-eb92-4735-d8fe-40100a7009c0"
      },
      "execution_count": 76,
      "outputs": [
        {
          "output_type": "execute_result",
          "data": {
            "text/plain": [
              "[<keras.src.layers.convolutional.conv2d.Conv2D at 0x7b2e228a7610>,\n",
              " <keras.src.layers.pooling.max_pooling2d.MaxPooling2D at 0x7b2e228a6a10>,\n",
              " <keras.src.layers.reshaping.flatten.Flatten at 0x7b2e22561ab0>,\n",
              " <keras.src.layers.core.dense.Dense at 0x7b2e224af580>]"
            ]
          },
          "metadata": {},
          "execution_count": 76
        }
      ]
    },
    {
      "cell_type": "markdown",
      "source": [
        "우리가 작성한 모델은 4개의 레이어로 구성된다."
      ],
      "metadata": {
        "id": "rZO9oSlXV96N"
      }
    },
    {
      "cell_type": "code",
      "source": [
        "# 첫 번째 레이어 선택\n",
        "model.layers[0]"
      ],
      "metadata": {
        "colab": {
          "base_uri": "https://localhost:8080/"
        },
        "id": "4Qdr1E16SxoK",
        "outputId": "ea5cc108-f9b9-40a0-f8cd-b8e7d4e0490e"
      },
      "execution_count": 77,
      "outputs": [
        {
          "output_type": "execute_result",
          "data": {
            "text/plain": [
              "<keras.src.layers.convolutional.conv2d.Conv2D at 0x7b2e228a7610>"
            ]
          },
          "metadata": {},
          "execution_count": 77
        }
      ]
    },
    {
      "cell_type": "code",
      "source": [
        "# 첫 번째 레이어 입력\n",
        "model.layers[0].input"
      ],
      "metadata": {
        "colab": {
          "base_uri": "https://localhost:8080/"
        },
        "id": "C-z9r4V7S1hg",
        "outputId": "f02f70fe-954a-490e-f837-794b50d9cbb0"
      },
      "execution_count": 78,
      "outputs": [
        {
          "output_type": "execute_result",
          "data": {
            "text/plain": [
              "<KerasTensor: shape=(None, 28, 28, 1) dtype=float32 (created by layer 'conv_input')>"
            ]
          },
          "metadata": {},
          "execution_count": 78
        }
      ]
    },
    {
      "cell_type": "markdown",
      "source": [
        "Conv2D 레이어에는 모델의 입력 데이터가 그대로 들어가기 때문에 (None, 28, 28, 1) 형태를 갖는다."
      ],
      "metadata": {
        "id": "ozisVjgSWHc4"
      }
    },
    {
      "cell_type": "code",
      "source": [
        "# 첫 번째 레이어 출력\n",
        "model.layers[0].output"
      ],
      "metadata": {
        "colab": {
          "base_uri": "https://localhost:8080/"
        },
        "id": "006T2NMtWSR-",
        "outputId": "fb0afa79-7ca7-40fe-ea10-91f9c851331d"
      },
      "execution_count": 79,
      "outputs": [
        {
          "output_type": "execute_result",
          "data": {
            "text/plain": [
              "<KerasTensor: shape=(None, 26, 26, 32) dtype=float32 (created by layer 'conv')>"
            ]
          },
          "metadata": {},
          "execution_count": 79
        }
      ]
    },
    {
      "cell_type": "markdown",
      "source": [
        "Conv2D 레이어를 거치면 픽셀 사이즈가 2씩 줄어들고 채널 개수가 32개로 늘어나면서 (None, 26, 26, 32) 형태를 갖는다."
      ],
      "metadata": {
        "id": "WxyqAeCmWWaC"
      }
    },
    {
      "cell_type": "code",
      "source": [
        "# 첫 번째 레이어 가중치\n",
        "model.layers[0].weights"
      ],
      "metadata": {
        "colab": {
          "base_uri": "https://localhost:8080/"
        },
        "id": "wzNNMMuwS6ro",
        "outputId": "49b93324-9672-4406-f61f-135fcac195a0"
      },
      "execution_count": 80,
      "outputs": [
        {
          "output_type": "execute_result",
          "data": {
            "text/plain": [
              "[<tf.Variable 'conv/kernel:0' shape=(3, 3, 1, 32) dtype=float32, numpy=\n",
              " array([[[[-1.04111254e-01, -1.61748677e-01,  1.60777286e-01,\n",
              "           -9.34870660e-01,  5.75819850e-01, -8.46015155e-01,\n",
              "           -4.23780352e-01,  2.60343909e-01,  2.68888623e-02,\n",
              "            3.74952525e-01, -6.30284905e-01, -5.24063826e-01,\n",
              "            3.31934154e-01,  3.16072255e-01,  7.01648444e-02,\n",
              "            2.44041279e-01, -2.01441109e-01,  2.99664617e-01,\n",
              "            3.49687606e-01,  3.80843543e-02, -1.57534629e-01,\n",
              "           -1.21031031e-01, -1.07763088e+00, -4.58285451e-01,\n",
              "            1.55341044e-01,  1.12737902e-01,  1.69854715e-01,\n",
              "           -8.12693715e-01, -6.84976578e-01, -1.45516622e+00,\n",
              "           -5.56599855e-01,  5.22003829e-01]],\n",
              " \n",
              "         [[ 4.13307577e-01, -5.66249013e-01,  4.67591137e-01,\n",
              "           -8.93727839e-01,  3.46809953e-01, -5.26350141e-02,\n",
              "            2.63487220e-01,  1.95290938e-01,  1.20375626e-01,\n",
              "            1.56105131e-01, -5.01019061e-01, -4.32021543e-02,\n",
              "            5.23466095e-02,  3.33598167e-01, -3.66320699e-01,\n",
              "           -7.54362792e-02, -1.48570865e-01,  2.67209351e-01,\n",
              "            1.36328414e-01, -3.14020753e-01,  5.51693618e-01,\n",
              "            3.75312209e-01, -5.96334815e-01,  2.11913481e-01,\n",
              "            4.40302074e-01,  2.25977302e-01,  2.70328641e-01,\n",
              "            6.02758266e-02,  1.73144136e-02, -5.94571114e-01,\n",
              "           -2.99940426e-02,  5.55465817e-01]],\n",
              " \n",
              "         [[ 4.45744306e-01, -5.40775478e-01,  5.26945174e-01,\n",
              "           -1.65333465e-01, -6.56403720e-01,  6.04703665e-01,\n",
              "            3.91223617e-02, -4.59834248e-01,  7.49703199e-02,\n",
              "           -4.93945867e-01, -4.45339307e-02,  4.05148864e-02,\n",
              "           -5.40724754e-01, -2.67119408e-01,  2.25959852e-01,\n",
              "           -9.13226187e-01, -4.44860905e-01, -5.56126498e-02,\n",
              "           -7.57580340e-01, -9.78177905e-01,  1.51199237e-01,\n",
              "           -9.39346924e-02, -7.55235255e-01,  2.94565678e-01,\n",
              "            6.08230233e-01, -2.11210430e-01,  4.99395788e-01,\n",
              "            2.13269562e-01,  1.38072371e-01, -1.13126183e+00,\n",
              "            3.45660120e-01, -5.39672017e-01]]],\n",
              " \n",
              " \n",
              "        [[[ 9.25204009e-02, -1.83975205e-01, -6.54845238e-01,\n",
              "           -7.72873700e-01,  3.14469963e-01, -1.02836347e+00,\n",
              "           -5.55194914e-01, -2.05435798e-01, -1.16219088e-01,\n",
              "           -8.08821544e-02,  1.50458381e-01,  5.70096523e-02,\n",
              "            2.08099056e-02, -2.40692869e-01,  1.11653194e-01,\n",
              "            3.19614410e-01,  3.92236650e-01, -2.86534071e-01,\n",
              "            1.20171160e-01,  6.82625234e-01, -9.31682944e-01,\n",
              "            1.61938399e-01,  2.73077428e-01,  3.62121344e-01,\n",
              "           -8.12759623e-02,  4.97779297e-03,  1.67442579e-03,\n",
              "           -1.86226442e-01,  1.80237368e-01, -3.26172672e-02,\n",
              "           -2.52319664e-01,  7.43271351e-01]],\n",
              " \n",
              "         [[-1.04633093e-01, -9.32256058e-02,  6.93339929e-02,\n",
              "            1.20423414e-01,  1.90528229e-01,  1.28508895e-03,\n",
              "            1.23874828e-01,  1.62273929e-01,  1.34050110e-02,\n",
              "           -9.55034941e-02,  4.54955995e-01,  4.77919459e-01,\n",
              "            3.87834787e-01,  1.51011080e-01, -7.56877363e-02,\n",
              "            4.07960266e-01,  5.24272919e-01, -2.91829519e-02,\n",
              "            3.91665667e-01,  6.95708990e-02,  4.75136817e-01,\n",
              "            1.76712662e-01,  3.18165094e-01,  6.78950921e-02,\n",
              "            7.38388449e-02, -1.91191758e-03,  6.33439958e-01,\n",
              "            4.35218543e-01,  3.31934631e-01,  2.54038781e-01,\n",
              "            2.03762785e-01, -2.81681150e-01]],\n",
              " \n",
              "         [[ 1.97456077e-01, -1.48727357e-01,  3.17170411e-01,\n",
              "            7.01266348e-01, -1.12309229e+00,  6.41944945e-01,\n",
              "            1.24537423e-01,  2.13550404e-02, -1.55876949e-01,\n",
              "           -2.47733369e-01,  2.21742570e-01,  4.88818251e-02,\n",
              "           -6.93100244e-02,  1.88283324e-01,  1.92018256e-01,\n",
              "           -8.79317045e-01,  3.77073258e-01,  1.28032267e-01,\n",
              "           -1.97891697e-01, -7.44050741e-01,  1.72646388e-01,\n",
              "           -5.18178403e-01, -1.85652718e-01, -2.77707458e-01,\n",
              "           -1.85956895e-01,  3.51280361e-01,  1.71892494e-01,\n",
              "            1.82938114e-01,  1.02249421e-01, -1.93715896e-02,\n",
              "            1.16584241e-01, -7.35323608e-01]]],\n",
              " \n",
              " \n",
              "        [[[-5.61698318e-01,  3.87087733e-01, -7.87346900e-01,\n",
              "           -6.22909628e-02, -9.06934559e-01, -7.24753857e-01,\n",
              "           -1.77732289e-01, -4.44260091e-02,  1.06502138e-01,\n",
              "           -3.78061563e-01,  3.44984531e-01,  8.04466158e-02,\n",
              "           -5.26507735e-01, -4.17979419e-01,  5.52606694e-02,\n",
              "            4.41447318e-01, -4.30947125e-01, -1.03535563e-01,\n",
              "           -3.32993835e-01,  6.20065868e-01, -1.08010244e+00,\n",
              "            7.70877972e-02,  4.88226414e-01,  1.37503996e-01,\n",
              "           -8.98924708e-01,  5.54671884e-02, -1.08685279e+00,\n",
              "            2.26860300e-01,  1.50785834e-01,  4.60831523e-02,\n",
              "            2.89973497e-01,  1.29000887e-01]],\n",
              " \n",
              "         [[-4.98271823e-01,  6.38461530e-01, -7.63238668e-01,\n",
              "            2.96157479e-01, -1.21530271e+00, -2.66588610e-02,\n",
              "            2.94494092e-01,  1.19136862e-01,  2.69135218e-02,\n",
              "            3.57352048e-01,  9.45269763e-02, -6.66217506e-02,\n",
              "            1.87412396e-01, -6.29506335e-02,  2.39204288e-01,\n",
              "            1.33938015e-01, -2.87444800e-01, -1.18749186e-01,\n",
              "            1.31343007e-01,  5.43181360e-01, -3.13886583e-01,\n",
              "            2.58928793e-03,  2.56055027e-01, -3.13994974e-01,\n",
              "           -5.03582835e-01, -3.43023390e-01, -8.28200817e-01,\n",
              "            1.05071701e-01, -6.22049673e-03,  2.79079109e-01,\n",
              "            2.40924060e-01, -8.78047407e-01]],\n",
              " \n",
              "         [[ 7.66294673e-02,  3.23215872e-01, -7.88124204e-01,\n",
              "            4.24538434e-01, -4.74551022e-01,  3.82513762e-01,\n",
              "            4.25845757e-02,  1.71478331e-01,  1.69400841e-01,\n",
              "            4.34038192e-01, -3.85931253e-01, -5.36302865e-01,\n",
              "            2.88650781e-01,  3.15624088e-01, -2.03461975e-01,\n",
              "           -7.92888761e-01, -5.39457686e-02,  3.03416014e-01,\n",
              "            3.67153078e-01, -4.61318195e-02, -1.40744606e-02,\n",
              "           -1.43260643e-01,  1.47083744e-01,  4.98739108e-02,\n",
              "           -7.43218064e-01,  1.06491789e-01, -1.06091917e+00,\n",
              "           -4.64092761e-01, -5.20568430e-01,  4.30084169e-01,\n",
              "           -5.41038848e-02, -2.50914246e-01]]]], dtype=float32)>,\n",
              " <tf.Variable 'conv/bias:0' shape=(32,) dtype=float32, numpy=\n",
              " array([-0.1036234 , -0.04883317, -0.00320945, -0.02469524,  0.19242696,\n",
              "        -0.04084076, -0.2593154 , -0.23737025, -0.27877432, -0.10495796,\n",
              "        -0.01983224, -0.07051764, -0.2779177 , -0.3383342 , -0.2568422 ,\n",
              "        -0.01120187, -0.00568777, -0.33715358, -0.3551195 , -0.07866751,\n",
              "        -0.03874208, -0.2289937 , -0.05646787, -0.17246713, -0.014627  ,\n",
              "        -0.22445431, -0.01395346, -0.18708065, -0.17916974,  0.07523736,\n",
              "        -0.44722244, -0.05167538], dtype=float32)>]"
            ]
          },
          "metadata": {},
          "execution_count": 80
        }
      ]
    },
    {
      "cell_type": "markdown",
      "source": [
        "weights 속성을 각 레이어 인스턴스에 적용하면 각 레이어의 가중치 행렬을 추출할 수 있다.  \n",
        "\n",
        "2개의 텐서플로 변수 행렬이 확인되는데, 첫 번째 변수는 커널(합성곱 필터) 행렬의 가중치이고 두 번째 변수는 각 커널의 상수항(bias)이다."
      ],
      "metadata": {
        "id": "JcbwoylZWhQ9"
      }
    },
    {
      "cell_type": "code",
      "source": [
        "# 첫 번째 레이어 커널 가중치\n",
        "model.layers[0].kernel"
      ],
      "metadata": {
        "colab": {
          "base_uri": "https://localhost:8080/"
        },
        "id": "dBFegldLTPOw",
        "outputId": "62698f90-ee8a-4ab2-8d0a-c632d1230459"
      },
      "execution_count": 81,
      "outputs": [
        {
          "output_type": "execute_result",
          "data": {
            "text/plain": [
              "<tf.Variable 'conv/kernel:0' shape=(3, 3, 1, 32) dtype=float32, numpy=\n",
              "array([[[[-1.04111254e-01, -1.61748677e-01,  1.60777286e-01,\n",
              "          -9.34870660e-01,  5.75819850e-01, -8.46015155e-01,\n",
              "          -4.23780352e-01,  2.60343909e-01,  2.68888623e-02,\n",
              "           3.74952525e-01, -6.30284905e-01, -5.24063826e-01,\n",
              "           3.31934154e-01,  3.16072255e-01,  7.01648444e-02,\n",
              "           2.44041279e-01, -2.01441109e-01,  2.99664617e-01,\n",
              "           3.49687606e-01,  3.80843543e-02, -1.57534629e-01,\n",
              "          -1.21031031e-01, -1.07763088e+00, -4.58285451e-01,\n",
              "           1.55341044e-01,  1.12737902e-01,  1.69854715e-01,\n",
              "          -8.12693715e-01, -6.84976578e-01, -1.45516622e+00,\n",
              "          -5.56599855e-01,  5.22003829e-01]],\n",
              "\n",
              "        [[ 4.13307577e-01, -5.66249013e-01,  4.67591137e-01,\n",
              "          -8.93727839e-01,  3.46809953e-01, -5.26350141e-02,\n",
              "           2.63487220e-01,  1.95290938e-01,  1.20375626e-01,\n",
              "           1.56105131e-01, -5.01019061e-01, -4.32021543e-02,\n",
              "           5.23466095e-02,  3.33598167e-01, -3.66320699e-01,\n",
              "          -7.54362792e-02, -1.48570865e-01,  2.67209351e-01,\n",
              "           1.36328414e-01, -3.14020753e-01,  5.51693618e-01,\n",
              "           3.75312209e-01, -5.96334815e-01,  2.11913481e-01,\n",
              "           4.40302074e-01,  2.25977302e-01,  2.70328641e-01,\n",
              "           6.02758266e-02,  1.73144136e-02, -5.94571114e-01,\n",
              "          -2.99940426e-02,  5.55465817e-01]],\n",
              "\n",
              "        [[ 4.45744306e-01, -5.40775478e-01,  5.26945174e-01,\n",
              "          -1.65333465e-01, -6.56403720e-01,  6.04703665e-01,\n",
              "           3.91223617e-02, -4.59834248e-01,  7.49703199e-02,\n",
              "          -4.93945867e-01, -4.45339307e-02,  4.05148864e-02,\n",
              "          -5.40724754e-01, -2.67119408e-01,  2.25959852e-01,\n",
              "          -9.13226187e-01, -4.44860905e-01, -5.56126498e-02,\n",
              "          -7.57580340e-01, -9.78177905e-01,  1.51199237e-01,\n",
              "          -9.39346924e-02, -7.55235255e-01,  2.94565678e-01,\n",
              "           6.08230233e-01, -2.11210430e-01,  4.99395788e-01,\n",
              "           2.13269562e-01,  1.38072371e-01, -1.13126183e+00,\n",
              "           3.45660120e-01, -5.39672017e-01]]],\n",
              "\n",
              "\n",
              "       [[[ 9.25204009e-02, -1.83975205e-01, -6.54845238e-01,\n",
              "          -7.72873700e-01,  3.14469963e-01, -1.02836347e+00,\n",
              "          -5.55194914e-01, -2.05435798e-01, -1.16219088e-01,\n",
              "          -8.08821544e-02,  1.50458381e-01,  5.70096523e-02,\n",
              "           2.08099056e-02, -2.40692869e-01,  1.11653194e-01,\n",
              "           3.19614410e-01,  3.92236650e-01, -2.86534071e-01,\n",
              "           1.20171160e-01,  6.82625234e-01, -9.31682944e-01,\n",
              "           1.61938399e-01,  2.73077428e-01,  3.62121344e-01,\n",
              "          -8.12759623e-02,  4.97779297e-03,  1.67442579e-03,\n",
              "          -1.86226442e-01,  1.80237368e-01, -3.26172672e-02,\n",
              "          -2.52319664e-01,  7.43271351e-01]],\n",
              "\n",
              "        [[-1.04633093e-01, -9.32256058e-02,  6.93339929e-02,\n",
              "           1.20423414e-01,  1.90528229e-01,  1.28508895e-03,\n",
              "           1.23874828e-01,  1.62273929e-01,  1.34050110e-02,\n",
              "          -9.55034941e-02,  4.54955995e-01,  4.77919459e-01,\n",
              "           3.87834787e-01,  1.51011080e-01, -7.56877363e-02,\n",
              "           4.07960266e-01,  5.24272919e-01, -2.91829519e-02,\n",
              "           3.91665667e-01,  6.95708990e-02,  4.75136817e-01,\n",
              "           1.76712662e-01,  3.18165094e-01,  6.78950921e-02,\n",
              "           7.38388449e-02, -1.91191758e-03,  6.33439958e-01,\n",
              "           4.35218543e-01,  3.31934631e-01,  2.54038781e-01,\n",
              "           2.03762785e-01, -2.81681150e-01]],\n",
              "\n",
              "        [[ 1.97456077e-01, -1.48727357e-01,  3.17170411e-01,\n",
              "           7.01266348e-01, -1.12309229e+00,  6.41944945e-01,\n",
              "           1.24537423e-01,  2.13550404e-02, -1.55876949e-01,\n",
              "          -2.47733369e-01,  2.21742570e-01,  4.88818251e-02,\n",
              "          -6.93100244e-02,  1.88283324e-01,  1.92018256e-01,\n",
              "          -8.79317045e-01,  3.77073258e-01,  1.28032267e-01,\n",
              "          -1.97891697e-01, -7.44050741e-01,  1.72646388e-01,\n",
              "          -5.18178403e-01, -1.85652718e-01, -2.77707458e-01,\n",
              "          -1.85956895e-01,  3.51280361e-01,  1.71892494e-01,\n",
              "           1.82938114e-01,  1.02249421e-01, -1.93715896e-02,\n",
              "           1.16584241e-01, -7.35323608e-01]]],\n",
              "\n",
              "\n",
              "       [[[-5.61698318e-01,  3.87087733e-01, -7.87346900e-01,\n",
              "          -6.22909628e-02, -9.06934559e-01, -7.24753857e-01,\n",
              "          -1.77732289e-01, -4.44260091e-02,  1.06502138e-01,\n",
              "          -3.78061563e-01,  3.44984531e-01,  8.04466158e-02,\n",
              "          -5.26507735e-01, -4.17979419e-01,  5.52606694e-02,\n",
              "           4.41447318e-01, -4.30947125e-01, -1.03535563e-01,\n",
              "          -3.32993835e-01,  6.20065868e-01, -1.08010244e+00,\n",
              "           7.70877972e-02,  4.88226414e-01,  1.37503996e-01,\n",
              "          -8.98924708e-01,  5.54671884e-02, -1.08685279e+00,\n",
              "           2.26860300e-01,  1.50785834e-01,  4.60831523e-02,\n",
              "           2.89973497e-01,  1.29000887e-01]],\n",
              "\n",
              "        [[-4.98271823e-01,  6.38461530e-01, -7.63238668e-01,\n",
              "           2.96157479e-01, -1.21530271e+00, -2.66588610e-02,\n",
              "           2.94494092e-01,  1.19136862e-01,  2.69135218e-02,\n",
              "           3.57352048e-01,  9.45269763e-02, -6.66217506e-02,\n",
              "           1.87412396e-01, -6.29506335e-02,  2.39204288e-01,\n",
              "           1.33938015e-01, -2.87444800e-01, -1.18749186e-01,\n",
              "           1.31343007e-01,  5.43181360e-01, -3.13886583e-01,\n",
              "           2.58928793e-03,  2.56055027e-01, -3.13994974e-01,\n",
              "          -5.03582835e-01, -3.43023390e-01, -8.28200817e-01,\n",
              "           1.05071701e-01, -6.22049673e-03,  2.79079109e-01,\n",
              "           2.40924060e-01, -8.78047407e-01]],\n",
              "\n",
              "        [[ 7.66294673e-02,  3.23215872e-01, -7.88124204e-01,\n",
              "           4.24538434e-01, -4.74551022e-01,  3.82513762e-01,\n",
              "           4.25845757e-02,  1.71478331e-01,  1.69400841e-01,\n",
              "           4.34038192e-01, -3.85931253e-01, -5.36302865e-01,\n",
              "           2.88650781e-01,  3.15624088e-01, -2.03461975e-01,\n",
              "          -7.92888761e-01, -5.39457686e-02,  3.03416014e-01,\n",
              "           3.67153078e-01, -4.61318195e-02, -1.40744606e-02,\n",
              "          -1.43260643e-01,  1.47083744e-01,  4.98739108e-02,\n",
              "          -7.43218064e-01,  1.06491789e-01, -1.06091917e+00,\n",
              "          -4.64092761e-01, -5.20568430e-01,  4.30084169e-01,\n",
              "          -5.41038848e-02, -2.50914246e-01]]]], dtype=float32)>"
            ]
          },
          "metadata": {},
          "execution_count": 81
        }
      ]
    },
    {
      "cell_type": "code",
      "source": [
        "# 첫 번째 레이어 bias 가중치\n",
        "model.layers[0].bias"
      ],
      "metadata": {
        "colab": {
          "base_uri": "https://localhost:8080/"
        },
        "id": "fyOHhyZLTSHR",
        "outputId": "f09b7212-777c-4ede-9b14-62a4054391bf"
      },
      "execution_count": 82,
      "outputs": [
        {
          "output_type": "execute_result",
          "data": {
            "text/plain": [
              "<tf.Variable 'conv/bias:0' shape=(32,) dtype=float32, numpy=\n",
              "array([-0.1036234 , -0.04883317, -0.00320945, -0.02469524,  0.19242696,\n",
              "       -0.04084076, -0.2593154 , -0.23737025, -0.27877432, -0.10495796,\n",
              "       -0.01983224, -0.07051764, -0.2779177 , -0.3383342 , -0.2568422 ,\n",
              "       -0.01120187, -0.00568777, -0.33715358, -0.3551195 , -0.07866751,\n",
              "       -0.03874208, -0.2289937 , -0.05646787, -0.17246713, -0.014627  ,\n",
              "       -0.22445431, -0.01395346, -0.18708065, -0.17916974,  0.07523736,\n",
              "       -0.44722244, -0.05167538], dtype=float32)>"
            ]
          },
          "metadata": {},
          "execution_count": 82
        }
      ]
    },
    {
      "cell_type": "code",
      "source": [
        "# 레이어 이름 사용하여 레이어 선택\n",
        "model.get_layer('conv')"
      ],
      "metadata": {
        "colab": {
          "base_uri": "https://localhost:8080/"
        },
        "id": "N-zC00WDTYB2",
        "outputId": "95608e20-23e8-4e90-e32b-087f882f201c"
      },
      "execution_count": 83,
      "outputs": [
        {
          "output_type": "execute_result",
          "data": {
            "text/plain": [
              "<keras.src.layers.convolutional.conv2d.Conv2D at 0x7b2e228a7610>"
            ]
          },
          "metadata": {},
          "execution_count": 83
        }
      ]
    },
    {
      "cell_type": "code",
      "source": [
        "# 샘플 이미지의 레이어별 출력을 리스트에 추가(첫 번째, 두 번째 레이어)\n",
        "activator = tf.keras.Model(inputs=model.input,\n",
        "                           outputs=[layer.output for layer in model.layers[:2]])\n",
        "activations = activator.predict(x_train_in[0][tf.newaxis, ...])\n",
        "len(activations)"
      ],
      "metadata": {
        "colab": {
          "base_uri": "https://localhost:8080/"
        },
        "id": "f9NiZOjoTcI0",
        "outputId": "d400b60b-c024-4820-9384-46b054265e3f"
      },
      "execution_count": 84,
      "outputs": [
        {
          "output_type": "stream",
          "name": "stdout",
          "text": [
            "1/1 [==============================] - 0s 65ms/step\n"
          ]
        },
        {
          "output_type": "execute_result",
          "data": {
            "text/plain": [
              "2"
            ]
          },
          "metadata": {},
          "execution_count": 84
        }
      ]
    },
    {
      "cell_type": "code",
      "source": [
        "# 첫 번재 레이어(conv)의 출력층\n",
        "conv_activation = activations[0]\n",
        "conv_activation.shape"
      ],
      "metadata": {
        "colab": {
          "base_uri": "https://localhost:8080/"
        },
        "id": "7D6reRPgTxPI",
        "outputId": "799a53b0-3f76-4186-e5e8-f8b618d38b7d"
      },
      "execution_count": 85,
      "outputs": [
        {
          "output_type": "execute_result",
          "data": {
            "text/plain": [
              "(1, 26, 26, 32)"
            ]
          },
          "metadata": {},
          "execution_count": 85
        }
      ]
    },
    {
      "cell_type": "markdown",
      "source": [
        "1은 입력 이미지의 개수. 즉 샘플이 1개라는 뜻이다."
      ],
      "metadata": {
        "id": "xrYUDlOQXQDn"
      }
    },
    {
      "cell_type": "code",
      "source": [
        "# Convolution 시각화\n",
        "fig, axes = plt.subplots(4, 8)\n",
        "fig.set_size_inches(10, 5)\n",
        "\n",
        "for i in range(32):\n",
        "  axes[i//8, i%8].matshow(conv_activation[0, :, :, i], cmap='viridis')\n",
        "  axes[i//8, i%8].set_title('kernel %s'%str(i), fontsize=10)\n",
        "  plt.setp(axes[i//8, i%8].get_xticklabels(), visible=False)\n",
        "  plt.setp(axes[i//8, i%8].get_yticklabels(), visible=False)\n",
        "\n",
        "plt.tight_layout()\n",
        "plt.show()"
      ],
      "metadata": {
        "colab": {
          "base_uri": "https://localhost:8080/",
          "height": 445
        },
        "id": "KHnkI8iLT8LF",
        "outputId": "653f7eb5-96b0-454b-8399-058468941ac2"
      },
      "execution_count": 86,
      "outputs": [
        {
          "output_type": "display_data",
          "data": {
            "text/plain": [
              "<Figure size 1000x500 with 32 Axes>"
            ],
            "image/png": "[encoded data removed]"
          },
          "metadata": {}
        }
      ]
    },
    {
      "cell_type": "markdown",
      "source": [
        "출력 이미지의 특징이 조금씩 차이가 있는데, 이처럼 각 커널은 입력 이미지로부터 서로 다른 피처를 추출하는 역할을 한다."
      ],
      "metadata": {
        "id": "f9u2AHh3XWEH"
      }
    },
    {
      "cell_type": "code",
      "source": [
        "# 두번째 레이어(pool) 출력층\n",
        "pooling_activation = activations[1]\n",
        "print(pooling_activation.shape)"
      ],
      "metadata": {
        "colab": {
          "base_uri": "https://localhost:8080/"
        },
        "id": "RuWH_iEtUAy4",
        "outputId": "94fa54a2-edbe-4b52-9eba-1110d6ba7228"
      },
      "execution_count": 87,
      "outputs": [
        {
          "output_type": "stream",
          "name": "stdout",
          "text": [
            "(1, 13, 13, 32)\n"
          ]
        }
      ]
    },
    {
      "cell_type": "code",
      "source": [
        "# 시각화\n",
        "fig, axes = plt.subplots(4, 8)\n",
        "fig.set_size_inches(10, 5)\n",
        "\n",
        "for i in range(32):\n",
        "  axes[i//8, i%8].matshow(pooling_activation[0, :, :, i], cmap='viridis')\n",
        "  axes[i//8, i%8].set_title('kernel %s'%str(i), fontsize=10)\n",
        "  plt.setp(axes[i//8, i%8].get_xticklabels(), visible=False)\n",
        "  plt.setp(axes[i//8, i%8].get_yticklabels(), visible=False)\n",
        "\n",
        "plt.tight_layout()\n",
        "plt.show()"
      ],
      "metadata": {
        "colab": {
          "base_uri": "https://localhost:8080/",
          "height": 445
        },
        "id": "Rjt-T-ZQUCrz",
        "outputId": "8028cbf5-b4c1-4331-d63e-719e43032624"
      },
      "execution_count": 88,
      "outputs": [
        {
          "output_type": "display_data",
          "data": {
            "text/plain": [
              "<Figure size 1000x500 with 32 Axes>"
            ],
            "image/png": "[encoded data removed]"
          },
          "metadata": {}
        }
      ]
    },
    {
      "cell_type": "markdown",
      "source": [
        "앞선 Conv2D 출력 이미지에 비해 화소 크기가 굵어졌다. 최대 풀링은 인근 픽셀들을 모아서 최대값으로 고정하기 떄문에 픽셀 수는 줄이면서 특징을 더욱 강하게 드러낼 수 있다."
      ],
      "metadata": {
        "id": "0iVW7Z5rXlBq"
      }
    },
    {
      "cell_type": "markdown",
      "source": [
        "##**3. 복잡한 모델 생성**"
      ],
      "metadata": {
        "id": "Mcf2P64L6-i7"
      }
    },
    {
      "cell_type": "markdown",
      "source": [
        "Functional API를 사용하면 Sequential API로 구현할 수 없는 복잡한 구조의 모델을 정의할 수 있다. 예를 들면, 각 레이어를 기준으로 입력이 2개 이상이거나 출력이 2개 이상인 모델을 만들 수 있다. 중간에 있는 레이어들을 건너뛰고 뒤쪽에 있는 레이어로 출력 텐서를 전달하는 방식으로 직접 연결하는 방법도 가능하다."
      ],
      "metadata": {
        "id": "kH1UICctX1RV"
      }
    },
    {
      "cell_type": "markdown",
      "source": [
        "###**3-1. 데이터셋 준비**"
      ],
      "metadata": {
        "id": "9OWAEDcJ6-hD"
      }
    },
    {
      "cell_type": "code",
      "source": [
        "import tensorflow as tf\n",
        "import numpy as np"
      ],
      "metadata": {
        "id": "E7Ef_wdlUEz_"
      },
      "execution_count": 89,
      "outputs": []
    },
    {
      "cell_type": "code",
      "source": [
        "#mnist 손글씨 이미지 데이터 로드\n",
        "mnist = tf.keras.datasets.mnist\n",
        "(x_train, y_train), (x_valid, y_valid) = mnist.load_data()\n",
        "\n",
        "print(x_train.shape, y_train.shape)\n",
        "print(x_valid.shape, y_valid.shape)"
      ],
      "metadata": {
        "colab": {
          "base_uri": "https://localhost:8080/"
        },
        "id": "rUIxdLHBUF-_",
        "outputId": "8d0bc49f-536d-4840-8baf-8bf7583ee8f0"
      },
      "execution_count": 90,
      "outputs": [
        {
          "output_type": "stream",
          "name": "stdout",
          "text": [
            "(60000, 28, 28) (60000,)\n",
            "(10000, 28, 28) (10000,)\n"
          ]
        }
      ]
    },
    {
      "cell_type": "code",
      "source": [
        "# 새로운 출력 값 배열 생성 (홀수 : 1, 짝수 : 0)\n",
        "y_train_odd = []\n",
        "for y in y_train:\n",
        "  if y%2 == 0:\n",
        "    y_train_odd.append(0)\n",
        "  else:\n",
        "    y_train_odd.append(1)\n",
        "\n",
        "y_train_odd = np.array(y_train_odd)\n",
        "y_train_odd.shape"
      ],
      "metadata": {
        "colab": {
          "base_uri": "https://localhost:8080/"
        },
        "id": "GFwGPnJnUHZA",
        "outputId": "4a9a56a6-e410-4d6d-c0ef-9287cdca2db9"
      },
      "execution_count": 91,
      "outputs": [
        {
          "output_type": "execute_result",
          "data": {
            "text/plain": [
              "(60000,)"
            ]
          },
          "metadata": {},
          "execution_count": 91
        }
      ]
    },
    {
      "cell_type": "code",
      "source": [
        "print(y_train[:10])\n",
        "print(y_train_odd[:10])"
      ],
      "metadata": {
        "colab": {
          "base_uri": "https://localhost:8080/"
        },
        "id": "PW3uvV0HUJB_",
        "outputId": "498dae61-f88b-4299-8727-7524c12ef895"
      },
      "execution_count": 92,
      "outputs": [
        {
          "output_type": "stream",
          "name": "stdout",
          "text": [
            "[5 0 4 1 9 2 1 3 1 4]\n",
            "[1 0 0 1 1 0 1 1 1 0]\n"
          ]
        }
      ]
    },
    {
      "cell_type": "code",
      "source": [
        "# Validation 데이터셋 처리\n",
        "y_valid_odd = []\n",
        "for y in y_valid:\n",
        "  if y%2 == 0:\n",
        "    y_valid_odd.append(0)\n",
        "  else:\n",
        "    y_valid_odd.append(1)\n",
        "\n",
        "y_valid_odd = np.array(y_valid_odd)\n",
        "y_valid_odd.shape"
      ],
      "metadata": {
        "colab": {
          "base_uri": "https://localhost:8080/"
        },
        "id": "o_24r89ZUKaP",
        "outputId": "1ff3403a-7b54-4d5d-d057-ee8449cb4c53"
      },
      "execution_count": 93,
      "outputs": [
        {
          "output_type": "execute_result",
          "data": {
            "text/plain": [
              "(10000,)"
            ]
          },
          "metadata": {},
          "execution_count": 93
        }
      ]
    },
    {
      "cell_type": "markdown",
      "source": [
        "색상이 하나인 모노 컬러 이미지이므로, 새로운 축을 추가하고 채널 개수를 1개로 지정한다. 축의 인덱스로 -1을 지정했기 때문에 새로운 축은 끝에 추가된다."
      ],
      "metadata": {
        "id": "_FXZ4XL8YYLW"
      }
    },
    {
      "cell_type": "code",
      "source": [
        "# 정규화\n",
        "x_train = x_train/255.0\n",
        "x_valid = x_valid/255.0\n",
        "\n",
        "# 채널 추가\n",
        "x_train_in = tf.expand_dims(x_train, -1)\n",
        "x_valid_in = tf.expand_dims(x_valid, -1)\n",
        "\n",
        "print(x_train_in.shape, x_valid_in.shape)"
      ],
      "metadata": {
        "colab": {
          "base_uri": "https://localhost:8080/"
        },
        "id": "b9rbJ_5WUL_D",
        "outputId": "ccaa4c14-a208-4263-e0f1-f0df0d7c0ccd"
      },
      "execution_count": 94,
      "outputs": [
        {
          "output_type": "stream",
          "name": "stdout",
          "text": [
            "(60000, 28, 28, 1) (10000, 28, 28, 1)\n"
          ]
        }
      ]
    },
    {
      "cell_type": "markdown",
      "source": [
        "###**3-2. Functional API로 다중 입력, 다중 출력 레이어 생성**"
      ],
      "metadata": {
        "id": "qreBa5VI6-fE"
      }
    },
    {
      "cell_type": "code",
      "source": [
        "# Functional API 를 사용하여 모델 생성\n",
        "\n",
        "inputs = tf.keras.layers.Input(shape = (28, 28, 1))\n",
        "\n",
        "conv = tf.keras.layers.Conv2D(32, (3, 3), activation = 'relu')(inputs)\n",
        "pool = tf.keras.layers.MaxPooling2D((2,2))(conv)\n",
        "flat = tf.keras.layers.Flatten()(pool)\n",
        "\n",
        "flat_inputs = tf.keras.layers.Flatten()(inputs)\n",
        "concat = tf.keras.layers.Concatenate()([flat, flat_inputs])\n",
        "outputs = tf.keras.layers.Dense(10, activation = 'softmax')(concat)\n",
        "\n",
        "model = tf.keras.models.Model(inputs = inputs, outputs = outputs)\n",
        "\n",
        "model.summary()"
      ],
      "metadata": {
        "colab": {
          "base_uri": "https://localhost:8080/"
        },
        "id": "2pwxtdbGUN5f",
        "outputId": "b2402aa6-3645-47eb-928b-905cc8a9f02d"
      },
      "execution_count": 95,
      "outputs": [
        {
          "output_type": "stream",
          "name": "stdout",
          "text": [
            "Model: \"model_6\"\n",
            "__________________________________________________________________________________________________\n",
            " Layer (type)                Output Shape                 Param #   Connected to                  \n",
            "==================================================================================================\n",
            " input_2 (InputLayer)        [(None, 28, 28, 1)]          0         []                            \n",
            "                                                                                                  \n",
            " conv2d_1 (Conv2D)           (None, 26, 26, 32)           320       ['input_2[0][0]']             \n",
            "                                                                                                  \n",
            " max_pooling2d_1 (MaxPoolin  (None, 13, 13, 32)           0         ['conv2d_1[0][0]']            \n",
            " g2D)                                                                                             \n",
            "                                                                                                  \n",
            " flatten_5 (Flatten)         (None, 5408)                 0         ['max_pooling2d_1[0][0]']     \n",
            "                                                                                                  \n",
            " flatten_6 (Flatten)         (None, 784)                  0         ['input_2[0][0]']             \n",
            "                                                                                                  \n",
            " concatenate_2 (Concatenate  (None, 6192)                 0         ['flatten_5[0][0]',           \n",
            " )                                                                   'flatten_6[0][0]']           \n",
            "                                                                                                  \n",
            " dense_6 (Dense)             (None, 10)                   61930     ['concatenate_2[0][0]']       \n",
            "                                                                                                  \n",
            "==================================================================================================\n",
            "Total params: 62250 (243.16 KB)\n",
            "Trainable params: 62250 (243.16 KB)\n",
            "Non-trainable params: 0 (0.00 Byte)\n",
            "__________________________________________________________________________________________________\n"
          ]
        }
      ]
    },
    {
      "cell_type": "code",
      "source": [
        "# 모델 구조 출력 및 이미지 파일로 저장\n",
        "from tensorflow.keras.utils import plot_model\n",
        "plot_model(model, show_shapes = True, show_layer_names = True, to_file = 'functional_cnn.png')"
      ],
      "metadata": {
        "colab": {
          "base_uri": "https://localhost:8080/",
          "height": 644
        },
        "id": "pD9nzMhaUQBL",
        "outputId": "cd15017c-545c-42ca-b582-98f898b13220"
      },
      "execution_count": 96,
      "outputs": [
        {
          "output_type": "execute_result",
          "data": {
            "image/png": "[encoded data removed]",
            "text/plain": [
              "<IPython.core.display.Image object>"
            ]
          },
          "metadata": {},
          "execution_count": 96
        }
      ]
    },
    {
      "cell_type": "markdown",
      "source": [
        "입력 레이어가 2개의 출력으로 나누어지고 마지막 Dense 레이어를 통과하기 전에 Concatenate 레이어에서 하나로 합쳐지는 구조를 시각적으로 확인할 수 있다."
      ],
      "metadata": {
        "id": "-a0iovreYv8l"
      }
    },
    {
      "cell_type": "code",
      "source": [
        "# 모델 컴파일\n",
        "model.compile(optimizer='adam', loss='sparse_categorical_crossentropy', metrics=['accuracy'])\n",
        "\n",
        "# 모델 훈련\n",
        "history = model.fit(x_train_in, y_train, validation_data=(x_valid, y_valid), epochs=10)\n",
        "\n",
        "# 모델 성능\n",
        "val_loss, val_acc = model.evaluate(x_valid_in, y_valid)\n",
        "print(val_loss, val_acc)"
      ],
      "metadata": {
        "colab": {
          "base_uri": "https://localhost:8080/"
        },
        "id": "U9RHVbAWUR34",
        "outputId": "a242c056-8ee6-4153-a0e1-886b1973bb4f"
      },
      "execution_count": 97,
      "outputs": [
        {
          "output_type": "stream",
          "name": "stdout",
          "text": [
            "Epoch 1/10\n",
            "1875/1875 [==============================] - 30s 16ms/step - loss: 0.2132 - accuracy: 0.9387 - val_loss: 0.0928 - val_accuracy: 0.9712\n",
            "Epoch 2/10\n",
            "1875/1875 [==============================] - 28s 15ms/step - loss: 0.0801 - accuracy: 0.9767 - val_loss: 0.0680 - val_accuracy: 0.9776\n",
            "Epoch 3/10\n",
            "1875/1875 [==============================] - 29s 16ms/step - loss: 0.0599 - accuracy: 0.9827 - val_loss: 0.0652 - val_accuracy: 0.9799\n",
            "Epoch 4/10\n",
            "1875/1875 [==============================] - 29s 16ms/step - loss: 0.0490 - accuracy: 0.9848 - val_loss: 0.0536 - val_accuracy: 0.9835\n",
            "Epoch 5/10\n",
            "1875/1875 [==============================] - 27s 15ms/step - loss: 0.0400 - accuracy: 0.9874 - val_loss: 0.0531 - val_accuracy: 0.9826\n",
            "Epoch 6/10\n",
            "1875/1875 [==============================] - 28s 15ms/step - loss: 0.0330 - accuracy: 0.9898 - val_loss: 0.0539 - val_accuracy: 0.9840\n",
            "Epoch 7/10\n",
            "1875/1875 [==============================] - 28s 15ms/step - loss: 0.0292 - accuracy: 0.9907 - val_loss: 0.0557 - val_accuracy: 0.9827\n",
            "Epoch 8/10\n",
            "1875/1875 [==============================] - 27s 14ms/step - loss: 0.0238 - accuracy: 0.9927 - val_loss: 0.0550 - val_accuracy: 0.9836\n",
            "Epoch 9/10\n",
            "1875/1875 [==============================] - 27s 15ms/step - loss: 0.0204 - accuracy: 0.9938 - val_loss: 0.0536 - val_accuracy: 0.9842\n",
            "Epoch 10/10\n",
            "1875/1875 [==============================] - 30s 16ms/step - loss: 0.0173 - accuracy: 0.9946 - val_loss: 0.0578 - val_accuracy: 0.9841\n",
            "313/313 [==============================] - 2s 6ms/step - loss: 0.0578 - accuracy: 0.9841\n",
            "0.05777440965175629 0.9840999841690063\n"
          ]
        }
      ]
    },
    {
      "cell_type": "markdown",
      "source": [
        "모델의 정확도는 약 98%로, 앞에서 학습했던 Sequential 모델과 큰 차이는 없다.\n",
        "\n",
        "입력 이미지와 분류하는 문제가 비교적 단순하기 때문에 차이가 크게 느껴지지 않지만, 입력 이미지와 해결해야 하는 문제가 복잡한 경우에는 모델의 구조를 다양하게 만들어서 더 좋은 성능을 보여주는 모델을 찾는 과정이 필요하다."
      ],
      "metadata": {
        "id": "Rb_DhZsfY7vG"
      }
    },
    {
      "cell_type": "markdown",
      "source": [
        "###**3-3. 다중 출력 분류 모델**"
      ],
      "metadata": {
        "id": "CknkgIqQ6-dT"
      }
    },
    {
      "cell_type": "markdown",
      "source": [
        "다음은 0~9까지 숫자를 맞추는 분류 문제와 홀수, 짝수를 맞추는 분류 문제를 동시에 풀어내는 모델을 정의하는 코드다. 각기 다른 문제에 맞도록 최종 분류기의 출력 레이어를 2개 만드는 것이 핵심이다."
      ],
      "metadata": {
        "id": "99ZuaVEMZYVs"
      }
    },
    {
      "cell_type": "code",
      "source": [
        "# Functional API를 사용해 모델 생성\n",
        "\n",
        "inputs = tf.keras.layers.Input(shape = (28, 28, 1), name = 'inputs')\n",
        "\n",
        "conv = tf.keras.layers.Conv2D(32, (3, 3), activation = 'relu', name = 'conv2d_layer')(inputs)\n",
        "pool = tf.keras.layers.MaxPooling2D((2,2), name = 'maxpool_layer')(conv)\n",
        "flat = tf.keras.layers.Flatten(name = 'flatten_layer')(pool)\n",
        "\n",
        "flat_inputs = tf.keras.layers.Flatten()(inputs)\n",
        "concat = tf.keras.layers.Concatenate()([flat, flat_inputs])\n",
        "digit_outputs = tf.keras.layers.Dense(10, activation = 'softmax', name = 'digit_dense')(concat)\n",
        "\n",
        "odd_outputs = tf.keras.layers.Dense(1, activation = 'sigmoid', name = 'odd_dense')(flat_inputs)\n",
        "\n",
        "model = tf.keras.models.Model(inputs = inputs, outputs = [digit_outputs, odd_outputs])\n",
        "\n",
        "model.summary()"
      ],
      "metadata": {
        "colab": {
          "base_uri": "https://localhost:8080/"
        },
        "id": "FaT3kLGXUTo-",
        "outputId": "689eb8eb-ed93-4d2c-b177-15d0d8fbcd87"
      },
      "execution_count": 98,
      "outputs": [
        {
          "output_type": "stream",
          "name": "stdout",
          "text": [
            "Model: \"model_7\"\n",
            "__________________________________________________________________________________________________\n",
            " Layer (type)                Output Shape                 Param #   Connected to                  \n",
            "==================================================================================================\n",
            " inputs (InputLayer)         [(None, 28, 28, 1)]          0         []                            \n",
            "                                                                                                  \n",
            " conv2d_layer (Conv2D)       (None, 26, 26, 32)           320       ['inputs[0][0]']              \n",
            "                                                                                                  \n",
            " maxpool_layer (MaxPooling2  (None, 13, 13, 32)           0         ['conv2d_layer[0][0]']        \n",
            " D)                                                                                               \n",
            "                                                                                                  \n",
            " flatten_layer (Flatten)     (None, 5408)                 0         ['maxpool_layer[0][0]']       \n",
            "                                                                                                  \n",
            " flatten_7 (Flatten)         (None, 784)                  0         ['inputs[0][0]']              \n",
            "                                                                                                  \n",
            " concatenate_3 (Concatenate  (None, 6192)                 0         ['flatten_layer[0][0]',       \n",
            " )                                                                   'flatten_7[0][0]']           \n",
            "                                                                                                  \n",
            " digit_dense (Dense)         (None, 10)                   61930     ['concatenate_3[0][0]']       \n",
            "                                                                                                  \n",
            " odd_dense (Dense)           (None, 1)                    785       ['flatten_7[0][0]']           \n",
            "                                                                                                  \n",
            "==================================================================================================\n",
            "Total params: 63035 (246.23 KB)\n",
            "Trainable params: 63035 (246.23 KB)\n",
            "Non-trainable params: 0 (0.00 Byte)\n",
            "__________________________________________________________________________________________________\n"
          ]
        }
      ]
    },
    {
      "cell_type": "code",
      "source": [
        "# 모델의 입력과 출력을 나타내는 텐서\n",
        "print(model.input)\n",
        "print(model.output)"
      ],
      "metadata": {
        "colab": {
          "base_uri": "https://localhost:8080/"
        },
        "id": "noj2-HNHUVOm",
        "outputId": "bcae1fa5-574a-4c6b-e9bc-563369bc80c1"
      },
      "execution_count": 99,
      "outputs": [
        {
          "output_type": "stream",
          "name": "stdout",
          "text": [
            "KerasTensor(type_spec=TensorSpec(shape=(None, 28, 28, 1), dtype=tf.float32, name='inputs'), name='inputs', description=\"created by layer 'inputs'\")\n",
            "[<KerasTensor: shape=(None, 10) dtype=float32 (created by layer 'digit_dense')>, <KerasTensor: shape=(None, 1) dtype=float32 (created by layer 'odd_dense')>]\n"
          ]
        }
      ]
    },
    {
      "cell_type": "code",
      "source": [
        "tf.keras.utils.plot_model(model, show_shapes=True, show_layer_names=True, to_file='multi_output_cnn.png')"
      ],
      "metadata": {
        "colab": {
          "base_uri": "https://localhost:8080/",
          "height": 644
        },
        "id": "974rZn6eUWdk",
        "outputId": "8890304f-37f3-472f-b511-6788dd244c5a"
      },
      "execution_count": 100,
      "outputs": [
        {
          "output_type": "execute_result",
          "data": {
            "image/png": "[encoded data removed]",
            "text/plain": [
              "<IPython.core.display.Image object>"
            ]
          },
          "metadata": {},
          "execution_count": 100
        }
      ]
    },
    {
      "cell_type": "code",
      "source": [
        "# 모델 컴파일\n",
        "model.compile(optimizer='adam',\n",
        "              loss={'digit_dense': 'sparse_categorical_crossentropy',\n",
        "                    'odd_dense':'binary_crossentropy'},\n",
        "              loss_weights={'digit_dense':1, 'odd_dense':0.5},\n",
        "              # loss = 1.0 * sparse_categorical_crossentropy + 0.5 * binary_crossentropy\n",
        "              metrics=['accuracy'])\n",
        "\n",
        "# 모델 훈련\n",
        "history = model.fit({'inputs':x_train_in},\n",
        "                  {'digit_dense':y_train, 'odd_dense':y_train_odd},\n",
        "                   validation_data=({'inputs':x_valid_in}, {'digit_dense':y_valid, 'odd_dense':y_valid_odd}), epochs=10)"
      ],
      "metadata": {
        "colab": {
          "base_uri": "https://localhost:8080/"
        },
        "id": "WuPqgqpoUZeP",
        "outputId": "8b7f42ce-91d1-49c5-afa9-d7053dfbd793"
      },
      "execution_count": 101,
      "outputs": [
        {
          "output_type": "stream",
          "name": "stdout",
          "text": [
            "Epoch 1/10\n",
            "1875/1875 [==============================] - 32s 16ms/step - loss: 0.3596 - digit_dense_loss: 0.1970 - odd_dense_loss: 0.3251 - digit_dense_accuracy: 0.9444 - odd_dense_accuracy: 0.8645 - val_loss: 0.2203 - val_digit_dense_loss: 0.0826 - val_odd_dense_loss: 0.2753 - val_digit_dense_accuracy: 0.9737 - val_odd_dense_accuracy: 0.8881\n",
            "Epoch 2/10\n",
            "1875/1875 [==============================] - 30s 16ms/step - loss: 0.2117 - digit_dense_loss: 0.0759 - odd_dense_loss: 0.2716 - digit_dense_accuracy: 0.9776 - odd_dense_accuracy: 0.8914 - val_loss: 0.2028 - val_digit_dense_loss: 0.0705 - val_odd_dense_loss: 0.2645 - val_digit_dense_accuracy: 0.9771 - val_odd_dense_accuracy: 0.8947\n",
            "Epoch 3/10\n",
            "1875/1875 [==============================] - 28s 15ms/step - loss: 0.1896 - digit_dense_loss: 0.0582 - odd_dense_loss: 0.2628 - digit_dense_accuracy: 0.9826 - odd_dense_accuracy: 0.8953 - val_loss: 0.1913 - val_digit_dense_loss: 0.0615 - val_odd_dense_loss: 0.2596 - val_digit_dense_accuracy: 0.9807 - val_odd_dense_accuracy: 0.9003\n",
            "Epoch 4/10\n",
            "1875/1875 [==============================] - 29s 16ms/step - loss: 0.1769 - digit_dense_loss: 0.0475 - odd_dense_loss: 0.2588 - digit_dense_accuracy: 0.9853 - odd_dense_accuracy: 0.8975 - val_loss: 0.1905 - val_digit_dense_loss: 0.0618 - val_odd_dense_loss: 0.2574 - val_digit_dense_accuracy: 0.9802 - val_odd_dense_accuracy: 0.9004\n",
            "Epoch 5/10\n",
            "1875/1875 [==============================] - 29s 16ms/step - loss: 0.1688 - digit_dense_loss: 0.0403 - odd_dense_loss: 0.2569 - digit_dense_accuracy: 0.9878 - odd_dense_accuracy: 0.8982 - val_loss: 0.1901 - val_digit_dense_loss: 0.0612 - val_odd_dense_loss: 0.2579 - val_digit_dense_accuracy: 0.9799 - val_odd_dense_accuracy: 0.9010\n",
            "Epoch 6/10\n",
            "1875/1875 [==============================] - 29s 16ms/step - loss: 0.1617 - digit_dense_loss: 0.0339 - odd_dense_loss: 0.2556 - digit_dense_accuracy: 0.9897 - odd_dense_accuracy: 0.9003 - val_loss: 0.1812 - val_digit_dense_loss: 0.0532 - val_odd_dense_loss: 0.2560 - val_digit_dense_accuracy: 0.9842 - val_odd_dense_accuracy: 0.9024\n",
            "Epoch 7/10\n",
            "1875/1875 [==============================] - 29s 16ms/step - loss: 0.1555 - digit_dense_loss: 0.0281 - odd_dense_loss: 0.2548 - digit_dense_accuracy: 0.9912 - odd_dense_accuracy: 0.8999 - val_loss: 0.1839 - val_digit_dense_loss: 0.0561 - val_odd_dense_loss: 0.2557 - val_digit_dense_accuracy: 0.9832 - val_odd_dense_accuracy: 0.9011\n",
            "Epoch 8/10\n",
            "1875/1875 [==============================] - 29s 16ms/step - loss: 0.1510 - digit_dense_loss: 0.0239 - odd_dense_loss: 0.2542 - digit_dense_accuracy: 0.9928 - odd_dense_accuracy: 0.9009 - val_loss: 0.1884 - val_digit_dense_loss: 0.0599 - val_odd_dense_loss: 0.2569 - val_digit_dense_accuracy: 0.9830 - val_odd_dense_accuracy: 0.9008\n",
            "Epoch 9/10\n",
            "1875/1875 [==============================] - 30s 16ms/step - loss: 0.1477 - digit_dense_loss: 0.0209 - odd_dense_loss: 0.2538 - digit_dense_accuracy: 0.9932 - odd_dense_accuracy: 0.9002 - val_loss: 0.1937 - val_digit_dense_loss: 0.0660 - val_odd_dense_loss: 0.2553 - val_digit_dense_accuracy: 0.9815 - val_odd_dense_accuracy: 0.9011\n",
            "Epoch 10/10\n",
            "1875/1875 [==============================] - 30s 16ms/step - loss: 0.1442 - digit_dense_loss: 0.0176 - odd_dense_loss: 0.2534 - digit_dense_accuracy: 0.9947 - odd_dense_accuracy: 0.9017 - val_loss: 0.1883 - val_digit_dense_loss: 0.0601 - val_odd_dense_loss: 0.2565 - val_digit_dense_accuracy: 0.9849 - val_odd_dense_accuracy: 0.9009\n"
          ]
        }
      ]
    },
    {
      "cell_type": "code",
      "source": [
        "# 모델 성능\n",
        "model.evaluate({'inputs':x_valid_in}, {'digit_dense':y_valid, 'odd_dense':y_valid_odd})"
      ],
      "metadata": {
        "colab": {
          "base_uri": "https://localhost:8080/"
        },
        "id": "JPzOFtX4Ucde",
        "outputId": "54655f06-4c60-469f-f6c9-011a4c225c85"
      },
      "execution_count": 102,
      "outputs": [
        {
          "output_type": "stream",
          "name": "stdout",
          "text": [
            "313/313 [==============================] - 2s 6ms/step - loss: 0.1883 - digit_dense_loss: 0.0601 - odd_dense_loss: 0.2565 - digit_dense_accuracy: 0.9849 - odd_dense_accuracy: 0.9009\n"
          ]
        },
        {
          "output_type": "execute_result",
          "data": {
            "text/plain": [
              "[0.18832799792289734,\n",
              " 0.060066089034080505,\n",
              " 0.2565237581729889,\n",
              " 0.9848999977111816,\n",
              " 0.9009000062942505]"
            ]
          },
          "metadata": {},
          "execution_count": 102
        }
      ]
    },
    {
      "cell_type": "markdown",
      "source": [
        "숫자를 맞추는 문제는 98%의 정확도를 보인 반면 홀수 여부를 판단하는 문제는 약 90%의 정확도를 보인다. 홀수 여부를 판단하는 분류기에 레이어를 더 추가해 예측 정확도를 높일 여지가 있다."
      ],
      "metadata": {
        "id": "5evJnyKPZurl"
      }
    },
    {
      "cell_type": "code",
      "source": [
        "# 샘플 이미지 출력\n",
        "## 숫자 7에 대한 손글씨 이미지(검증 데이터셋 인덱스 0에 해당하는 이미지)\n",
        "import matplotlib.pylab as plt\n",
        "\n",
        "def plot_image(data, idx):\n",
        "  plt.figure(figsize=(5,5))\n",
        "  plt.imshow(data[idx])\n",
        "  plt.axis('off')\n",
        "  plt.show()\n",
        "\n",
        "plot_image(x_valid, 0)"
      ],
      "metadata": {
        "colab": {
          "base_uri": "https://localhost:8080/",
          "height": 422
        },
        "id": "KgIPczTUUeLq",
        "outputId": "f3e2764f-9e73-47ae-d1e5-c566c90a1dd8"
      },
      "execution_count": 103,
      "outputs": [
        {
          "output_type": "display_data",
          "data": {
            "text/plain": [
              "<Figure size 500x500 with 1 Axes>"
            ],
            "image/png": "[encoded data removed]"
          },
          "metadata": {}
        }
      ]
    },
    {
      "cell_type": "code",
      "source": [
        "# 숫자 7 이미지에 대한 예측 확률\n",
        "digit_preds, odd_preds = model.predict(x_valid_in)\n",
        "print(digit_preds[0])\n",
        "print(odd_preds[0])"
      ],
      "metadata": {
        "colab": {
          "base_uri": "https://localhost:8080/"
        },
        "id": "_NMVis3hUgBb",
        "outputId": "42c5422a-775d-4d3d-f50e-0a03910bd27f"
      },
      "execution_count": 104,
      "outputs": [
        {
          "output_type": "stream",
          "name": "stdout",
          "text": [
            "313/313 [==============================] - 3s 8ms/step\n",
            "[2.6702134e-12 1.6326152e-11 5.7359018e-10 7.3399419e-06 6.0228966e-12\n",
            " 2.0628263e-12 1.6817477e-21 9.9999255e-01 1.2780774e-09 3.3062149e-09]\n",
            "[0.9994423]\n"
          ]
        }
      ]
    },
    {
      "cell_type": "code",
      "source": [
        "# 예측 확률을 실제 정답 레이블로 변환\n",
        "digit_labels = np.argmax(digit_preds, axis=1)\n",
        "digit_labels[0:10]"
      ],
      "metadata": {
        "colab": {
          "base_uri": "https://localhost:8080/"
        },
        "id": "DfzeYmMpUhvW",
        "outputId": "7e86ae62-737d-4401-ecf6-4a160c1b9d37"
      },
      "execution_count": 105,
      "outputs": [
        {
          "output_type": "execute_result",
          "data": {
            "text/plain": [
              "array([7, 2, 1, 0, 4, 1, 4, 9, 5, 9])"
            ]
          },
          "metadata": {},
          "execution_count": 105
        }
      ]
    },
    {
      "cell_type": "markdown",
      "source": [
        "검증 데이터셋의 첫 10개 이미에 대한 예측 레이블은 위와 같고 첫 번째 이미지를 7로 예측하고 있다."
      ],
      "metadata": {
        "id": "CtxaaSE0aQj-"
      }
    },
    {
      "cell_type": "code",
      "source": [
        "# 홀수, 짝수 여부에 대한 예측 레이블 출력\n",
        "## 임계값으로 0.5 지정: 홀수일 확률이 0.5보다 큰 경우 홀수로 분류\n",
        "odd_labels = (odd_preds>0.5).astype(np.int64).reshape(1, -1)[0]\n",
        "odd_labels[0:10]"
      ],
      "metadata": {
        "colab": {
          "base_uri": "https://localhost:8080/"
        },
        "id": "zSuGm4daUjHT",
        "outputId": "dc4dfd19-3ff6-4e58-bf3c-7069379994cc"
      },
      "execution_count": 106,
      "outputs": [
        {
          "output_type": "execute_result",
          "data": {
            "text/plain": [
              "array([1, 0, 1, 0, 0, 1, 0, 1, 0, 1])"
            ]
          },
          "metadata": {},
          "execution_count": 106
        }
      ]
    },
    {
      "cell_type": "markdown",
      "source": [
        "###**3-4. 전이 학습(Transfer Learning)**"
      ],
      "metadata": {
        "id": "KfsIDSw76-bT"
      }
    },
    {
      "cell_type": "markdown",
      "source": [
        "기존에 학습된 모델을 활용해 새로운 모델을 만들어내는 것을 전이 학습이라고 한다."
      ],
      "metadata": {
        "id": "_UjBrcoBaija"
      }
    },
    {
      "cell_type": "code",
      "source": [
        "# 앞의 모델에서 flatten_layer 출력을 추출\n",
        "base_model_output = model.get_layer('flatten_layer').output\n",
        "\n",
        "# 앞의 출력을 출력으로 하는 모델 정의\n",
        "base_model = tf.keras.Model(inputs = model.input, outputs = base_model_output, name = 'base')\n",
        "base_model.summary()"
      ],
      "metadata": {
        "colab": {
          "base_uri": "https://localhost:8080/"
        },
        "id": "tdUpvZwNUllU",
        "outputId": "6cf3a795-1a1a-4565-991d-ab0db647faef"
      },
      "execution_count": 107,
      "outputs": [
        {
          "output_type": "stream",
          "name": "stdout",
          "text": [
            "Model: \"base\"\n",
            "_________________________________________________________________\n",
            " Layer (type)                Output Shape              Param #   \n",
            "=================================================================\n",
            " inputs (InputLayer)         [(None, 28, 28, 1)]       0         \n",
            "                                                                 \n",
            " conv2d_layer (Conv2D)       (None, 26, 26, 32)        320       \n",
            "                                                                 \n",
            " maxpool_layer (MaxPooling2  (None, 13, 13, 32)        0         \n",
            " D)                                                              \n",
            "                                                                 \n",
            " flatten_layer (Flatten)     (None, 5408)              0         \n",
            "                                                                 \n",
            "=================================================================\n",
            "Total params: 320 (1.25 KB)\n",
            "Trainable params: 320 (1.25 KB)\n",
            "Non-trainable params: 0 (0.00 Byte)\n",
            "_________________________________________________________________\n"
          ]
        }
      ]
    },
    {
      "cell_type": "code",
      "source": [
        "tf.keras.utils.plot_model(base_model, show_shapes=True, show_layer_names=True, to_file='base_model.png')"
      ],
      "metadata": {
        "colab": {
          "base_uri": "https://localhost:8080/",
          "height": 422
        },
        "id": "t0Qee24mUnBl",
        "outputId": "39fd5a2a-9e0c-4826-ea23-d5104e97e1d3"
      },
      "execution_count": 108,
      "outputs": [
        {
          "output_type": "execute_result",
          "data": {
            "image/png": "[encoded data removed]",
            "text/plain": [
              "<IPython.core.display.Image object>"
            ]
          },
          "metadata": {},
          "execution_count": 108
        }
      ]
    },
    {
      "cell_type": "code",
      "source": [
        "# Sequential API 적용\n",
        "## 앞에서 정의한 base_model을 레이어로 추가\n",
        "## 최종 분류기 역할을 하는 Dense 레이어를 새롭게 이어서 추가\n",
        "digit_model = tf.keras.Sequential([\n",
        "    base_model, tf.keras.layers.Dense(10, activation='softmax')\n",
        "])\n",
        "digit_model.summary()"
      ],
      "metadata": {
        "colab": {
          "base_uri": "https://localhost:8080/"
        },
        "id": "B7OVu1VYUpHQ",
        "outputId": "40981541-3ea0-45d1-f10f-3ba9c2ef9731"
      },
      "execution_count": 109,
      "outputs": [
        {
          "output_type": "stream",
          "name": "stdout",
          "text": [
            "Model: \"sequential_3\"\n",
            "_________________________________________________________________\n",
            " Layer (type)                Output Shape              Param #   \n",
            "=================================================================\n",
            " base (Functional)           (None, 5408)              320       \n",
            "                                                                 \n",
            " dense_7 (Dense)             (None, 10)                54090     \n",
            "                                                                 \n",
            "=================================================================\n",
            "Total params: 54410 (212.54 KB)\n",
            "Trainable params: 54410 (212.54 KB)\n",
            "Non-trainable params: 0 (0.00 Byte)\n",
            "_________________________________________________________________\n"
          ]
        }
      ]
    },
    {
      "cell_type": "code",
      "source": [
        "tf.keras.utils.plot_model(digit_model, show_shapes=True, show_layer_names=True, to_file='digit_model.png')"
      ],
      "metadata": {
        "colab": {
          "base_uri": "https://localhost:8080/",
          "height": 312
        },
        "id": "22rnAZ54UqdA",
        "outputId": "458860a1-b71a-42ac-9d1e-35caf38a13e3"
      },
      "execution_count": 110,
      "outputs": [
        {
          "output_type": "execute_result",
          "data": {
            "image/png": "[encoded data removed]",
            "text/plain": [
              "<IPython.core.display.Image object>"
            ]
          },
          "metadata": {},
          "execution_count": 110
        }
      ]
    },
    {
      "cell_type": "code",
      "source": [
        "# 모델 컴파일\n",
        "digit_model.compile(optimizer='adam', loss='sparse_categorical_crossentropy', metrics=['accuracy'])\n",
        "\n",
        "# 모델 훈련\n",
        "history = digit_model.fit(x_train_in, y_train, validation_data=(x_valid_in, y_valid), epochs=10)"
      ],
      "metadata": {
        "colab": {
          "base_uri": "https://localhost:8080/"
        },
        "id": "-ZERcCYeUsti",
        "outputId": "bb148156-d3bd-4fb6-d804-7eea266d3e26"
      },
      "execution_count": 111,
      "outputs": [
        {
          "output_type": "stream",
          "name": "stdout",
          "text": [
            "Epoch 1/10\n",
            "1875/1875 [==============================] - 28s 14ms/step - loss: 0.1297 - accuracy: 0.9633 - val_loss: 0.0621 - val_accuracy: 0.9805\n",
            "Epoch 2/10\n",
            "1875/1875 [==============================] - 27s 14ms/step - loss: 0.0568 - accuracy: 0.9827 - val_loss: 0.0585 - val_accuracy: 0.9816\n",
            "Epoch 3/10\n",
            "1875/1875 [==============================] - 27s 14ms/step - loss: 0.0444 - accuracy: 0.9864 - val_loss: 0.0521 - val_accuracy: 0.9837\n",
            "Epoch 4/10\n",
            "1875/1875 [==============================] - 27s 15ms/step - loss: 0.0357 - accuracy: 0.9887 - val_loss: 0.0591 - val_accuracy: 0.9800\n",
            "Epoch 5/10\n",
            "1875/1875 [==============================] - 27s 14ms/step - loss: 0.0294 - accuracy: 0.9911 - val_loss: 0.0504 - val_accuracy: 0.9842\n",
            "Epoch 6/10\n",
            "1875/1875 [==============================] - 27s 14ms/step - loss: 0.0238 - accuracy: 0.9927 - val_loss: 0.0586 - val_accuracy: 0.9815\n",
            "Epoch 7/10\n",
            "1875/1875 [==============================] - 27s 15ms/step - loss: 0.0208 - accuracy: 0.9940 - val_loss: 0.0539 - val_accuracy: 0.9849\n",
            "Epoch 8/10\n",
            "1875/1875 [==============================] - 26s 14ms/step - loss: 0.0167 - accuracy: 0.9948 - val_loss: 0.0600 - val_accuracy: 0.9825\n",
            "Epoch 9/10\n",
            "1875/1875 [==============================] - 27s 14ms/step - loss: 0.0142 - accuracy: 0.9960 - val_loss: 0.0622 - val_accuracy: 0.9830\n",
            "Epoch 10/10\n",
            "1875/1875 [==============================] - 26s 14ms/step - loss: 0.0123 - accuracy: 0.9963 - val_loss: 0.0625 - val_accuracy: 0.9845\n"
          ]
        }
      ]
    },
    {
      "cell_type": "markdown",
      "source": [
        "모델 인스턴스는 trainable 속성을 갖고 있다. 이 속성을 False로 지정하면 모델의 파라미터 값이 고정되어 훈련을 통해서 업데이터 되지 않는다."
      ],
      "metadata": {
        "id": "G8WovYycbFbp"
      }
    },
    {
      "cell_type": "code",
      "source": [
        "# 베이스 모델의 가중치 고정(Freeze Model)\n",
        "\n",
        "base_model_frozen = tf.keras.models.Model(inputs = model.input, outputs = base_model_output, name = 'base_frozen')\n",
        "base_model_frozen.trainable = False\n",
        "base_model_frozen.summary()"
      ],
      "metadata": {
        "colab": {
          "base_uri": "https://localhost:8080/"
        },
        "id": "rW5aCVjFUu32",
        "outputId": "de74a2cb-5f77-4cff-b2b0-ceebba436efb"
      },
      "execution_count": 112,
      "outputs": [
        {
          "output_type": "stream",
          "name": "stdout",
          "text": [
            "Model: \"base_frozen\"\n",
            "_________________________________________________________________\n",
            " Layer (type)                Output Shape              Param #   \n",
            "=================================================================\n",
            " inputs (InputLayer)         [(None, 28, 28, 1)]       0         \n",
            "                                                                 \n",
            " conv2d_layer (Conv2D)       (None, 26, 26, 32)        320       \n",
            "                                                                 \n",
            " maxpool_layer (MaxPooling2  (None, 13, 13, 32)        0         \n",
            " D)                                                              \n",
            "                                                                 \n",
            " flatten_layer (Flatten)     (None, 5408)              0         \n",
            "                                                                 \n",
            "=================================================================\n",
            "Total params: 320 (1.25 KB)\n",
            "Trainable params: 0 (0.00 Byte)\n",
            "Non-trainable params: 320 (1.25 KB)\n",
            "_________________________________________________________________\n"
          ]
        }
      ]
    },
    {
      "cell_type": "code",
      "source": [
        "# Functional API 적용\n",
        "dense_output = tf.keras.layers.Dense(10, activation='softmax')(base_model_frozen.output)\n",
        "digit_model_frozen = tf.keras.models.Model(inputs = base_model_frozen.input, outputs = dense_output)\n",
        "digit_model_frozen.summary()"
      ],
      "metadata": {
        "colab": {
          "base_uri": "https://localhost:8080/"
        },
        "id": "NFK1lcI1Uwqz",
        "outputId": "845e7631-9908-491c-fef3-d46aa22d3cd8"
      },
      "execution_count": 113,
      "outputs": [
        {
          "output_type": "stream",
          "name": "stdout",
          "text": [
            "Model: \"model_8\"\n",
            "_________________________________________________________________\n",
            " Layer (type)                Output Shape              Param #   \n",
            "=================================================================\n",
            " inputs (InputLayer)         [(None, 28, 28, 1)]       0         \n",
            "                                                                 \n",
            " conv2d_layer (Conv2D)       (None, 26, 26, 32)        320       \n",
            "                                                                 \n",
            " maxpool_layer (MaxPooling2  (None, 13, 13, 32)        0         \n",
            " D)                                                              \n",
            "                                                                 \n",
            " flatten_layer (Flatten)     (None, 5408)              0         \n",
            "                                                                 \n",
            " dense_8 (Dense)             (None, 10)                54090     \n",
            "                                                                 \n",
            "=================================================================\n",
            "Total params: 54410 (212.54 KB)\n",
            "Trainable params: 54090 (211.29 KB)\n",
            "Non-trainable params: 320 (1.25 KB)\n",
            "_________________________________________________________________\n"
          ]
        }
      ]
    },
    {
      "cell_type": "code",
      "source": [
        "# 모델 컴파일\n",
        "digit_model_frozen.compile(optimizer='adam', loss='sparse_categorical_crossentropy', metrics=['accuracy'])\n",
        "\n",
        "# 모델 훈련\n",
        "history = digit_model_frozen.fit(x_train_in, y_train, validation_data=(x_valid_in, y_valid), epochs=10)"
      ],
      "metadata": {
        "colab": {
          "base_uri": "https://localhost:8080/"
        },
        "id": "FDasI3nXUys_",
        "outputId": "12487e2a-b106-4269-fada-007edadc731b"
      },
      "execution_count": 114,
      "outputs": [
        {
          "output_type": "stream",
          "name": "stdout",
          "text": [
            "Epoch 1/10\n",
            "1875/1875 [==============================] - 14s 7ms/step - loss: 0.1156 - accuracy: 0.9689 - val_loss: 0.0565 - val_accuracy: 0.9817\n",
            "Epoch 2/10\n",
            "1875/1875 [==============================] - 13s 7ms/step - loss: 0.0499 - accuracy: 0.9855 - val_loss: 0.0465 - val_accuracy: 0.9853\n",
            "Epoch 3/10\n",
            "1875/1875 [==============================] - 14s 7ms/step - loss: 0.0365 - accuracy: 0.9891 - val_loss: 0.0504 - val_accuracy: 0.9845\n",
            "Epoch 4/10\n",
            "1875/1875 [==============================] - 14s 7ms/step - loss: 0.0285 - accuracy: 0.9914 - val_loss: 0.0488 - val_accuracy: 0.9849\n",
            "Epoch 5/10\n",
            "1875/1875 [==============================] - 14s 8ms/step - loss: 0.0236 - accuracy: 0.9927 - val_loss: 0.0620 - val_accuracy: 0.9815\n",
            "Epoch 6/10\n",
            "1875/1875 [==============================] - 15s 8ms/step - loss: 0.0188 - accuracy: 0.9946 - val_loss: 0.0554 - val_accuracy: 0.9836\n",
            "Epoch 7/10\n",
            "1875/1875 [==============================] - 15s 8ms/step - loss: 0.0157 - accuracy: 0.9951 - val_loss: 0.0531 - val_accuracy: 0.9847\n",
            "Epoch 8/10\n",
            "1875/1875 [==============================] - 13s 7ms/step - loss: 0.0130 - accuracy: 0.9962 - val_loss: 0.0581 - val_accuracy: 0.9838\n",
            "Epoch 9/10\n",
            "1875/1875 [==============================] - 15s 8ms/step - loss: 0.0105 - accuracy: 0.9970 - val_loss: 0.0550 - val_accuracy: 0.9844\n",
            "Epoch 10/10\n",
            "1875/1875 [==============================] - 14s 7ms/step - loss: 0.0096 - accuracy: 0.9971 - val_loss: 0.0556 - val_accuracy: 0.9855\n"
          ]
        }
      ]
    },
    {
      "cell_type": "markdown",
      "source": [
        "모델 전체가 아니라 특정 레이어를 지정하여 파라미터가 업데이트되지 않도록 고정할 수도 있다."
      ],
      "metadata": {
        "id": "dCuC0N0ubZ3w"
      }
    },
    {
      "cell_type": "code",
      "source": [
        "# 베이스 모델의 Conv2D 레이어의 가중치만 고정(Freeze Layer)\n",
        "base_model_frozen2 = tf.keras.models.Model(inputs = model.input, outputs = base_model_output, name = 'base_frozen2')\n",
        "base_model_frozen2.get_layer('conv2d_layer').trainable=False\n",
        "base_model_frozen2.summary()"
      ],
      "metadata": {
        "colab": {
          "base_uri": "https://localhost:8080/"
        },
        "id": "vOvUNAZ2U0eE",
        "outputId": "dcb5d92c-5f7d-4171-c889-a5c5c3289bbb"
      },
      "execution_count": 115,
      "outputs": [
        {
          "output_type": "stream",
          "name": "stdout",
          "text": [
            "Model: \"base_frozen2\"\n",
            "_________________________________________________________________\n",
            " Layer (type)                Output Shape              Param #   \n",
            "=================================================================\n",
            " inputs (InputLayer)         [(None, 28, 28, 1)]       0         \n",
            "                                                                 \n",
            " conv2d_layer (Conv2D)       (None, 26, 26, 32)        320       \n",
            "                                                                 \n",
            " maxpool_layer (MaxPooling2  (None, 13, 13, 32)        0         \n",
            " D)                                                              \n",
            "                                                                 \n",
            " flatten_layer (Flatten)     (None, 5408)              0         \n",
            "                                                                 \n",
            "=================================================================\n",
            "Total params: 320 (1.25 KB)\n",
            "Trainable params: 0 (0.00 Byte)\n",
            "Non-trainable params: 320 (1.25 KB)\n",
            "_________________________________________________________________\n"
          ]
        }
      ]
    },
    {
      "cell_type": "markdown",
      "source": [
        "앞에서 고정한 모델에 새로운 분류기 역할을 하는 Dense 레이어를 연결하여 모델을 구성한다."
      ],
      "metadata": {
        "id": "vUax8feIbh-b"
      }
    },
    {
      "cell_type": "code",
      "source": [
        "# Functional API 적용\n",
        "dense_output2 = tf.keras.layers.Dense(10, activation='softmax')(base_model_frozen2.output)\n",
        "digit_model_frozen2 = tf.keras.models.Model(inputs = base_model_frozen2.input, outputs = dense_output2)\n",
        "digit_model_frozen2.summary()"
      ],
      "metadata": {
        "colab": {
          "base_uri": "https://localhost:8080/"
        },
        "id": "ZiDAbUOjU2Lp",
        "outputId": "7eeef651-7a85-4aa3-ce36-4d2ec104c51d"
      },
      "execution_count": 116,
      "outputs": [
        {
          "output_type": "stream",
          "name": "stdout",
          "text": [
            "Model: \"model_9\"\n",
            "_________________________________________________________________\n",
            " Layer (type)                Output Shape              Param #   \n",
            "=================================================================\n",
            " inputs (InputLayer)         [(None, 28, 28, 1)]       0         \n",
            "                                                                 \n",
            " conv2d_layer (Conv2D)       (None, 26, 26, 32)        320       \n",
            "                                                                 \n",
            " maxpool_layer (MaxPooling2  (None, 13, 13, 32)        0         \n",
            " D)                                                              \n",
            "                                                                 \n",
            " flatten_layer (Flatten)     (None, 5408)              0         \n",
            "                                                                 \n",
            " dense_9 (Dense)             (None, 10)                54090     \n",
            "                                                                 \n",
            "=================================================================\n",
            "Total params: 54410 (212.54 KB)\n",
            "Trainable params: 54090 (211.29 KB)\n",
            "Non-trainable params: 320 (1.25 KB)\n",
            "_________________________________________________________________\n"
          ]
        }
      ]
    },
    {
      "cell_type": "code",
      "source": [
        "# 모델 컴파일\n",
        "digit_model_frozen2.compile(optimizer='adam', loss='sparse_categorical_crossentropy', metrics=['accuracy'])\n",
        "\n",
        "# 모델 훈련\n",
        "history = digit_model_frozen2.fit(x_train_in, y_train, validation_data=(x_valid_in, y_valid), epochs=10)"
      ],
      "metadata": {
        "colab": {
          "base_uri": "https://localhost:8080/"
        },
        "id": "2ewUS0oXU3nq",
        "outputId": "f1907980-4462-478b-8b80-6fc9408625e5"
      },
      "execution_count": 117,
      "outputs": [
        {
          "output_type": "stream",
          "name": "stdout",
          "text": [
            "Epoch 1/10\n",
            "1875/1875 [==============================] - 14s 7ms/step - loss: 0.1149 - accuracy: 0.9690 - val_loss: 0.0579 - val_accuracy: 0.9821\n",
            "Epoch 2/10\n",
            "1875/1875 [==============================] - 13s 7ms/step - loss: 0.0491 - accuracy: 0.9853 - val_loss: 0.0542 - val_accuracy: 0.9825\n",
            "Epoch 3/10\n",
            "1875/1875 [==============================] - 13s 7ms/step - loss: 0.0363 - accuracy: 0.9887 - val_loss: 0.0490 - val_accuracy: 0.9840\n",
            "Epoch 4/10\n",
            "1875/1875 [==============================] - 15s 8ms/step - loss: 0.0288 - accuracy: 0.9913 - val_loss: 0.0513 - val_accuracy: 0.9836\n",
            "Epoch 5/10\n",
            "1875/1875 [==============================] - 15s 8ms/step - loss: 0.0229 - accuracy: 0.9926 - val_loss: 0.0517 - val_accuracy: 0.9844\n",
            "Epoch 6/10\n",
            "1875/1875 [==============================] - 13s 7ms/step - loss: 0.0183 - accuracy: 0.9943 - val_loss: 0.0552 - val_accuracy: 0.9838\n",
            "Epoch 7/10\n",
            "1875/1875 [==============================] - 13s 7ms/step - loss: 0.0160 - accuracy: 0.9949 - val_loss: 0.0554 - val_accuracy: 0.9839\n",
            "Epoch 8/10\n",
            "1875/1875 [==============================] - 13s 7ms/step - loss: 0.0129 - accuracy: 0.9961 - val_loss: 0.0554 - val_accuracy: 0.9850\n",
            "Epoch 9/10\n",
            "1875/1875 [==============================] - 15s 8ms/step - loss: 0.0110 - accuracy: 0.9968 - val_loss: 0.0605 - val_accuracy: 0.9846\n",
            "Epoch 10/10\n",
            "1875/1875 [==============================] - 15s 8ms/step - loss: 0.0093 - accuracy: 0.9975 - val_loss: 0.0625 - val_accuracy: 0.9840\n"
          ]
        }
      ]
    }
  ]
}